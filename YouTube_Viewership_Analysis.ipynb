{
  "nbformat": 4,
  "nbformat_minor": 0,
  "metadata": {
    "colab": {
      "name": "YouTube_Viewership_Analysis",
      "provenance": [],
      "collapsed_sections": [],
      "include_colab_link": true
    },
    "kernelspec": {
      "name": "python3",
      "display_name": "Python 3"
    }
  },
  "cells": [
    {
      "cell_type": "markdown",
      "metadata": {
        "id": "view-in-github",
        "colab_type": "text"
      },
      "source": [
        "<a href=\"https://colab.research.google.com/github/tomeliud/Hypothesis-testing-on-YouTube-viewership-weekend-views-versus-weekday-views-/blob/master/YouTube_Viewership_Analysis.ipynb\" target=\"_parent\"><img src=\"https://colab.research.google.com/assets/colab-badge.svg\" alt=\"Open In Colab\"/></a>"
      ]
    },
    {
      "cell_type": "markdown",
      "metadata": {
        "id": "UDNqhLIrbscn",
        "colab_type": "text"
      },
      "source": [
        "## Introduction"
      ]
    },
    {
      "cell_type": "markdown",
      "metadata": {
        "id": "Yrsrtt4jt6Re",
        "colab_type": "text"
      },
      "source": [
        "**Tribe Digital Agency** has a significant following on Youtube. We would like to maximise our Youtube digital platform as a means of marketing through uploading product videos. Using the Youtube data on popular youtubers, we would like to know when it’s optimum to publish our videos so as to increase our viewership, brand awareness, social engagement and business development.\n",
        "\n",
        "**Research Question**\n",
        "\n",
        "We would like to know when it’s optimum to publish our videos so as to increase our viewership, brand awareness, social engagement and business development.\n",
        "\n",
        "**Metric of success**\n",
        "\n",
        "We measure our success through answering the following questions:\n",
        "\n",
        "*   Do we reject our null hypothesis in favour of the alternative.\n",
        "\n",
        "*   Which were the common words used in titles of videos that went on to trend.\n",
        "\n",
        "*   Is there a correlation between the number of views and the number of likes of trending videos\n",
        "*   Approximately how many characters were in the titles of videos that went on to trend.\n",
        "\n",
        "\n",
        "\n",
        "**Hypothesis statement**\n",
        "\n",
        "*Null Hypothesis*\n",
        "> **Ho**:Videos released over the weekend have greater views on average than the ones released on weekdays\n",
        "\n",
        "*Alternative Hypothesis*\n",
        "> **Ha**: There’s no difference in viewership between videos released on weekdays and weekends\n",
        "\n",
        "**The source of the dataset**\n",
        "\n",
        "\n",
        "> [[ Link ]](https://www.kaggle.com/datasnaek/youtube-new?select=USvideos.csv)\n",
        "\n",
        "\n",
        "\n",
        "\n"
      ]
    },
    {
      "cell_type": "markdown",
      "metadata": {
        "id": "l4gN-4plEOQE",
        "colab_type": "text"
      },
      "source": [
        "## Import the libraries"
      ]
    },
    {
      "cell_type": "code",
      "metadata": {
        "id": "tphYIiTiyz3S",
        "colab_type": "code",
        "colab": {}
      },
      "source": [
        "import numpy as np\n",
        "import pandas as pd\n",
        "import matplotlib.pyplot as plt\n",
        "import seaborn as sns\n",
        "%matplotlib inline"
      ],
      "execution_count": null,
      "outputs": []
    },
    {
      "cell_type": "code",
      "metadata": {
        "id": "iZn6OnO6EaJq",
        "colab_type": "code",
        "colab": {
          "base_uri": "https://localhost:8080/",
          "height": 513
        },
        "outputId": "06c46e2c-2623-4afd-f50c-2ef4d41cc534"
      },
      "source": [
        "# reading in the file using pandas read_csv function\n",
        "df = pd.read_csv('youtube-data.csv')\n",
        "\n",
        "# viewing the top 5 data\n",
        "df.head()"
      ],
      "execution_count": null,
      "outputs": [
        {
          "output_type": "execute_result",
          "data": {
            "text/html": [
              "<div>\n",
              "<style scoped>\n",
              "    .dataframe tbody tr th:only-of-type {\n",
              "        vertical-align: middle;\n",
              "    }\n",
              "\n",
              "    .dataframe tbody tr th {\n",
              "        vertical-align: top;\n",
              "    }\n",
              "\n",
              "    .dataframe thead th {\n",
              "        text-align: right;\n",
              "    }\n",
              "</style>\n",
              "<table border=\"1\" class=\"dataframe\">\n",
              "  <thead>\n",
              "    <tr style=\"text-align: right;\">\n",
              "      <th></th>\n",
              "      <th>video_id</th>\n",
              "      <th>trending_date</th>\n",
              "      <th>title</th>\n",
              "      <th>channel_title</th>\n",
              "      <th>category_id</th>\n",
              "      <th>publish_time</th>\n",
              "      <th>tags</th>\n",
              "      <th>views</th>\n",
              "      <th>likes</th>\n",
              "      <th>dislikes</th>\n",
              "      <th>comment_count</th>\n",
              "      <th>thumbnail_link</th>\n",
              "      <th>comments_disabled</th>\n",
              "      <th>ratings_disabled</th>\n",
              "      <th>video_error_or_removed</th>\n",
              "      <th>description</th>\n",
              "    </tr>\n",
              "  </thead>\n",
              "  <tbody>\n",
              "    <tr>\n",
              "      <th>0</th>\n",
              "      <td>2kyS6SvSYSE</td>\n",
              "      <td>17.14.11</td>\n",
              "      <td>WE WANT TO TALK ABOUT OUR MARRIAGE</td>\n",
              "      <td>CaseyNeistat</td>\n",
              "      <td>22</td>\n",
              "      <td>2017-11-13T17:13:01.000Z</td>\n",
              "      <td>SHANtell martin</td>\n",
              "      <td>748374</td>\n",
              "      <td>57527</td>\n",
              "      <td>2966</td>\n",
              "      <td>15954</td>\n",
              "      <td>https://i.ytimg.com/vi/2kyS6SvSYSE/default.jpg</td>\n",
              "      <td>False</td>\n",
              "      <td>False</td>\n",
              "      <td>False</td>\n",
              "      <td>SHANTELL'S CHANNEL - https://www.youtube.com/s...</td>\n",
              "    </tr>\n",
              "    <tr>\n",
              "      <th>1</th>\n",
              "      <td>1ZAPwfrtAFY</td>\n",
              "      <td>17.14.11</td>\n",
              "      <td>The Trump Presidency: Last Week Tonight with J...</td>\n",
              "      <td>LastWeekTonight</td>\n",
              "      <td>24</td>\n",
              "      <td>2017-11-13T07:30:00.000Z</td>\n",
              "      <td>last week tonight trump presidency|\"last week ...</td>\n",
              "      <td>2418783</td>\n",
              "      <td>97185</td>\n",
              "      <td>6146</td>\n",
              "      <td>12703</td>\n",
              "      <td>https://i.ytimg.com/vi/1ZAPwfrtAFY/default.jpg</td>\n",
              "      <td>False</td>\n",
              "      <td>False</td>\n",
              "      <td>False</td>\n",
              "      <td>One year after the presidential election, John...</td>\n",
              "    </tr>\n",
              "    <tr>\n",
              "      <th>2</th>\n",
              "      <td>5qpjK5DgCt4</td>\n",
              "      <td>17.14.11</td>\n",
              "      <td>Racist Superman | Rudy Mancuso, King Bach &amp; Le...</td>\n",
              "      <td>Rudy Mancuso</td>\n",
              "      <td>23</td>\n",
              "      <td>2017-11-12T19:05:24.000Z</td>\n",
              "      <td>racist superman|\"rudy\"|\"mancuso\"|\"king\"|\"bach\"...</td>\n",
              "      <td>3191434</td>\n",
              "      <td>146033</td>\n",
              "      <td>5339</td>\n",
              "      <td>8181</td>\n",
              "      <td>https://i.ytimg.com/vi/5qpjK5DgCt4/default.jpg</td>\n",
              "      <td>False</td>\n",
              "      <td>False</td>\n",
              "      <td>False</td>\n",
              "      <td>WATCH MY PREVIOUS VIDEO ▶ \\n\\nSUBSCRIBE ► http...</td>\n",
              "    </tr>\n",
              "    <tr>\n",
              "      <th>3</th>\n",
              "      <td>puqaWrEC7tY</td>\n",
              "      <td>17.14.11</td>\n",
              "      <td>Nickelback Lyrics: Real or Fake?</td>\n",
              "      <td>Good Mythical Morning</td>\n",
              "      <td>24</td>\n",
              "      <td>2017-11-13T11:00:04.000Z</td>\n",
              "      <td>rhett and link|\"gmm\"|\"good mythical morning\"|\"...</td>\n",
              "      <td>343168</td>\n",
              "      <td>10172</td>\n",
              "      <td>666</td>\n",
              "      <td>2146</td>\n",
              "      <td>https://i.ytimg.com/vi/puqaWrEC7tY/default.jpg</td>\n",
              "      <td>False</td>\n",
              "      <td>False</td>\n",
              "      <td>False</td>\n",
              "      <td>Today we find out if Link is a Nickelback amat...</td>\n",
              "    </tr>\n",
              "    <tr>\n",
              "      <th>4</th>\n",
              "      <td>d380meD0W0M</td>\n",
              "      <td>17.14.11</td>\n",
              "      <td>I Dare You: GOING BALD!?</td>\n",
              "      <td>nigahiga</td>\n",
              "      <td>24</td>\n",
              "      <td>2017-11-12T18:01:41.000Z</td>\n",
              "      <td>ryan|\"higa\"|\"higatv\"|\"nigahiga\"|\"i dare you\"|\"...</td>\n",
              "      <td>2095731</td>\n",
              "      <td>132235</td>\n",
              "      <td>1989</td>\n",
              "      <td>17518</td>\n",
              "      <td>https://i.ytimg.com/vi/d380meD0W0M/default.jpg</td>\n",
              "      <td>False</td>\n",
              "      <td>False</td>\n",
              "      <td>False</td>\n",
              "      <td>I know it's been a while since we did this sho...</td>\n",
              "    </tr>\n",
              "  </tbody>\n",
              "</table>\n",
              "</div>"
            ],
            "text/plain": [
              "      video_id  ...                                        description\n",
              "0  2kyS6SvSYSE  ...  SHANTELL'S CHANNEL - https://www.youtube.com/s...\n",
              "1  1ZAPwfrtAFY  ...  One year after the presidential election, John...\n",
              "2  5qpjK5DgCt4  ...  WATCH MY PREVIOUS VIDEO ▶ \\n\\nSUBSCRIBE ► http...\n",
              "3  puqaWrEC7tY  ...  Today we find out if Link is a Nickelback amat...\n",
              "4  d380meD0W0M  ...  I know it's been a while since we did this sho...\n",
              "\n",
              "[5 rows x 16 columns]"
            ]
          },
          "metadata": {
            "tags": []
          },
          "execution_count": 48
        }
      ]
    },
    {
      "cell_type": "code",
      "metadata": {
        "id": "7R3jMDj8EaUY",
        "colab_type": "code",
        "colab": {
          "base_uri": "https://localhost:8080/",
          "height": 547
        },
        "outputId": "2df01be8-851d-49ce-8166-2cb6f15859f8"
      },
      "source": [
        "# viewing the bottom 5 data\n",
        "df.tail()"
      ],
      "execution_count": null,
      "outputs": [
        {
          "output_type": "execute_result",
          "data": {
            "text/html": [
              "<div>\n",
              "<style scoped>\n",
              "    .dataframe tbody tr th:only-of-type {\n",
              "        vertical-align: middle;\n",
              "    }\n",
              "\n",
              "    .dataframe tbody tr th {\n",
              "        vertical-align: top;\n",
              "    }\n",
              "\n",
              "    .dataframe thead th {\n",
              "        text-align: right;\n",
              "    }\n",
              "</style>\n",
              "<table border=\"1\" class=\"dataframe\">\n",
              "  <thead>\n",
              "    <tr style=\"text-align: right;\">\n",
              "      <th></th>\n",
              "      <th>video_id</th>\n",
              "      <th>trending_date</th>\n",
              "      <th>title</th>\n",
              "      <th>channel_title</th>\n",
              "      <th>category_id</th>\n",
              "      <th>publish_time</th>\n",
              "      <th>tags</th>\n",
              "      <th>views</th>\n",
              "      <th>likes</th>\n",
              "      <th>dislikes</th>\n",
              "      <th>comment_count</th>\n",
              "      <th>thumbnail_link</th>\n",
              "      <th>comments_disabled</th>\n",
              "      <th>ratings_disabled</th>\n",
              "      <th>video_error_or_removed</th>\n",
              "      <th>description</th>\n",
              "    </tr>\n",
              "  </thead>\n",
              "  <tbody>\n",
              "    <tr>\n",
              "      <th>40944</th>\n",
              "      <td>BZt0qjTWNhw</td>\n",
              "      <td>18.14.06</td>\n",
              "      <td>The Cat Who Caught the Laser</td>\n",
              "      <td>AaronsAnimals</td>\n",
              "      <td>15</td>\n",
              "      <td>2018-05-18T13:00:04.000Z</td>\n",
              "      <td>aarons animals|\"aarons\"|\"animals\"|\"cat\"|\"cats\"...</td>\n",
              "      <td>1685609</td>\n",
              "      <td>38160</td>\n",
              "      <td>1385</td>\n",
              "      <td>2657</td>\n",
              "      <td>https://i.ytimg.com/vi/BZt0qjTWNhw/default.jpg</td>\n",
              "      <td>False</td>\n",
              "      <td>False</td>\n",
              "      <td>False</td>\n",
              "      <td>The Cat Who Caught the Laser - Aaron's Animals</td>\n",
              "    </tr>\n",
              "    <tr>\n",
              "      <th>40945</th>\n",
              "      <td>1h7KV2sjUWY</td>\n",
              "      <td>18.14.06</td>\n",
              "      <td>True Facts : Ant Mutualism</td>\n",
              "      <td>zefrank1</td>\n",
              "      <td>22</td>\n",
              "      <td>2018-05-18T01:00:06.000Z</td>\n",
              "      <td>[none]</td>\n",
              "      <td>1064798</td>\n",
              "      <td>60008</td>\n",
              "      <td>382</td>\n",
              "      <td>3936</td>\n",
              "      <td>https://i.ytimg.com/vi/1h7KV2sjUWY/default.jpg</td>\n",
              "      <td>False</td>\n",
              "      <td>False</td>\n",
              "      <td>False</td>\n",
              "      <td>NaN</td>\n",
              "    </tr>\n",
              "    <tr>\n",
              "      <th>40946</th>\n",
              "      <td>D6Oy4LfoqsU</td>\n",
              "      <td>18.14.06</td>\n",
              "      <td>I GAVE SAFIYA NYGAARD A PERFECT HAIR MAKEOVER ...</td>\n",
              "      <td>Brad Mondo</td>\n",
              "      <td>24</td>\n",
              "      <td>2018-05-18T17:34:22.000Z</td>\n",
              "      <td>I gave safiya nygaard a perfect hair makeover ...</td>\n",
              "      <td>1066451</td>\n",
              "      <td>48068</td>\n",
              "      <td>1032</td>\n",
              "      <td>3992</td>\n",
              "      <td>https://i.ytimg.com/vi/D6Oy4LfoqsU/default.jpg</td>\n",
              "      <td>False</td>\n",
              "      <td>False</td>\n",
              "      <td>False</td>\n",
              "      <td>I had so much fun transforming Safiyas hair in...</td>\n",
              "    </tr>\n",
              "    <tr>\n",
              "      <th>40947</th>\n",
              "      <td>oV0zkMe1K8s</td>\n",
              "      <td>18.14.06</td>\n",
              "      <td>How Black Panther Should Have Ended</td>\n",
              "      <td>How It Should Have Ended</td>\n",
              "      <td>1</td>\n",
              "      <td>2018-05-17T17:00:04.000Z</td>\n",
              "      <td>Black Panther|\"HISHE\"|\"Marvel\"|\"Infinity War\"|...</td>\n",
              "      <td>5660813</td>\n",
              "      <td>192957</td>\n",
              "      <td>2846</td>\n",
              "      <td>13088</td>\n",
              "      <td>https://i.ytimg.com/vi/oV0zkMe1K8s/default.jpg</td>\n",
              "      <td>False</td>\n",
              "      <td>False</td>\n",
              "      <td>False</td>\n",
              "      <td>How Black Panther Should Have EndedWatch More ...</td>\n",
              "    </tr>\n",
              "    <tr>\n",
              "      <th>40948</th>\n",
              "      <td>ooyjaVdt-jA</td>\n",
              "      <td>18.14.06</td>\n",
              "      <td>Official Call of Duty®: Black Ops 4 — Multipla...</td>\n",
              "      <td>Call of Duty</td>\n",
              "      <td>20</td>\n",
              "      <td>2018-05-17T17:09:38.000Z</td>\n",
              "      <td>call of duty|\"cod\"|\"activision\"|\"Black Ops 4\"</td>\n",
              "      <td>10306119</td>\n",
              "      <td>357079</td>\n",
              "      <td>212976</td>\n",
              "      <td>144795</td>\n",
              "      <td>https://i.ytimg.com/vi/ooyjaVdt-jA/default.jpg</td>\n",
              "      <td>False</td>\n",
              "      <td>False</td>\n",
              "      <td>False</td>\n",
              "      <td>Call of Duty: Black Ops 4 Multiplayer raises t...</td>\n",
              "    </tr>\n",
              "  </tbody>\n",
              "</table>\n",
              "</div>"
            ],
            "text/plain": [
              "          video_id  ...                                        description\n",
              "40944  BZt0qjTWNhw  ...     The Cat Who Caught the Laser - Aaron's Animals\n",
              "40945  1h7KV2sjUWY  ...                                                NaN\n",
              "40946  D6Oy4LfoqsU  ...  I had so much fun transforming Safiyas hair in...\n",
              "40947  oV0zkMe1K8s  ...  How Black Panther Should Have EndedWatch More ...\n",
              "40948  ooyjaVdt-jA  ...  Call of Duty: Black Ops 4 Multiplayer raises t...\n",
              "\n",
              "[5 rows x 16 columns]"
            ]
          },
          "metadata": {
            "tags": []
          },
          "execution_count": 49
        }
      ]
    },
    {
      "cell_type": "code",
      "metadata": {
        "id": "lsTq8NVA7p3v",
        "colab_type": "code",
        "colab": {
          "base_uri": "https://localhost:8080/",
          "height": 34
        },
        "outputId": "c74f91ca-d842-4e5a-e0a3-efa578d09b8f"
      },
      "source": [
        "# getting the shape of the dataframe\n",
        "print(f\"The dataset has {df.shape[0]} rows and {df.shape[1]} columns.\")"
      ],
      "execution_count": null,
      "outputs": [
        {
          "output_type": "stream",
          "text": [
            "The dataset has 40949 rows and 16 columns.\n"
          ],
          "name": "stdout"
        }
      ]
    },
    {
      "cell_type": "code",
      "metadata": {
        "id": "YytGumv970u-",
        "colab_type": "code",
        "colab": {
          "base_uri": "https://localhost:8080/",
          "height": 306
        },
        "outputId": "0421bf4d-7aff-4a1a-8d42-656be80adac3"
      },
      "source": [
        "# unique columns\n",
        "df.nunique()"
      ],
      "execution_count": null,
      "outputs": [
        {
          "output_type": "execute_result",
          "data": {
            "text/plain": [
              "video_id                   6351\n",
              "trending_date               205\n",
              "title                      6455\n",
              "channel_title              2207\n",
              "category_id                  16\n",
              "publish_time               6269\n",
              "tags                       6055\n",
              "views                     40478\n",
              "likes                     29850\n",
              "dislikes                   8516\n",
              "comment_count             13773\n",
              "thumbnail_link             6352\n",
              "comments_disabled             2\n",
              "ratings_disabled              2\n",
              "video_error_or_removed        2\n",
              "description                6901\n",
              "dtype: int64"
            ]
          },
          "metadata": {
            "tags": []
          },
          "execution_count": 51
        }
      ]
    },
    {
      "cell_type": "code",
      "metadata": {
        "id": "l4tr2948Hl1Q",
        "colab_type": "code",
        "colab": {
          "base_uri": "https://localhost:8080/",
          "height": 408
        },
        "outputId": "87685c49-296a-4a6a-a352-dcaf96b12280"
      },
      "source": [
        "# Accessing the data to know more about it.\n",
        "df.info()"
      ],
      "execution_count": null,
      "outputs": [
        {
          "output_type": "stream",
          "text": [
            "<class 'pandas.core.frame.DataFrame'>\n",
            "RangeIndex: 40949 entries, 0 to 40948\n",
            "Data columns (total 16 columns):\n",
            " #   Column                  Non-Null Count  Dtype \n",
            "---  ------                  --------------  ----- \n",
            " 0   video_id                40949 non-null  object\n",
            " 1   trending_date           40949 non-null  object\n",
            " 2   title                   40949 non-null  object\n",
            " 3   channel_title           40949 non-null  object\n",
            " 4   category_id             40949 non-null  int64 \n",
            " 5   publish_time            40949 non-null  object\n",
            " 6   tags                    40949 non-null  object\n",
            " 7   views                   40949 non-null  int64 \n",
            " 8   likes                   40949 non-null  int64 \n",
            " 9   dislikes                40949 non-null  int64 \n",
            " 10  comment_count           40949 non-null  int64 \n",
            " 11  thumbnail_link          40949 non-null  object\n",
            " 12  comments_disabled       40949 non-null  bool  \n",
            " 13  ratings_disabled        40949 non-null  bool  \n",
            " 14  video_error_or_removed  40949 non-null  bool  \n",
            " 15  description             40379 non-null  object\n",
            "dtypes: bool(3), int64(5), object(8)\n",
            "memory usage: 4.2+ MB\n"
          ],
          "name": "stdout"
        }
      ]
    },
    {
      "cell_type": "code",
      "metadata": {
        "id": "zr_dsfu2Hyn2",
        "colab_type": "code",
        "colab": {
          "base_uri": "https://localhost:8080/",
          "height": 297
        },
        "outputId": "456b58f0-6723-4a9c-c941-db537d935f54"
      },
      "source": [
        "# summary statistical description of our dataset\n",
        "pd.options.display.float_format = \"{:.3f}\".format # supress the scientific format\n",
        "df.describe()"
      ],
      "execution_count": null,
      "outputs": [
        {
          "output_type": "execute_result",
          "data": {
            "text/html": [
              "<div>\n",
              "<style scoped>\n",
              "    .dataframe tbody tr th:only-of-type {\n",
              "        vertical-align: middle;\n",
              "    }\n",
              "\n",
              "    .dataframe tbody tr th {\n",
              "        vertical-align: top;\n",
              "    }\n",
              "\n",
              "    .dataframe thead th {\n",
              "        text-align: right;\n",
              "    }\n",
              "</style>\n",
              "<table border=\"1\" class=\"dataframe\">\n",
              "  <thead>\n",
              "    <tr style=\"text-align: right;\">\n",
              "      <th></th>\n",
              "      <th>category_id</th>\n",
              "      <th>views</th>\n",
              "      <th>likes</th>\n",
              "      <th>dislikes</th>\n",
              "      <th>comment_count</th>\n",
              "    </tr>\n",
              "  </thead>\n",
              "  <tbody>\n",
              "    <tr>\n",
              "      <th>count</th>\n",
              "      <td>40949.000</td>\n",
              "      <td>40949.000</td>\n",
              "      <td>40949.000</td>\n",
              "      <td>40949.000</td>\n",
              "      <td>40949.000</td>\n",
              "    </tr>\n",
              "    <tr>\n",
              "      <th>mean</th>\n",
              "      <td>19.972</td>\n",
              "      <td>2360784.638</td>\n",
              "      <td>74266.702</td>\n",
              "      <td>3711.401</td>\n",
              "      <td>8446.804</td>\n",
              "    </tr>\n",
              "    <tr>\n",
              "      <th>std</th>\n",
              "      <td>7.568</td>\n",
              "      <td>7394113.760</td>\n",
              "      <td>228885.338</td>\n",
              "      <td>29029.706</td>\n",
              "      <td>37430.487</td>\n",
              "    </tr>\n",
              "    <tr>\n",
              "      <th>min</th>\n",
              "      <td>1.000</td>\n",
              "      <td>549.000</td>\n",
              "      <td>0.000</td>\n",
              "      <td>0.000</td>\n",
              "      <td>0.000</td>\n",
              "    </tr>\n",
              "    <tr>\n",
              "      <th>25%</th>\n",
              "      <td>17.000</td>\n",
              "      <td>242329.000</td>\n",
              "      <td>5424.000</td>\n",
              "      <td>202.000</td>\n",
              "      <td>614.000</td>\n",
              "    </tr>\n",
              "    <tr>\n",
              "      <th>50%</th>\n",
              "      <td>24.000</td>\n",
              "      <td>681861.000</td>\n",
              "      <td>18091.000</td>\n",
              "      <td>631.000</td>\n",
              "      <td>1856.000</td>\n",
              "    </tr>\n",
              "    <tr>\n",
              "      <th>75%</th>\n",
              "      <td>25.000</td>\n",
              "      <td>1823157.000</td>\n",
              "      <td>55417.000</td>\n",
              "      <td>1938.000</td>\n",
              "      <td>5755.000</td>\n",
              "    </tr>\n",
              "    <tr>\n",
              "      <th>max</th>\n",
              "      <td>43.000</td>\n",
              "      <td>225211923.000</td>\n",
              "      <td>5613827.000</td>\n",
              "      <td>1674420.000</td>\n",
              "      <td>1361580.000</td>\n",
              "    </tr>\n",
              "  </tbody>\n",
              "</table>\n",
              "</div>"
            ],
            "text/plain": [
              "       category_id         views       likes    dislikes  comment_count\n",
              "count    40949.000     40949.000   40949.000   40949.000      40949.000\n",
              "mean        19.972   2360784.638   74266.702    3711.401       8446.804\n",
              "std          7.568   7394113.760  228885.338   29029.706      37430.487\n",
              "min          1.000       549.000       0.000       0.000          0.000\n",
              "25%         17.000    242329.000    5424.000     202.000        614.000\n",
              "50%         24.000    681861.000   18091.000     631.000       1856.000\n",
              "75%         25.000   1823157.000   55417.000    1938.000       5755.000\n",
              "max         43.000 225211923.000 5613827.000 1674420.000    1361580.000"
            ]
          },
          "metadata": {
            "tags": []
          },
          "execution_count": 53
        }
      ]
    },
    {
      "cell_type": "markdown",
      "metadata": {
        "id": "tva5IaZ2JZiy",
        "colab_type": "text"
      },
      "source": [
        "## Data Cleaning"
      ]
    },
    {
      "cell_type": "code",
      "metadata": {
        "id": "h3yQtqjn8Mjb",
        "colab_type": "code",
        "colab": {
          "base_uri": "https://localhost:8080/",
          "height": 34
        },
        "outputId": "2d0fdea0-14c8-49bf-bec6-2e843bda8f99"
      },
      "source": [
        "# Checking for any duplicates in the dataset\n",
        "dups=df.duplicated().any()\n",
        "dups"
      ],
      "execution_count": null,
      "outputs": [
        {
          "output_type": "execute_result",
          "data": {
            "text/plain": [
              "True"
            ]
          },
          "metadata": {
            "tags": []
          },
          "execution_count": 54
        }
      ]
    },
    {
      "cell_type": "code",
      "metadata": {
        "id": "blUWV2rQHy2L",
        "colab_type": "code",
        "colab": {
          "base_uri": "https://localhost:8080/",
          "height": 306
        },
        "outputId": "0db98b80-0759-4776-b014-73664dd74c42"
      },
      "source": [
        "# Checking the dataset for any null values\n",
        "df.isnull().any()"
      ],
      "execution_count": null,
      "outputs": [
        {
          "output_type": "execute_result",
          "data": {
            "text/plain": [
              "video_id                  False\n",
              "trending_date             False\n",
              "title                     False\n",
              "channel_title             False\n",
              "category_id               False\n",
              "publish_time              False\n",
              "tags                      False\n",
              "views                     False\n",
              "likes                     False\n",
              "dislikes                  False\n",
              "comment_count             False\n",
              "thumbnail_link            False\n",
              "comments_disabled         False\n",
              "ratings_disabled          False\n",
              "video_error_or_removed    False\n",
              "description                True\n",
              "dtype: bool"
            ]
          },
          "metadata": {
            "tags": []
          },
          "execution_count": 55
        }
      ]
    },
    {
      "cell_type": "code",
      "metadata": {
        "id": "W45euDnq8wDz",
        "colab_type": "code",
        "colab": {}
      },
      "source": [
        "# filling in the null values from the description\n",
        "df[\"description\"] = df[\"description\"].fillna(value=\"\")"
      ],
      "execution_count": null,
      "outputs": []
    },
    {
      "cell_type": "code",
      "metadata": {
        "id": "rIqTsySg8zHo",
        "colab_type": "code",
        "colab": {
          "base_uri": "https://localhost:8080/",
          "height": 306
        },
        "outputId": "01647b75-bcbf-4c4f-b77a-baabbd7c188e"
      },
      "source": [
        "# checking if the null have been sorted.\n",
        "df.isnull().any()"
      ],
      "execution_count": null,
      "outputs": [
        {
          "output_type": "execute_result",
          "data": {
            "text/plain": [
              "video_id                  False\n",
              "trending_date             False\n",
              "title                     False\n",
              "channel_title             False\n",
              "category_id               False\n",
              "publish_time              False\n",
              "tags                      False\n",
              "views                     False\n",
              "likes                     False\n",
              "dislikes                  False\n",
              "comment_count             False\n",
              "thumbnail_link            False\n",
              "comments_disabled         False\n",
              "ratings_disabled          False\n",
              "video_error_or_removed    False\n",
              "description               False\n",
              "dtype: bool"
            ]
          },
          "metadata": {
            "tags": []
          },
          "execution_count": 57
        }
      ]
    },
    {
      "cell_type": "code",
      "metadata": {
        "id": "xoBcEeHghtq7",
        "colab_type": "code",
        "colab": {
          "base_uri": "https://localhost:8080/",
          "height": 513
        },
        "outputId": "b40ac1bd-2b3b-4ed3-9232-16878f8aacfe"
      },
      "source": [
        "# Create a datetime object from the year, month and day column as well as the hour and minute column\n",
        "# Creating new columns for Date and Time using python datetime object.\n",
        "# pd.to_datetime --> Convert argument to datetime\n",
        "#\n",
        "df['publish_time'] = df['publish_time'].apply(pd.to_datetime)\n",
        "df['date'] = [d.date() for d in df['publish_time']]\n",
        "df['time'] = [t.time() for t in df['publish_time']]\n",
        "df.head()"
      ],
      "execution_count": null,
      "outputs": [
        {
          "output_type": "execute_result",
          "data": {
            "text/html": [
              "<div>\n",
              "<style scoped>\n",
              "    .dataframe tbody tr th:only-of-type {\n",
              "        vertical-align: middle;\n",
              "    }\n",
              "\n",
              "    .dataframe tbody tr th {\n",
              "        vertical-align: top;\n",
              "    }\n",
              "\n",
              "    .dataframe thead th {\n",
              "        text-align: right;\n",
              "    }\n",
              "</style>\n",
              "<table border=\"1\" class=\"dataframe\">\n",
              "  <thead>\n",
              "    <tr style=\"text-align: right;\">\n",
              "      <th></th>\n",
              "      <th>video_id</th>\n",
              "      <th>trending_date</th>\n",
              "      <th>title</th>\n",
              "      <th>channel_title</th>\n",
              "      <th>category_id</th>\n",
              "      <th>publish_time</th>\n",
              "      <th>tags</th>\n",
              "      <th>views</th>\n",
              "      <th>likes</th>\n",
              "      <th>dislikes</th>\n",
              "      <th>comment_count</th>\n",
              "      <th>thumbnail_link</th>\n",
              "      <th>comments_disabled</th>\n",
              "      <th>ratings_disabled</th>\n",
              "      <th>video_error_or_removed</th>\n",
              "      <th>description</th>\n",
              "      <th>date</th>\n",
              "      <th>time</th>\n",
              "    </tr>\n",
              "  </thead>\n",
              "  <tbody>\n",
              "    <tr>\n",
              "      <th>0</th>\n",
              "      <td>2kyS6SvSYSE</td>\n",
              "      <td>17.14.11</td>\n",
              "      <td>WE WANT TO TALK ABOUT OUR MARRIAGE</td>\n",
              "      <td>CaseyNeistat</td>\n",
              "      <td>22</td>\n",
              "      <td>2017-11-13 17:13:01+00:00</td>\n",
              "      <td>SHANtell martin</td>\n",
              "      <td>748374</td>\n",
              "      <td>57527</td>\n",
              "      <td>2966</td>\n",
              "      <td>15954</td>\n",
              "      <td>https://i.ytimg.com/vi/2kyS6SvSYSE/default.jpg</td>\n",
              "      <td>False</td>\n",
              "      <td>False</td>\n",
              "      <td>False</td>\n",
              "      <td>SHANTELL'S CHANNEL - https://www.youtube.com/s...</td>\n",
              "      <td>2017-11-13</td>\n",
              "      <td>17:13:01</td>\n",
              "    </tr>\n",
              "    <tr>\n",
              "      <th>1</th>\n",
              "      <td>1ZAPwfrtAFY</td>\n",
              "      <td>17.14.11</td>\n",
              "      <td>The Trump Presidency: Last Week Tonight with J...</td>\n",
              "      <td>LastWeekTonight</td>\n",
              "      <td>24</td>\n",
              "      <td>2017-11-13 07:30:00+00:00</td>\n",
              "      <td>last week tonight trump presidency|\"last week ...</td>\n",
              "      <td>2418783</td>\n",
              "      <td>97185</td>\n",
              "      <td>6146</td>\n",
              "      <td>12703</td>\n",
              "      <td>https://i.ytimg.com/vi/1ZAPwfrtAFY/default.jpg</td>\n",
              "      <td>False</td>\n",
              "      <td>False</td>\n",
              "      <td>False</td>\n",
              "      <td>One year after the presidential election, John...</td>\n",
              "      <td>2017-11-13</td>\n",
              "      <td>07:30:00</td>\n",
              "    </tr>\n",
              "    <tr>\n",
              "      <th>2</th>\n",
              "      <td>5qpjK5DgCt4</td>\n",
              "      <td>17.14.11</td>\n",
              "      <td>Racist Superman | Rudy Mancuso, King Bach &amp; Le...</td>\n",
              "      <td>Rudy Mancuso</td>\n",
              "      <td>23</td>\n",
              "      <td>2017-11-12 19:05:24+00:00</td>\n",
              "      <td>racist superman|\"rudy\"|\"mancuso\"|\"king\"|\"bach\"...</td>\n",
              "      <td>3191434</td>\n",
              "      <td>146033</td>\n",
              "      <td>5339</td>\n",
              "      <td>8181</td>\n",
              "      <td>https://i.ytimg.com/vi/5qpjK5DgCt4/default.jpg</td>\n",
              "      <td>False</td>\n",
              "      <td>False</td>\n",
              "      <td>False</td>\n",
              "      <td>WATCH MY PREVIOUS VIDEO ▶ \\n\\nSUBSCRIBE ► http...</td>\n",
              "      <td>2017-11-12</td>\n",
              "      <td>19:05:24</td>\n",
              "    </tr>\n",
              "    <tr>\n",
              "      <th>3</th>\n",
              "      <td>puqaWrEC7tY</td>\n",
              "      <td>17.14.11</td>\n",
              "      <td>Nickelback Lyrics: Real or Fake?</td>\n",
              "      <td>Good Mythical Morning</td>\n",
              "      <td>24</td>\n",
              "      <td>2017-11-13 11:00:04+00:00</td>\n",
              "      <td>rhett and link|\"gmm\"|\"good mythical morning\"|\"...</td>\n",
              "      <td>343168</td>\n",
              "      <td>10172</td>\n",
              "      <td>666</td>\n",
              "      <td>2146</td>\n",
              "      <td>https://i.ytimg.com/vi/puqaWrEC7tY/default.jpg</td>\n",
              "      <td>False</td>\n",
              "      <td>False</td>\n",
              "      <td>False</td>\n",
              "      <td>Today we find out if Link is a Nickelback amat...</td>\n",
              "      <td>2017-11-13</td>\n",
              "      <td>11:00:04</td>\n",
              "    </tr>\n",
              "    <tr>\n",
              "      <th>4</th>\n",
              "      <td>d380meD0W0M</td>\n",
              "      <td>17.14.11</td>\n",
              "      <td>I Dare You: GOING BALD!?</td>\n",
              "      <td>nigahiga</td>\n",
              "      <td>24</td>\n",
              "      <td>2017-11-12 18:01:41+00:00</td>\n",
              "      <td>ryan|\"higa\"|\"higatv\"|\"nigahiga\"|\"i dare you\"|\"...</td>\n",
              "      <td>2095731</td>\n",
              "      <td>132235</td>\n",
              "      <td>1989</td>\n",
              "      <td>17518</td>\n",
              "      <td>https://i.ytimg.com/vi/d380meD0W0M/default.jpg</td>\n",
              "      <td>False</td>\n",
              "      <td>False</td>\n",
              "      <td>False</td>\n",
              "      <td>I know it's been a while since we did this sho...</td>\n",
              "      <td>2017-11-12</td>\n",
              "      <td>18:01:41</td>\n",
              "    </tr>\n",
              "  </tbody>\n",
              "</table>\n",
              "</div>"
            ],
            "text/plain": [
              "      video_id trending_date  ...        date      time\n",
              "0  2kyS6SvSYSE      17.14.11  ...  2017-11-13  17:13:01\n",
              "1  1ZAPwfrtAFY      17.14.11  ...  2017-11-13  07:30:00\n",
              "2  5qpjK5DgCt4      17.14.11  ...  2017-11-12  19:05:24\n",
              "3  puqaWrEC7tY      17.14.11  ...  2017-11-13  11:00:04\n",
              "4  d380meD0W0M      17.14.11  ...  2017-11-12  18:01:41\n",
              "\n",
              "[5 rows x 18 columns]"
            ]
          },
          "metadata": {
            "tags": []
          },
          "execution_count": 58
        }
      ]
    },
    {
      "cell_type": "code",
      "metadata": {
        "id": "vz5Tekq-ht2N",
        "colab_type": "code",
        "colab": {
          "base_uri": "https://localhost:8080/",
          "height": 513
        },
        "outputId": "708ec491-8d48-4165-dd84-7550cbcd2c94"
      },
      "source": [
        "# creating three new columns for hours, minutes and seconds respectively.\n",
        "# create a list of the new columns ['hr','min','sec'].\n",
        "# the splitting happens occurs on the time column.\n",
        "# pandas.Series.astype --> casts a pandas object to a specified dtype dtype\n",
        "# pandas.Series.str.split --> Splits the string in the Series/Index from the beginning, at the specified delimiter string\n",
        "# expand == If True, return DataFrame/MultiIndex expanding dimensionality\n",
        "#\n",
        "df[['hr','min','sec']] = df['time'].astype(str).str.split(':', expand=True).astype(int)\n",
        "df.head()"
      ],
      "execution_count": null,
      "outputs": [
        {
          "output_type": "execute_result",
          "data": {
            "text/html": [
              "<div>\n",
              "<style scoped>\n",
              "    .dataframe tbody tr th:only-of-type {\n",
              "        vertical-align: middle;\n",
              "    }\n",
              "\n",
              "    .dataframe tbody tr th {\n",
              "        vertical-align: top;\n",
              "    }\n",
              "\n",
              "    .dataframe thead th {\n",
              "        text-align: right;\n",
              "    }\n",
              "</style>\n",
              "<table border=\"1\" class=\"dataframe\">\n",
              "  <thead>\n",
              "    <tr style=\"text-align: right;\">\n",
              "      <th></th>\n",
              "      <th>video_id</th>\n",
              "      <th>trending_date</th>\n",
              "      <th>title</th>\n",
              "      <th>channel_title</th>\n",
              "      <th>category_id</th>\n",
              "      <th>publish_time</th>\n",
              "      <th>tags</th>\n",
              "      <th>views</th>\n",
              "      <th>likes</th>\n",
              "      <th>dislikes</th>\n",
              "      <th>comment_count</th>\n",
              "      <th>thumbnail_link</th>\n",
              "      <th>comments_disabled</th>\n",
              "      <th>ratings_disabled</th>\n",
              "      <th>video_error_or_removed</th>\n",
              "      <th>description</th>\n",
              "      <th>date</th>\n",
              "      <th>time</th>\n",
              "      <th>hr</th>\n",
              "      <th>min</th>\n",
              "      <th>sec</th>\n",
              "    </tr>\n",
              "  </thead>\n",
              "  <tbody>\n",
              "    <tr>\n",
              "      <th>0</th>\n",
              "      <td>2kyS6SvSYSE</td>\n",
              "      <td>17.14.11</td>\n",
              "      <td>WE WANT TO TALK ABOUT OUR MARRIAGE</td>\n",
              "      <td>CaseyNeistat</td>\n",
              "      <td>22</td>\n",
              "      <td>2017-11-13 17:13:01+00:00</td>\n",
              "      <td>SHANtell martin</td>\n",
              "      <td>748374</td>\n",
              "      <td>57527</td>\n",
              "      <td>2966</td>\n",
              "      <td>15954</td>\n",
              "      <td>https://i.ytimg.com/vi/2kyS6SvSYSE/default.jpg</td>\n",
              "      <td>False</td>\n",
              "      <td>False</td>\n",
              "      <td>False</td>\n",
              "      <td>SHANTELL'S CHANNEL - https://www.youtube.com/s...</td>\n",
              "      <td>2017-11-13</td>\n",
              "      <td>17:13:01</td>\n",
              "      <td>17</td>\n",
              "      <td>13</td>\n",
              "      <td>1</td>\n",
              "    </tr>\n",
              "    <tr>\n",
              "      <th>1</th>\n",
              "      <td>1ZAPwfrtAFY</td>\n",
              "      <td>17.14.11</td>\n",
              "      <td>The Trump Presidency: Last Week Tonight with J...</td>\n",
              "      <td>LastWeekTonight</td>\n",
              "      <td>24</td>\n",
              "      <td>2017-11-13 07:30:00+00:00</td>\n",
              "      <td>last week tonight trump presidency|\"last week ...</td>\n",
              "      <td>2418783</td>\n",
              "      <td>97185</td>\n",
              "      <td>6146</td>\n",
              "      <td>12703</td>\n",
              "      <td>https://i.ytimg.com/vi/1ZAPwfrtAFY/default.jpg</td>\n",
              "      <td>False</td>\n",
              "      <td>False</td>\n",
              "      <td>False</td>\n",
              "      <td>One year after the presidential election, John...</td>\n",
              "      <td>2017-11-13</td>\n",
              "      <td>07:30:00</td>\n",
              "      <td>7</td>\n",
              "      <td>30</td>\n",
              "      <td>0</td>\n",
              "    </tr>\n",
              "    <tr>\n",
              "      <th>2</th>\n",
              "      <td>5qpjK5DgCt4</td>\n",
              "      <td>17.14.11</td>\n",
              "      <td>Racist Superman | Rudy Mancuso, King Bach &amp; Le...</td>\n",
              "      <td>Rudy Mancuso</td>\n",
              "      <td>23</td>\n",
              "      <td>2017-11-12 19:05:24+00:00</td>\n",
              "      <td>racist superman|\"rudy\"|\"mancuso\"|\"king\"|\"bach\"...</td>\n",
              "      <td>3191434</td>\n",
              "      <td>146033</td>\n",
              "      <td>5339</td>\n",
              "      <td>8181</td>\n",
              "      <td>https://i.ytimg.com/vi/5qpjK5DgCt4/default.jpg</td>\n",
              "      <td>False</td>\n",
              "      <td>False</td>\n",
              "      <td>False</td>\n",
              "      <td>WATCH MY PREVIOUS VIDEO ▶ \\n\\nSUBSCRIBE ► http...</td>\n",
              "      <td>2017-11-12</td>\n",
              "      <td>19:05:24</td>\n",
              "      <td>19</td>\n",
              "      <td>5</td>\n",
              "      <td>24</td>\n",
              "    </tr>\n",
              "    <tr>\n",
              "      <th>3</th>\n",
              "      <td>puqaWrEC7tY</td>\n",
              "      <td>17.14.11</td>\n",
              "      <td>Nickelback Lyrics: Real or Fake?</td>\n",
              "      <td>Good Mythical Morning</td>\n",
              "      <td>24</td>\n",
              "      <td>2017-11-13 11:00:04+00:00</td>\n",
              "      <td>rhett and link|\"gmm\"|\"good mythical morning\"|\"...</td>\n",
              "      <td>343168</td>\n",
              "      <td>10172</td>\n",
              "      <td>666</td>\n",
              "      <td>2146</td>\n",
              "      <td>https://i.ytimg.com/vi/puqaWrEC7tY/default.jpg</td>\n",
              "      <td>False</td>\n",
              "      <td>False</td>\n",
              "      <td>False</td>\n",
              "      <td>Today we find out if Link is a Nickelback amat...</td>\n",
              "      <td>2017-11-13</td>\n",
              "      <td>11:00:04</td>\n",
              "      <td>11</td>\n",
              "      <td>0</td>\n",
              "      <td>4</td>\n",
              "    </tr>\n",
              "    <tr>\n",
              "      <th>4</th>\n",
              "      <td>d380meD0W0M</td>\n",
              "      <td>17.14.11</td>\n",
              "      <td>I Dare You: GOING BALD!?</td>\n",
              "      <td>nigahiga</td>\n",
              "      <td>24</td>\n",
              "      <td>2017-11-12 18:01:41+00:00</td>\n",
              "      <td>ryan|\"higa\"|\"higatv\"|\"nigahiga\"|\"i dare you\"|\"...</td>\n",
              "      <td>2095731</td>\n",
              "      <td>132235</td>\n",
              "      <td>1989</td>\n",
              "      <td>17518</td>\n",
              "      <td>https://i.ytimg.com/vi/d380meD0W0M/default.jpg</td>\n",
              "      <td>False</td>\n",
              "      <td>False</td>\n",
              "      <td>False</td>\n",
              "      <td>I know it's been a while since we did this sho...</td>\n",
              "      <td>2017-11-12</td>\n",
              "      <td>18:01:41</td>\n",
              "      <td>18</td>\n",
              "      <td>1</td>\n",
              "      <td>41</td>\n",
              "    </tr>\n",
              "  </tbody>\n",
              "</table>\n",
              "</div>"
            ],
            "text/plain": [
              "      video_id trending_date  ... min sec\n",
              "0  2kyS6SvSYSE      17.14.11  ...  13   1\n",
              "1  1ZAPwfrtAFY      17.14.11  ...  30   0\n",
              "2  5qpjK5DgCt4      17.14.11  ...   5  24\n",
              "3  puqaWrEC7tY      17.14.11  ...   0   4\n",
              "4  d380meD0W0M      17.14.11  ...   1  41\n",
              "\n",
              "[5 rows x 21 columns]"
            ]
          },
          "metadata": {
            "tags": []
          },
          "execution_count": 59
        }
      ]
    },
    {
      "cell_type": "code",
      "metadata": {
        "id": "59aUAor3ht_q",
        "colab_type": "code",
        "colab": {
          "base_uri": "https://localhost:8080/",
          "height": 513
        },
        "outputId": "1e031f79-adf0-47c7-d609-ba6d8e475cbf"
      },
      "source": [
        "# creating a weekday column to represent the days in numeric form.\n",
        "# using the lambda anonymous function\n",
        "# using the python datetime.weekday() --> returns the day of the week as an integer, where Monday is 0 and Sunday is 6.\n",
        "#\n",
        "df['weekday'] = df['date'].apply (lambda x:x.weekday() )\n",
        "df.head()"
      ],
      "execution_count": null,
      "outputs": [
        {
          "output_type": "execute_result",
          "data": {
            "text/html": [
              "<div>\n",
              "<style scoped>\n",
              "    .dataframe tbody tr th:only-of-type {\n",
              "        vertical-align: middle;\n",
              "    }\n",
              "\n",
              "    .dataframe tbody tr th {\n",
              "        vertical-align: top;\n",
              "    }\n",
              "\n",
              "    .dataframe thead th {\n",
              "        text-align: right;\n",
              "    }\n",
              "</style>\n",
              "<table border=\"1\" class=\"dataframe\">\n",
              "  <thead>\n",
              "    <tr style=\"text-align: right;\">\n",
              "      <th></th>\n",
              "      <th>video_id</th>\n",
              "      <th>trending_date</th>\n",
              "      <th>title</th>\n",
              "      <th>channel_title</th>\n",
              "      <th>category_id</th>\n",
              "      <th>publish_time</th>\n",
              "      <th>tags</th>\n",
              "      <th>views</th>\n",
              "      <th>likes</th>\n",
              "      <th>dislikes</th>\n",
              "      <th>comment_count</th>\n",
              "      <th>thumbnail_link</th>\n",
              "      <th>comments_disabled</th>\n",
              "      <th>ratings_disabled</th>\n",
              "      <th>video_error_or_removed</th>\n",
              "      <th>description</th>\n",
              "      <th>date</th>\n",
              "      <th>time</th>\n",
              "      <th>hr</th>\n",
              "      <th>min</th>\n",
              "      <th>sec</th>\n",
              "      <th>weekday</th>\n",
              "    </tr>\n",
              "  </thead>\n",
              "  <tbody>\n",
              "    <tr>\n",
              "      <th>0</th>\n",
              "      <td>2kyS6SvSYSE</td>\n",
              "      <td>17.14.11</td>\n",
              "      <td>WE WANT TO TALK ABOUT OUR MARRIAGE</td>\n",
              "      <td>CaseyNeistat</td>\n",
              "      <td>22</td>\n",
              "      <td>2017-11-13 17:13:01+00:00</td>\n",
              "      <td>SHANtell martin</td>\n",
              "      <td>748374</td>\n",
              "      <td>57527</td>\n",
              "      <td>2966</td>\n",
              "      <td>15954</td>\n",
              "      <td>https://i.ytimg.com/vi/2kyS6SvSYSE/default.jpg</td>\n",
              "      <td>False</td>\n",
              "      <td>False</td>\n",
              "      <td>False</td>\n",
              "      <td>SHANTELL'S CHANNEL - https://www.youtube.com/s...</td>\n",
              "      <td>2017-11-13</td>\n",
              "      <td>17:13:01</td>\n",
              "      <td>17</td>\n",
              "      <td>13</td>\n",
              "      <td>1</td>\n",
              "      <td>0</td>\n",
              "    </tr>\n",
              "    <tr>\n",
              "      <th>1</th>\n",
              "      <td>1ZAPwfrtAFY</td>\n",
              "      <td>17.14.11</td>\n",
              "      <td>The Trump Presidency: Last Week Tonight with J...</td>\n",
              "      <td>LastWeekTonight</td>\n",
              "      <td>24</td>\n",
              "      <td>2017-11-13 07:30:00+00:00</td>\n",
              "      <td>last week tonight trump presidency|\"last week ...</td>\n",
              "      <td>2418783</td>\n",
              "      <td>97185</td>\n",
              "      <td>6146</td>\n",
              "      <td>12703</td>\n",
              "      <td>https://i.ytimg.com/vi/1ZAPwfrtAFY/default.jpg</td>\n",
              "      <td>False</td>\n",
              "      <td>False</td>\n",
              "      <td>False</td>\n",
              "      <td>One year after the presidential election, John...</td>\n",
              "      <td>2017-11-13</td>\n",
              "      <td>07:30:00</td>\n",
              "      <td>7</td>\n",
              "      <td>30</td>\n",
              "      <td>0</td>\n",
              "      <td>0</td>\n",
              "    </tr>\n",
              "    <tr>\n",
              "      <th>2</th>\n",
              "      <td>5qpjK5DgCt4</td>\n",
              "      <td>17.14.11</td>\n",
              "      <td>Racist Superman | Rudy Mancuso, King Bach &amp; Le...</td>\n",
              "      <td>Rudy Mancuso</td>\n",
              "      <td>23</td>\n",
              "      <td>2017-11-12 19:05:24+00:00</td>\n",
              "      <td>racist superman|\"rudy\"|\"mancuso\"|\"king\"|\"bach\"...</td>\n",
              "      <td>3191434</td>\n",
              "      <td>146033</td>\n",
              "      <td>5339</td>\n",
              "      <td>8181</td>\n",
              "      <td>https://i.ytimg.com/vi/5qpjK5DgCt4/default.jpg</td>\n",
              "      <td>False</td>\n",
              "      <td>False</td>\n",
              "      <td>False</td>\n",
              "      <td>WATCH MY PREVIOUS VIDEO ▶ \\n\\nSUBSCRIBE ► http...</td>\n",
              "      <td>2017-11-12</td>\n",
              "      <td>19:05:24</td>\n",
              "      <td>19</td>\n",
              "      <td>5</td>\n",
              "      <td>24</td>\n",
              "      <td>6</td>\n",
              "    </tr>\n",
              "    <tr>\n",
              "      <th>3</th>\n",
              "      <td>puqaWrEC7tY</td>\n",
              "      <td>17.14.11</td>\n",
              "      <td>Nickelback Lyrics: Real or Fake?</td>\n",
              "      <td>Good Mythical Morning</td>\n",
              "      <td>24</td>\n",
              "      <td>2017-11-13 11:00:04+00:00</td>\n",
              "      <td>rhett and link|\"gmm\"|\"good mythical morning\"|\"...</td>\n",
              "      <td>343168</td>\n",
              "      <td>10172</td>\n",
              "      <td>666</td>\n",
              "      <td>2146</td>\n",
              "      <td>https://i.ytimg.com/vi/puqaWrEC7tY/default.jpg</td>\n",
              "      <td>False</td>\n",
              "      <td>False</td>\n",
              "      <td>False</td>\n",
              "      <td>Today we find out if Link is a Nickelback amat...</td>\n",
              "      <td>2017-11-13</td>\n",
              "      <td>11:00:04</td>\n",
              "      <td>11</td>\n",
              "      <td>0</td>\n",
              "      <td>4</td>\n",
              "      <td>0</td>\n",
              "    </tr>\n",
              "    <tr>\n",
              "      <th>4</th>\n",
              "      <td>d380meD0W0M</td>\n",
              "      <td>17.14.11</td>\n",
              "      <td>I Dare You: GOING BALD!?</td>\n",
              "      <td>nigahiga</td>\n",
              "      <td>24</td>\n",
              "      <td>2017-11-12 18:01:41+00:00</td>\n",
              "      <td>ryan|\"higa\"|\"higatv\"|\"nigahiga\"|\"i dare you\"|\"...</td>\n",
              "      <td>2095731</td>\n",
              "      <td>132235</td>\n",
              "      <td>1989</td>\n",
              "      <td>17518</td>\n",
              "      <td>https://i.ytimg.com/vi/d380meD0W0M/default.jpg</td>\n",
              "      <td>False</td>\n",
              "      <td>False</td>\n",
              "      <td>False</td>\n",
              "      <td>I know it's been a while since we did this sho...</td>\n",
              "      <td>2017-11-12</td>\n",
              "      <td>18:01:41</td>\n",
              "      <td>18</td>\n",
              "      <td>1</td>\n",
              "      <td>41</td>\n",
              "      <td>6</td>\n",
              "    </tr>\n",
              "  </tbody>\n",
              "</table>\n",
              "</div>"
            ],
            "text/plain": [
              "      video_id trending_date  ... sec weekday\n",
              "0  2kyS6SvSYSE      17.14.11  ...   1       0\n",
              "1  1ZAPwfrtAFY      17.14.11  ...   0       0\n",
              "2  5qpjK5DgCt4      17.14.11  ...  24       6\n",
              "3  puqaWrEC7tY      17.14.11  ...   4       0\n",
              "4  d380meD0W0M      17.14.11  ...  41       6\n",
              "\n",
              "[5 rows x 22 columns]"
            ]
          },
          "metadata": {
            "tags": []
          },
          "execution_count": 60
        }
      ]
    },
    {
      "cell_type": "code",
      "metadata": {
        "id": "RwLP7OgpiFhc",
        "colab_type": "code",
        "colab": {
          "base_uri": "https://localhost:8080/",
          "height": 513
        },
        "outputId": "061a63d6-5ea9-4980-cd2f-072fe19e609e"
      },
      "source": [
        "# chronologically mapping the numeric day of the week with it's respective name\n",
        "# using a dictionary.\n",
        "#\n",
        "week = {0:'Monday', 1:'Tuesday', 2:'Wednesday', 3:'Thursday', 4:'Friday', 5:'Saturday', 6:'Sunday'}\n",
        "df['weekday'] = df['weekday'].map(week)\n",
        "df.head()"
      ],
      "execution_count": null,
      "outputs": [
        {
          "output_type": "execute_result",
          "data": {
            "text/html": [
              "<div>\n",
              "<style scoped>\n",
              "    .dataframe tbody tr th:only-of-type {\n",
              "        vertical-align: middle;\n",
              "    }\n",
              "\n",
              "    .dataframe tbody tr th {\n",
              "        vertical-align: top;\n",
              "    }\n",
              "\n",
              "    .dataframe thead th {\n",
              "        text-align: right;\n",
              "    }\n",
              "</style>\n",
              "<table border=\"1\" class=\"dataframe\">\n",
              "  <thead>\n",
              "    <tr style=\"text-align: right;\">\n",
              "      <th></th>\n",
              "      <th>video_id</th>\n",
              "      <th>trending_date</th>\n",
              "      <th>title</th>\n",
              "      <th>channel_title</th>\n",
              "      <th>category_id</th>\n",
              "      <th>publish_time</th>\n",
              "      <th>tags</th>\n",
              "      <th>views</th>\n",
              "      <th>likes</th>\n",
              "      <th>dislikes</th>\n",
              "      <th>comment_count</th>\n",
              "      <th>thumbnail_link</th>\n",
              "      <th>comments_disabled</th>\n",
              "      <th>ratings_disabled</th>\n",
              "      <th>video_error_or_removed</th>\n",
              "      <th>description</th>\n",
              "      <th>date</th>\n",
              "      <th>time</th>\n",
              "      <th>hr</th>\n",
              "      <th>min</th>\n",
              "      <th>sec</th>\n",
              "      <th>weekday</th>\n",
              "    </tr>\n",
              "  </thead>\n",
              "  <tbody>\n",
              "    <tr>\n",
              "      <th>0</th>\n",
              "      <td>2kyS6SvSYSE</td>\n",
              "      <td>17.14.11</td>\n",
              "      <td>WE WANT TO TALK ABOUT OUR MARRIAGE</td>\n",
              "      <td>CaseyNeistat</td>\n",
              "      <td>22</td>\n",
              "      <td>2017-11-13 17:13:01+00:00</td>\n",
              "      <td>SHANtell martin</td>\n",
              "      <td>748374</td>\n",
              "      <td>57527</td>\n",
              "      <td>2966</td>\n",
              "      <td>15954</td>\n",
              "      <td>https://i.ytimg.com/vi/2kyS6SvSYSE/default.jpg</td>\n",
              "      <td>False</td>\n",
              "      <td>False</td>\n",
              "      <td>False</td>\n",
              "      <td>SHANTELL'S CHANNEL - https://www.youtube.com/s...</td>\n",
              "      <td>2017-11-13</td>\n",
              "      <td>17:13:01</td>\n",
              "      <td>17</td>\n",
              "      <td>13</td>\n",
              "      <td>1</td>\n",
              "      <td>Monday</td>\n",
              "    </tr>\n",
              "    <tr>\n",
              "      <th>1</th>\n",
              "      <td>1ZAPwfrtAFY</td>\n",
              "      <td>17.14.11</td>\n",
              "      <td>The Trump Presidency: Last Week Tonight with J...</td>\n",
              "      <td>LastWeekTonight</td>\n",
              "      <td>24</td>\n",
              "      <td>2017-11-13 07:30:00+00:00</td>\n",
              "      <td>last week tonight trump presidency|\"last week ...</td>\n",
              "      <td>2418783</td>\n",
              "      <td>97185</td>\n",
              "      <td>6146</td>\n",
              "      <td>12703</td>\n",
              "      <td>https://i.ytimg.com/vi/1ZAPwfrtAFY/default.jpg</td>\n",
              "      <td>False</td>\n",
              "      <td>False</td>\n",
              "      <td>False</td>\n",
              "      <td>One year after the presidential election, John...</td>\n",
              "      <td>2017-11-13</td>\n",
              "      <td>07:30:00</td>\n",
              "      <td>7</td>\n",
              "      <td>30</td>\n",
              "      <td>0</td>\n",
              "      <td>Monday</td>\n",
              "    </tr>\n",
              "    <tr>\n",
              "      <th>2</th>\n",
              "      <td>5qpjK5DgCt4</td>\n",
              "      <td>17.14.11</td>\n",
              "      <td>Racist Superman | Rudy Mancuso, King Bach &amp; Le...</td>\n",
              "      <td>Rudy Mancuso</td>\n",
              "      <td>23</td>\n",
              "      <td>2017-11-12 19:05:24+00:00</td>\n",
              "      <td>racist superman|\"rudy\"|\"mancuso\"|\"king\"|\"bach\"...</td>\n",
              "      <td>3191434</td>\n",
              "      <td>146033</td>\n",
              "      <td>5339</td>\n",
              "      <td>8181</td>\n",
              "      <td>https://i.ytimg.com/vi/5qpjK5DgCt4/default.jpg</td>\n",
              "      <td>False</td>\n",
              "      <td>False</td>\n",
              "      <td>False</td>\n",
              "      <td>WATCH MY PREVIOUS VIDEO ▶ \\n\\nSUBSCRIBE ► http...</td>\n",
              "      <td>2017-11-12</td>\n",
              "      <td>19:05:24</td>\n",
              "      <td>19</td>\n",
              "      <td>5</td>\n",
              "      <td>24</td>\n",
              "      <td>Sunday</td>\n",
              "    </tr>\n",
              "    <tr>\n",
              "      <th>3</th>\n",
              "      <td>puqaWrEC7tY</td>\n",
              "      <td>17.14.11</td>\n",
              "      <td>Nickelback Lyrics: Real or Fake?</td>\n",
              "      <td>Good Mythical Morning</td>\n",
              "      <td>24</td>\n",
              "      <td>2017-11-13 11:00:04+00:00</td>\n",
              "      <td>rhett and link|\"gmm\"|\"good mythical morning\"|\"...</td>\n",
              "      <td>343168</td>\n",
              "      <td>10172</td>\n",
              "      <td>666</td>\n",
              "      <td>2146</td>\n",
              "      <td>https://i.ytimg.com/vi/puqaWrEC7tY/default.jpg</td>\n",
              "      <td>False</td>\n",
              "      <td>False</td>\n",
              "      <td>False</td>\n",
              "      <td>Today we find out if Link is a Nickelback amat...</td>\n",
              "      <td>2017-11-13</td>\n",
              "      <td>11:00:04</td>\n",
              "      <td>11</td>\n",
              "      <td>0</td>\n",
              "      <td>4</td>\n",
              "      <td>Monday</td>\n",
              "    </tr>\n",
              "    <tr>\n",
              "      <th>4</th>\n",
              "      <td>d380meD0W0M</td>\n",
              "      <td>17.14.11</td>\n",
              "      <td>I Dare You: GOING BALD!?</td>\n",
              "      <td>nigahiga</td>\n",
              "      <td>24</td>\n",
              "      <td>2017-11-12 18:01:41+00:00</td>\n",
              "      <td>ryan|\"higa\"|\"higatv\"|\"nigahiga\"|\"i dare you\"|\"...</td>\n",
              "      <td>2095731</td>\n",
              "      <td>132235</td>\n",
              "      <td>1989</td>\n",
              "      <td>17518</td>\n",
              "      <td>https://i.ytimg.com/vi/d380meD0W0M/default.jpg</td>\n",
              "      <td>False</td>\n",
              "      <td>False</td>\n",
              "      <td>False</td>\n",
              "      <td>I know it's been a while since we did this sho...</td>\n",
              "      <td>2017-11-12</td>\n",
              "      <td>18:01:41</td>\n",
              "      <td>18</td>\n",
              "      <td>1</td>\n",
              "      <td>41</td>\n",
              "      <td>Sunday</td>\n",
              "    </tr>\n",
              "  </tbody>\n",
              "</table>\n",
              "</div>"
            ],
            "text/plain": [
              "      video_id trending_date  ... sec weekday\n",
              "0  2kyS6SvSYSE      17.14.11  ...   1  Monday\n",
              "1  1ZAPwfrtAFY      17.14.11  ...   0  Monday\n",
              "2  5qpjK5DgCt4      17.14.11  ...  24  Sunday\n",
              "3  puqaWrEC7tY      17.14.11  ...   4  Monday\n",
              "4  d380meD0W0M      17.14.11  ...  41  Sunday\n",
              "\n",
              "[5 rows x 22 columns]"
            ]
          },
          "metadata": {
            "tags": []
          },
          "execution_count": 61
        }
      ]
    },
    {
      "cell_type": "code",
      "metadata": {
        "id": "0v4F3mzLiFt7",
        "colab_type": "code",
        "colab": {
          "base_uri": "https://localhost:8080/",
          "height": 513
        },
        "outputId": "1796dc38-6e94-4f03-b443-194d9b3bb08d"
      },
      "source": [
        "df.head()"
      ],
      "execution_count": null,
      "outputs": [
        {
          "output_type": "execute_result",
          "data": {
            "text/html": [
              "<div>\n",
              "<style scoped>\n",
              "    .dataframe tbody tr th:only-of-type {\n",
              "        vertical-align: middle;\n",
              "    }\n",
              "\n",
              "    .dataframe tbody tr th {\n",
              "        vertical-align: top;\n",
              "    }\n",
              "\n",
              "    .dataframe thead th {\n",
              "        text-align: right;\n",
              "    }\n",
              "</style>\n",
              "<table border=\"1\" class=\"dataframe\">\n",
              "  <thead>\n",
              "    <tr style=\"text-align: right;\">\n",
              "      <th></th>\n",
              "      <th>video_id</th>\n",
              "      <th>trending_date</th>\n",
              "      <th>title</th>\n",
              "      <th>channel_title</th>\n",
              "      <th>category_id</th>\n",
              "      <th>publish_time</th>\n",
              "      <th>tags</th>\n",
              "      <th>views</th>\n",
              "      <th>likes</th>\n",
              "      <th>dislikes</th>\n",
              "      <th>comment_count</th>\n",
              "      <th>thumbnail_link</th>\n",
              "      <th>comments_disabled</th>\n",
              "      <th>ratings_disabled</th>\n",
              "      <th>video_error_or_removed</th>\n",
              "      <th>description</th>\n",
              "      <th>date</th>\n",
              "      <th>time</th>\n",
              "      <th>hr</th>\n",
              "      <th>min</th>\n",
              "      <th>sec</th>\n",
              "      <th>weekday</th>\n",
              "    </tr>\n",
              "  </thead>\n",
              "  <tbody>\n",
              "    <tr>\n",
              "      <th>0</th>\n",
              "      <td>2kyS6SvSYSE</td>\n",
              "      <td>17.14.11</td>\n",
              "      <td>WE WANT TO TALK ABOUT OUR MARRIAGE</td>\n",
              "      <td>CaseyNeistat</td>\n",
              "      <td>22</td>\n",
              "      <td>2017-11-13 17:13:01+00:00</td>\n",
              "      <td>SHANtell martin</td>\n",
              "      <td>748374</td>\n",
              "      <td>57527</td>\n",
              "      <td>2966</td>\n",
              "      <td>15954</td>\n",
              "      <td>https://i.ytimg.com/vi/2kyS6SvSYSE/default.jpg</td>\n",
              "      <td>False</td>\n",
              "      <td>False</td>\n",
              "      <td>False</td>\n",
              "      <td>SHANTELL'S CHANNEL - https://www.youtube.com/s...</td>\n",
              "      <td>2017-11-13</td>\n",
              "      <td>17:13:01</td>\n",
              "      <td>17</td>\n",
              "      <td>13</td>\n",
              "      <td>1</td>\n",
              "      <td>Monday</td>\n",
              "    </tr>\n",
              "    <tr>\n",
              "      <th>1</th>\n",
              "      <td>1ZAPwfrtAFY</td>\n",
              "      <td>17.14.11</td>\n",
              "      <td>The Trump Presidency: Last Week Tonight with J...</td>\n",
              "      <td>LastWeekTonight</td>\n",
              "      <td>24</td>\n",
              "      <td>2017-11-13 07:30:00+00:00</td>\n",
              "      <td>last week tonight trump presidency|\"last week ...</td>\n",
              "      <td>2418783</td>\n",
              "      <td>97185</td>\n",
              "      <td>6146</td>\n",
              "      <td>12703</td>\n",
              "      <td>https://i.ytimg.com/vi/1ZAPwfrtAFY/default.jpg</td>\n",
              "      <td>False</td>\n",
              "      <td>False</td>\n",
              "      <td>False</td>\n",
              "      <td>One year after the presidential election, John...</td>\n",
              "      <td>2017-11-13</td>\n",
              "      <td>07:30:00</td>\n",
              "      <td>7</td>\n",
              "      <td>30</td>\n",
              "      <td>0</td>\n",
              "      <td>Monday</td>\n",
              "    </tr>\n",
              "    <tr>\n",
              "      <th>2</th>\n",
              "      <td>5qpjK5DgCt4</td>\n",
              "      <td>17.14.11</td>\n",
              "      <td>Racist Superman | Rudy Mancuso, King Bach &amp; Le...</td>\n",
              "      <td>Rudy Mancuso</td>\n",
              "      <td>23</td>\n",
              "      <td>2017-11-12 19:05:24+00:00</td>\n",
              "      <td>racist superman|\"rudy\"|\"mancuso\"|\"king\"|\"bach\"...</td>\n",
              "      <td>3191434</td>\n",
              "      <td>146033</td>\n",
              "      <td>5339</td>\n",
              "      <td>8181</td>\n",
              "      <td>https://i.ytimg.com/vi/5qpjK5DgCt4/default.jpg</td>\n",
              "      <td>False</td>\n",
              "      <td>False</td>\n",
              "      <td>False</td>\n",
              "      <td>WATCH MY PREVIOUS VIDEO ▶ \\n\\nSUBSCRIBE ► http...</td>\n",
              "      <td>2017-11-12</td>\n",
              "      <td>19:05:24</td>\n",
              "      <td>19</td>\n",
              "      <td>5</td>\n",
              "      <td>24</td>\n",
              "      <td>Sunday</td>\n",
              "    </tr>\n",
              "    <tr>\n",
              "      <th>3</th>\n",
              "      <td>puqaWrEC7tY</td>\n",
              "      <td>17.14.11</td>\n",
              "      <td>Nickelback Lyrics: Real or Fake?</td>\n",
              "      <td>Good Mythical Morning</td>\n",
              "      <td>24</td>\n",
              "      <td>2017-11-13 11:00:04+00:00</td>\n",
              "      <td>rhett and link|\"gmm\"|\"good mythical morning\"|\"...</td>\n",
              "      <td>343168</td>\n",
              "      <td>10172</td>\n",
              "      <td>666</td>\n",
              "      <td>2146</td>\n",
              "      <td>https://i.ytimg.com/vi/puqaWrEC7tY/default.jpg</td>\n",
              "      <td>False</td>\n",
              "      <td>False</td>\n",
              "      <td>False</td>\n",
              "      <td>Today we find out if Link is a Nickelback amat...</td>\n",
              "      <td>2017-11-13</td>\n",
              "      <td>11:00:04</td>\n",
              "      <td>11</td>\n",
              "      <td>0</td>\n",
              "      <td>4</td>\n",
              "      <td>Monday</td>\n",
              "    </tr>\n",
              "    <tr>\n",
              "      <th>4</th>\n",
              "      <td>d380meD0W0M</td>\n",
              "      <td>17.14.11</td>\n",
              "      <td>I Dare You: GOING BALD!?</td>\n",
              "      <td>nigahiga</td>\n",
              "      <td>24</td>\n",
              "      <td>2017-11-12 18:01:41+00:00</td>\n",
              "      <td>ryan|\"higa\"|\"higatv\"|\"nigahiga\"|\"i dare you\"|\"...</td>\n",
              "      <td>2095731</td>\n",
              "      <td>132235</td>\n",
              "      <td>1989</td>\n",
              "      <td>17518</td>\n",
              "      <td>https://i.ytimg.com/vi/d380meD0W0M/default.jpg</td>\n",
              "      <td>False</td>\n",
              "      <td>False</td>\n",
              "      <td>False</td>\n",
              "      <td>I know it's been a while since we did this sho...</td>\n",
              "      <td>2017-11-12</td>\n",
              "      <td>18:01:41</td>\n",
              "      <td>18</td>\n",
              "      <td>1</td>\n",
              "      <td>41</td>\n",
              "      <td>Sunday</td>\n",
              "    </tr>\n",
              "  </tbody>\n",
              "</table>\n",
              "</div>"
            ],
            "text/plain": [
              "      video_id trending_date  ... sec weekday\n",
              "0  2kyS6SvSYSE      17.14.11  ...   1  Monday\n",
              "1  1ZAPwfrtAFY      17.14.11  ...   0  Monday\n",
              "2  5qpjK5DgCt4      17.14.11  ...  24  Sunday\n",
              "3  puqaWrEC7tY      17.14.11  ...   4  Monday\n",
              "4  d380meD0W0M      17.14.11  ...  41  Sunday\n",
              "\n",
              "[5 rows x 22 columns]"
            ]
          },
          "metadata": {
            "tags": []
          },
          "execution_count": 62
        }
      ]
    },
    {
      "cell_type": "code",
      "metadata": {
        "id": "8npTbgkviFqH",
        "colab_type": "code",
        "colab": {
          "base_uri": "https://localhost:8080/",
          "height": 1000
        },
        "outputId": "377101f7-df14-4b9d-c06e-afda1c031170"
      },
      "source": [
        "# findining the outliers within the dataset.\n",
        "# using the numerical columns.\n",
        "# in statistics, an outlier is an observation point that is distant from other observations.\n",
        "#\n",
        "select=['views','likes','dislikes','comment_count']\n",
        "fig, ax = plt.subplots(len(select), figsize=(8,40))\n",
        "for i, values in enumerate(select):\n",
        "\n",
        "    sns.boxplot(y=df[values], ax=ax[i])\n",
        "    ax[i].set_title(f'Plot for - {values}')\n",
        "    ax[i].set_xlabel(values)\n",
        "plt.show()"
      ],
      "execution_count": null,
      "outputs": [
        {
          "output_type": "display_data",
          "data": {
            "image/png": "[encoded data removed]",
            "text/plain": [
              "<Figure size 576x2880 with 4 Axes>"
            ]
          },
          "metadata": {
            "tags": [],
            "needs_background": "light"
          }
        }
      ]
    },
    {
      "cell_type": "code",
      "metadata": {
        "id": "w3PirhZLeNUA",
        "colab_type": "code",
        "colab": {
          "base_uri": "https://localhost:8080/",
          "height": 136
        },
        "outputId": "e53fb024-382c-4706-9f31-e69031897155"
      },
      "source": [
        "# dealing with outliers\n",
        "#\n",
        "#\n",
        "col_names_1 = df[['views','likes','dislikes','comment_count']]\n",
        "from scipy import stats\n",
        "z = np.abs(stats.zscore(col_names_1))\n",
        "print(z)"
      ],
      "execution_count": null,
      "outputs": [
        {
          "output_type": "stream",
          "text": [
            "[[2.18069451e-01 7.31366498e-02 2.56774902e-02 2.00566132e-01]\n",
            " [7.84395153e-03 1.00131260e-01 8.38668102e-02 1.13710738e-01]\n",
            " [1.12340644e-01 3.13550769e-01 5.60673604e-02 7.10134838e-03]\n",
            " ...\n",
            " [1.75051329e-01 1.14463524e-01 9.22997157e-02 1.19016835e-01]\n",
            " [4.46310236e-01 5.18564220e-01 2.98112374e-02 1.23996596e-01]\n",
            " [1.07456169e+00 1.23562196e+00 7.20872456e+00 3.64274879e+00]]\n"
          ],
          "name": "stdout"
        }
      ]
    },
    {
      "cell_type": "code",
      "metadata": {
        "id": "zzxeUSxwfRas",
        "colab_type": "code",
        "colab": {
          "base_uri": "https://localhost:8080/",
          "height": 51
        },
        "outputId": "d4599d4f-53e1-460f-a5f2-f74365fcb286"
      },
      "source": [
        "# Confirming that our outliers have been dropped from the dataset.\n",
        "#\n",
        "df_o = col_names_1[(z < 3).all(axis=1)]\n",
        "print(f\"Previous dataframe size : {col_names_1.shape[0]}\")\n",
        "print(f\"New dataframe size: {df_o.shape[0]}\")"
      ],
      "execution_count": null,
      "outputs": [
        {
          "output_type": "stream",
          "text": [
            "Previous dataframe size : 40949\n",
            "New dataframe size: 40086\n"
          ],
          "name": "stdout"
        }
      ]
    },
    {
      "cell_type": "code",
      "metadata": {
        "id": "wk2_C9ACfhFh",
        "colab_type": "code",
        "colab": {
          "base_uri": "https://localhost:8080/",
          "height": 1000
        },
        "outputId": "5f7a869b-68b9-4c7e-deef-cdac1cb5e0b7"
      },
      "source": [
        "# checking if outliers have been removed\n",
        "columns=['views','likes','dislikes','comment_count']\n",
        "fig, ax = plt.subplots(len(columns), figsize=(8,40))\n",
        "for i, values in enumerate(columns):\n",
        "    sns.boxplot(y=df_o[values], ax=ax[i])\n",
        "    ax[i].set_title(f'Box plot - {values}')\n",
        "    ax[i].set_xlabel(values)\n",
        "plt.show()"
      ],
      "execution_count": null,
      "outputs": [
        {
          "output_type": "display_data",
          "data": {
            "image/png": "[encoded data removed]",
            "text/plain": [
              "<Figure size 576x2880 with 4 Axes>"
            ]
          },
          "metadata": {
            "tags": [],
            "needs_background": "light"
          }
        }
      ]
    },
    {
      "cell_type": "code",
      "metadata": {
        "id": "CHvb4TXbKHC5",
        "colab_type": "code",
        "colab": {}
      },
      "source": [
        "# select columns to perform IQR on.\n",
        "# convert the columns into floats (.astype(float))\n",
        "#\n",
        "df[['views','likes','dislikes','comment_count']] = df[['views','likes','dislikes','comment_count']].astype(float)"
      ],
      "execution_count": null,
      "outputs": []
    },
    {
      "cell_type": "code",
      "metadata": {
        "id": "_zi9NhAii-if",
        "colab_type": "code",
        "colab": {
          "base_uri": "https://localhost:8080/",
          "height": 204
        },
        "outputId": "cd7960df-5029-422d-e67e-7c6c19b23304"
      },
      "source": [
        "# creating a new variable with the columns that are needed, numeric mostly.\n",
        "df_new=df[['views','likes','dislikes','comment_count', 'category_id', 'weekday','date', 'time', 'hr', 'min', 'sec']]\n",
        "df_new.head()"
      ],
      "execution_count": null,
      "outputs": [
        {
          "output_type": "execute_result",
          "data": {
            "text/html": [
              "<div>\n",
              "<style scoped>\n",
              "    .dataframe tbody tr th:only-of-type {\n",
              "        vertical-align: middle;\n",
              "    }\n",
              "\n",
              "    .dataframe tbody tr th {\n",
              "        vertical-align: top;\n",
              "    }\n",
              "\n",
              "    .dataframe thead th {\n",
              "        text-align: right;\n",
              "    }\n",
              "</style>\n",
              "<table border=\"1\" class=\"dataframe\">\n",
              "  <thead>\n",
              "    <tr style=\"text-align: right;\">\n",
              "      <th></th>\n",
              "      <th>views</th>\n",
              "      <th>likes</th>\n",
              "      <th>dislikes</th>\n",
              "      <th>comment_count</th>\n",
              "      <th>category_id</th>\n",
              "      <th>weekday</th>\n",
              "      <th>date</th>\n",
              "      <th>time</th>\n",
              "      <th>hr</th>\n",
              "      <th>min</th>\n",
              "      <th>sec</th>\n",
              "    </tr>\n",
              "  </thead>\n",
              "  <tbody>\n",
              "    <tr>\n",
              "      <th>0</th>\n",
              "      <td>748374.000</td>\n",
              "      <td>57527.000</td>\n",
              "      <td>2966.000</td>\n",
              "      <td>15954.000</td>\n",
              "      <td>22</td>\n",
              "      <td>Monday</td>\n",
              "      <td>2017-11-13</td>\n",
              "      <td>17:13:01</td>\n",
              "      <td>17</td>\n",
              "      <td>13</td>\n",
              "      <td>1</td>\n",
              "    </tr>\n",
              "    <tr>\n",
              "      <th>1</th>\n",
              "      <td>2418783.000</td>\n",
              "      <td>97185.000</td>\n",
              "      <td>6146.000</td>\n",
              "      <td>12703.000</td>\n",
              "      <td>24</td>\n",
              "      <td>Monday</td>\n",
              "      <td>2017-11-13</td>\n",
              "      <td>07:30:00</td>\n",
              "      <td>7</td>\n",
              "      <td>30</td>\n",
              "      <td>0</td>\n",
              "    </tr>\n",
              "    <tr>\n",
              "      <th>2</th>\n",
              "      <td>3191434.000</td>\n",
              "      <td>146033.000</td>\n",
              "      <td>5339.000</td>\n",
              "      <td>8181.000</td>\n",
              "      <td>23</td>\n",
              "      <td>Sunday</td>\n",
              "      <td>2017-11-12</td>\n",
              "      <td>19:05:24</td>\n",
              "      <td>19</td>\n",
              "      <td>5</td>\n",
              "      <td>24</td>\n",
              "    </tr>\n",
              "    <tr>\n",
              "      <th>3</th>\n",
              "      <td>343168.000</td>\n",
              "      <td>10172.000</td>\n",
              "      <td>666.000</td>\n",
              "      <td>2146.000</td>\n",
              "      <td>24</td>\n",
              "      <td>Monday</td>\n",
              "      <td>2017-11-13</td>\n",
              "      <td>11:00:04</td>\n",
              "      <td>11</td>\n",
              "      <td>0</td>\n",
              "      <td>4</td>\n",
              "    </tr>\n",
              "    <tr>\n",
              "      <th>4</th>\n",
              "      <td>2095731.000</td>\n",
              "      <td>132235.000</td>\n",
              "      <td>1989.000</td>\n",
              "      <td>17518.000</td>\n",
              "      <td>24</td>\n",
              "      <td>Sunday</td>\n",
              "      <td>2017-11-12</td>\n",
              "      <td>18:01:41</td>\n",
              "      <td>18</td>\n",
              "      <td>1</td>\n",
              "      <td>41</td>\n",
              "    </tr>\n",
              "  </tbody>\n",
              "</table>\n",
              "</div>"
            ],
            "text/plain": [
              "        views      likes  dislikes  comment_count  ...      time  hr min sec\n",
              "0  748374.000  57527.000  2966.000      15954.000  ...  17:13:01  17  13   1\n",
              "1 2418783.000  97185.000  6146.000      12703.000  ...  07:30:00   7  30   0\n",
              "2 3191434.000 146033.000  5339.000       8181.000  ...  19:05:24  19   5  24\n",
              "3  343168.000  10172.000   666.000       2146.000  ...  11:00:04  11   0   4\n",
              "4 2095731.000 132235.000  1989.000      17518.000  ...  18:01:41  18   1  41\n",
              "\n",
              "[5 rows x 11 columns]"
            ]
          },
          "metadata": {
            "tags": []
          },
          "execution_count": 68
        }
      ]
    },
    {
      "cell_type": "code",
      "metadata": {
        "id": "BO-vHXMWi-wb",
        "colab_type": "code",
        "colab": {
          "base_uri": "https://localhost:8080/",
          "height": 419
        },
        "outputId": "7b880a7e-4389-4721-d869-af92f1768782"
      },
      "source": [
        "# looking for and dropping any duplicated data.\n",
        "df_new.duplicated().sum()\n",
        "df_new.drop_duplicates()"
      ],
      "execution_count": null,
      "outputs": [
        {
          "output_type": "execute_result",
          "data": {
            "text/html": [
              "<div>\n",
              "<style scoped>\n",
              "    .dataframe tbody tr th:only-of-type {\n",
              "        vertical-align: middle;\n",
              "    }\n",
              "\n",
              "    .dataframe tbody tr th {\n",
              "        vertical-align: top;\n",
              "    }\n",
              "\n",
              "    .dataframe thead th {\n",
              "        text-align: right;\n",
              "    }\n",
              "</style>\n",
              "<table border=\"1\" class=\"dataframe\">\n",
              "  <thead>\n",
              "    <tr style=\"text-align: right;\">\n",
              "      <th></th>\n",
              "      <th>views</th>\n",
              "      <th>likes</th>\n",
              "      <th>dislikes</th>\n",
              "      <th>comment_count</th>\n",
              "      <th>category_id</th>\n",
              "      <th>weekday</th>\n",
              "      <th>date</th>\n",
              "      <th>time</th>\n",
              "      <th>hr</th>\n",
              "      <th>min</th>\n",
              "      <th>sec</th>\n",
              "    </tr>\n",
              "  </thead>\n",
              "  <tbody>\n",
              "    <tr>\n",
              "      <th>0</th>\n",
              "      <td>748374.000</td>\n",
              "      <td>57527.000</td>\n",
              "      <td>2966.000</td>\n",
              "      <td>15954.000</td>\n",
              "      <td>22</td>\n",
              "      <td>Monday</td>\n",
              "      <td>2017-11-13</td>\n",
              "      <td>17:13:01</td>\n",
              "      <td>17</td>\n",
              "      <td>13</td>\n",
              "      <td>1</td>\n",
              "    </tr>\n",
              "    <tr>\n",
              "      <th>1</th>\n",
              "      <td>2418783.000</td>\n",
              "      <td>97185.000</td>\n",
              "      <td>6146.000</td>\n",
              "      <td>12703.000</td>\n",
              "      <td>24</td>\n",
              "      <td>Monday</td>\n",
              "      <td>2017-11-13</td>\n",
              "      <td>07:30:00</td>\n",
              "      <td>7</td>\n",
              "      <td>30</td>\n",
              "      <td>0</td>\n",
              "    </tr>\n",
              "    <tr>\n",
              "      <th>2</th>\n",
              "      <td>3191434.000</td>\n",
              "      <td>146033.000</td>\n",
              "      <td>5339.000</td>\n",
              "      <td>8181.000</td>\n",
              "      <td>23</td>\n",
              "      <td>Sunday</td>\n",
              "      <td>2017-11-12</td>\n",
              "      <td>19:05:24</td>\n",
              "      <td>19</td>\n",
              "      <td>5</td>\n",
              "      <td>24</td>\n",
              "    </tr>\n",
              "    <tr>\n",
              "      <th>3</th>\n",
              "      <td>343168.000</td>\n",
              "      <td>10172.000</td>\n",
              "      <td>666.000</td>\n",
              "      <td>2146.000</td>\n",
              "      <td>24</td>\n",
              "      <td>Monday</td>\n",
              "      <td>2017-11-13</td>\n",
              "      <td>11:00:04</td>\n",
              "      <td>11</td>\n",
              "      <td>0</td>\n",
              "      <td>4</td>\n",
              "    </tr>\n",
              "    <tr>\n",
              "      <th>4</th>\n",
              "      <td>2095731.000</td>\n",
              "      <td>132235.000</td>\n",
              "      <td>1989.000</td>\n",
              "      <td>17518.000</td>\n",
              "      <td>24</td>\n",
              "      <td>Sunday</td>\n",
              "      <td>2017-11-12</td>\n",
              "      <td>18:01:41</td>\n",
              "      <td>18</td>\n",
              "      <td>1</td>\n",
              "      <td>41</td>\n",
              "    </tr>\n",
              "    <tr>\n",
              "      <th>...</th>\n",
              "      <td>...</td>\n",
              "      <td>...</td>\n",
              "      <td>...</td>\n",
              "      <td>...</td>\n",
              "      <td>...</td>\n",
              "      <td>...</td>\n",
              "      <td>...</td>\n",
              "      <td>...</td>\n",
              "      <td>...</td>\n",
              "      <td>...</td>\n",
              "      <td>...</td>\n",
              "    </tr>\n",
              "    <tr>\n",
              "      <th>40944</th>\n",
              "      <td>1685609.000</td>\n",
              "      <td>38160.000</td>\n",
              "      <td>1385.000</td>\n",
              "      <td>2657.000</td>\n",
              "      <td>15</td>\n",
              "      <td>Friday</td>\n",
              "      <td>2018-05-18</td>\n",
              "      <td>13:00:04</td>\n",
              "      <td>13</td>\n",
              "      <td>0</td>\n",
              "      <td>4</td>\n",
              "    </tr>\n",
              "    <tr>\n",
              "      <th>40945</th>\n",
              "      <td>1064798.000</td>\n",
              "      <td>60008.000</td>\n",
              "      <td>382.000</td>\n",
              "      <td>3936.000</td>\n",
              "      <td>22</td>\n",
              "      <td>Friday</td>\n",
              "      <td>2018-05-18</td>\n",
              "      <td>01:00:06</td>\n",
              "      <td>1</td>\n",
              "      <td>0</td>\n",
              "      <td>6</td>\n",
              "    </tr>\n",
              "    <tr>\n",
              "      <th>40946</th>\n",
              "      <td>1066451.000</td>\n",
              "      <td>48068.000</td>\n",
              "      <td>1032.000</td>\n",
              "      <td>3992.000</td>\n",
              "      <td>24</td>\n",
              "      <td>Friday</td>\n",
              "      <td>2018-05-18</td>\n",
              "      <td>17:34:22</td>\n",
              "      <td>17</td>\n",
              "      <td>34</td>\n",
              "      <td>22</td>\n",
              "    </tr>\n",
              "    <tr>\n",
              "      <th>40947</th>\n",
              "      <td>5660813.000</td>\n",
              "      <td>192957.000</td>\n",
              "      <td>2846.000</td>\n",
              "      <td>13088.000</td>\n",
              "      <td>1</td>\n",
              "      <td>Thursday</td>\n",
              "      <td>2018-05-17</td>\n",
              "      <td>17:00:04</td>\n",
              "      <td>17</td>\n",
              "      <td>0</td>\n",
              "      <td>4</td>\n",
              "    </tr>\n",
              "    <tr>\n",
              "      <th>40948</th>\n",
              "      <td>10306119.000</td>\n",
              "      <td>357079.000</td>\n",
              "      <td>212976.000</td>\n",
              "      <td>144795.000</td>\n",
              "      <td>20</td>\n",
              "      <td>Thursday</td>\n",
              "      <td>2018-05-17</td>\n",
              "      <td>17:09:38</td>\n",
              "      <td>17</td>\n",
              "      <td>9</td>\n",
              "      <td>38</td>\n",
              "    </tr>\n",
              "  </tbody>\n",
              "</table>\n",
              "<p>40898 rows × 11 columns</p>\n",
              "</div>"
            ],
            "text/plain": [
              "             views      likes   dislikes  comment_count  ...      time  hr min sec\n",
              "0       748374.000  57527.000   2966.000      15954.000  ...  17:13:01  17  13   1\n",
              "1      2418783.000  97185.000   6146.000      12703.000  ...  07:30:00   7  30   0\n",
              "2      3191434.000 146033.000   5339.000       8181.000  ...  19:05:24  19   5  24\n",
              "3       343168.000  10172.000    666.000       2146.000  ...  11:00:04  11   0   4\n",
              "4      2095731.000 132235.000   1989.000      17518.000  ...  18:01:41  18   1  41\n",
              "...            ...        ...        ...            ...  ...       ...  ..  ..  ..\n",
              "40944  1685609.000  38160.000   1385.000       2657.000  ...  13:00:04  13   0   4\n",
              "40945  1064798.000  60008.000    382.000       3936.000  ...  01:00:06   1   0   6\n",
              "40946  1066451.000  48068.000   1032.000       3992.000  ...  17:34:22  17  34  22\n",
              "40947  5660813.000 192957.000   2846.000      13088.000  ...  17:00:04  17   0   4\n",
              "40948 10306119.000 357079.000 212976.000     144795.000  ...  17:09:38  17   9  38\n",
              "\n",
              "[40898 rows x 11 columns]"
            ]
          },
          "metadata": {
            "tags": []
          },
          "execution_count": 69
        }
      ]
    },
    {
      "cell_type": "code",
      "metadata": {
        "id": "RF4bBMZHkYbw",
        "colab_type": "code",
        "colab": {}
      },
      "source": [
        "# checking for anomalies using the IQRs\n",
        "#\n",
        "#\n",
        "q1=df_new.quantile(0.25) # Q1 \n",
        "q3=df_new.quantile(0.75) # Q3\n",
        "iqr=q3-q1 # interquatile range\n",
        "df_new = df_new[~((df_new < (q1 - 1.5 * iqr)) | (df_new > (q3 + 1.5 * iqr))).any(axis=1)]"
      ],
      "execution_count": null,
      "outputs": []
    },
    {
      "cell_type": "code",
      "metadata": {
        "id": "sBiiWLfwkYkl",
        "colab_type": "code",
        "colab": {
          "base_uri": "https://localhost:8080/",
          "height": 1000
        },
        "outputId": "f750086f-53b3-4daa-a0bd-dc220079b3d0"
      },
      "source": [
        "# checking if outliers have been removed\n",
        "columns=['views','likes','dislikes','comment_count']\n",
        "fig, ax = plt.subplots(len(columns), figsize=(8,40))\n",
        "for i, values in enumerate(columns):\n",
        "    sns.boxplot(y=df_new[values], ax=ax[i])\n",
        "    ax[i].set_title(f'Box plot - {values}')\n",
        "    ax[i].set_xlabel(values)\n",
        "plt.show()"
      ],
      "execution_count": null,
      "outputs": [
        {
          "output_type": "display_data",
          "data": {
            "image/png": "[encoded data removed]",
            "text/plain": [
              "<Figure size 576x2880 with 4 Axes>"
            ]
          },
          "metadata": {
            "tags": [],
            "needs_background": "light"
          }
        }
      ]
    },
    {
      "cell_type": "code",
      "metadata": {
        "id": "nn1LciajoLB6",
        "colab_type": "code",
        "colab": {}
      },
      "source": [
        "# cleaning and dropping what's not necessary.\n",
        "#\n",
        "#\n",
        "#df_export = df.copy()\n",
        "#df_export.drop(['thumbnail_link','tags','title','video_id',\n",
        " #            'comments_disabled','ratings_disabled','video_error_or_removed',\n",
        " #            'description','video_id','title', 'contains_capitalized'],axis=1,inplace=True)"
      ],
      "execution_count": null,
      "outputs": []
    },
    {
      "cell_type": "code",
      "metadata": {
        "id": "cEB0XYsco3RX",
        "colab_type": "code",
        "colab": {}
      },
      "source": [
        "#df_export.head()"
      ],
      "execution_count": null,
      "outputs": []
    },
    {
      "cell_type": "code",
      "metadata": {
        "id": "QeOW7x8xnaKV",
        "colab_type": "code",
        "colab": {}
      },
      "source": [
        "# exporting the dataset\n",
        "#df_export.to_csv('clean_export_data.csv',index=False)"
      ],
      "execution_count": null,
      "outputs": []
    },
    {
      "cell_type": "markdown",
      "metadata": {
        "id": "NkCIHZLukynT",
        "colab_type": "text"
      },
      "source": [
        "## Exploratory Analysis"
      ]
    },
    {
      "cell_type": "markdown",
      "metadata": {
        "id": "9no2ypuLk294",
        "colab_type": "text"
      },
      "source": [
        "### Univariate Analysis"
      ]
    },
    {
      "cell_type": "code",
      "metadata": {
        "id": "bZYi46ww-pbO",
        "colab_type": "code",
        "colab": {
          "base_uri": "https://localhost:8080/",
          "height": 513
        },
        "outputId": "bc39aa75-4812-4ce1-8ec5-3962104070c2"
      },
      "source": [
        "df.head()"
      ],
      "execution_count": null,
      "outputs": [
        {
          "output_type": "execute_result",
          "data": {
            "text/html": [
              "<div>\n",
              "<style scoped>\n",
              "    .dataframe tbody tr th:only-of-type {\n",
              "        vertical-align: middle;\n",
              "    }\n",
              "\n",
              "    .dataframe tbody tr th {\n",
              "        vertical-align: top;\n",
              "    }\n",
              "\n",
              "    .dataframe thead th {\n",
              "        text-align: right;\n",
              "    }\n",
              "</style>\n",
              "<table border=\"1\" class=\"dataframe\">\n",
              "  <thead>\n",
              "    <tr style=\"text-align: right;\">\n",
              "      <th></th>\n",
              "      <th>video_id</th>\n",
              "      <th>trending_date</th>\n",
              "      <th>title</th>\n",
              "      <th>channel_title</th>\n",
              "      <th>category_id</th>\n",
              "      <th>publish_time</th>\n",
              "      <th>tags</th>\n",
              "      <th>views</th>\n",
              "      <th>likes</th>\n",
              "      <th>dislikes</th>\n",
              "      <th>comment_count</th>\n",
              "      <th>thumbnail_link</th>\n",
              "      <th>comments_disabled</th>\n",
              "      <th>ratings_disabled</th>\n",
              "      <th>video_error_or_removed</th>\n",
              "      <th>description</th>\n",
              "      <th>date</th>\n",
              "      <th>time</th>\n",
              "      <th>hr</th>\n",
              "      <th>min</th>\n",
              "      <th>sec</th>\n",
              "      <th>weekday</th>\n",
              "    </tr>\n",
              "  </thead>\n",
              "  <tbody>\n",
              "    <tr>\n",
              "      <th>0</th>\n",
              "      <td>2kyS6SvSYSE</td>\n",
              "      <td>17.14.11</td>\n",
              "      <td>WE WANT TO TALK ABOUT OUR MARRIAGE</td>\n",
              "      <td>CaseyNeistat</td>\n",
              "      <td>22</td>\n",
              "      <td>2017-11-13 17:13:01+00:00</td>\n",
              "      <td>SHANtell martin</td>\n",
              "      <td>748374.000</td>\n",
              "      <td>57527.000</td>\n",
              "      <td>2966.000</td>\n",
              "      <td>15954.000</td>\n",
              "      <td>https://i.ytimg.com/vi/2kyS6SvSYSE/default.jpg</td>\n",
              "      <td>False</td>\n",
              "      <td>False</td>\n",
              "      <td>False</td>\n",
              "      <td>SHANTELL'S CHANNEL - https://www.youtube.com/s...</td>\n",
              "      <td>2017-11-13</td>\n",
              "      <td>17:13:01</td>\n",
              "      <td>17</td>\n",
              "      <td>13</td>\n",
              "      <td>1</td>\n",
              "      <td>Monday</td>\n",
              "    </tr>\n",
              "    <tr>\n",
              "      <th>1</th>\n",
              "      <td>1ZAPwfrtAFY</td>\n",
              "      <td>17.14.11</td>\n",
              "      <td>The Trump Presidency: Last Week Tonight with J...</td>\n",
              "      <td>LastWeekTonight</td>\n",
              "      <td>24</td>\n",
              "      <td>2017-11-13 07:30:00+00:00</td>\n",
              "      <td>last week tonight trump presidency|\"last week ...</td>\n",
              "      <td>2418783.000</td>\n",
              "      <td>97185.000</td>\n",
              "      <td>6146.000</td>\n",
              "      <td>12703.000</td>\n",
              "      <td>https://i.ytimg.com/vi/1ZAPwfrtAFY/default.jpg</td>\n",
              "      <td>False</td>\n",
              "      <td>False</td>\n",
              "      <td>False</td>\n",
              "      <td>One year after the presidential election, John...</td>\n",
              "      <td>2017-11-13</td>\n",
              "      <td>07:30:00</td>\n",
              "      <td>7</td>\n",
              "      <td>30</td>\n",
              "      <td>0</td>\n",
              "      <td>Monday</td>\n",
              "    </tr>\n",
              "    <tr>\n",
              "      <th>2</th>\n",
              "      <td>5qpjK5DgCt4</td>\n",
              "      <td>17.14.11</td>\n",
              "      <td>Racist Superman | Rudy Mancuso, King Bach &amp; Le...</td>\n",
              "      <td>Rudy Mancuso</td>\n",
              "      <td>23</td>\n",
              "      <td>2017-11-12 19:05:24+00:00</td>\n",
              "      <td>racist superman|\"rudy\"|\"mancuso\"|\"king\"|\"bach\"...</td>\n",
              "      <td>3191434.000</td>\n",
              "      <td>146033.000</td>\n",
              "      <td>5339.000</td>\n",
              "      <td>8181.000</td>\n",
              "      <td>https://i.ytimg.com/vi/5qpjK5DgCt4/default.jpg</td>\n",
              "      <td>False</td>\n",
              "      <td>False</td>\n",
              "      <td>False</td>\n",
              "      <td>WATCH MY PREVIOUS VIDEO ▶ \\n\\nSUBSCRIBE ► http...</td>\n",
              "      <td>2017-11-12</td>\n",
              "      <td>19:05:24</td>\n",
              "      <td>19</td>\n",
              "      <td>5</td>\n",
              "      <td>24</td>\n",
              "      <td>Sunday</td>\n",
              "    </tr>\n",
              "    <tr>\n",
              "      <th>3</th>\n",
              "      <td>puqaWrEC7tY</td>\n",
              "      <td>17.14.11</td>\n",
              "      <td>Nickelback Lyrics: Real or Fake?</td>\n",
              "      <td>Good Mythical Morning</td>\n",
              "      <td>24</td>\n",
              "      <td>2017-11-13 11:00:04+00:00</td>\n",
              "      <td>rhett and link|\"gmm\"|\"good mythical morning\"|\"...</td>\n",
              "      <td>343168.000</td>\n",
              "      <td>10172.000</td>\n",
              "      <td>666.000</td>\n",
              "      <td>2146.000</td>\n",
              "      <td>https://i.ytimg.com/vi/puqaWrEC7tY/default.jpg</td>\n",
              "      <td>False</td>\n",
              "      <td>False</td>\n",
              "      <td>False</td>\n",
              "      <td>Today we find out if Link is a Nickelback amat...</td>\n",
              "      <td>2017-11-13</td>\n",
              "      <td>11:00:04</td>\n",
              "      <td>11</td>\n",
              "      <td>0</td>\n",
              "      <td>4</td>\n",
              "      <td>Monday</td>\n",
              "    </tr>\n",
              "    <tr>\n",
              "      <th>4</th>\n",
              "      <td>d380meD0W0M</td>\n",
              "      <td>17.14.11</td>\n",
              "      <td>I Dare You: GOING BALD!?</td>\n",
              "      <td>nigahiga</td>\n",
              "      <td>24</td>\n",
              "      <td>2017-11-12 18:01:41+00:00</td>\n",
              "      <td>ryan|\"higa\"|\"higatv\"|\"nigahiga\"|\"i dare you\"|\"...</td>\n",
              "      <td>2095731.000</td>\n",
              "      <td>132235.000</td>\n",
              "      <td>1989.000</td>\n",
              "      <td>17518.000</td>\n",
              "      <td>https://i.ytimg.com/vi/d380meD0W0M/default.jpg</td>\n",
              "      <td>False</td>\n",
              "      <td>False</td>\n",
              "      <td>False</td>\n",
              "      <td>I know it's been a while since we did this sho...</td>\n",
              "      <td>2017-11-12</td>\n",
              "      <td>18:01:41</td>\n",
              "      <td>18</td>\n",
              "      <td>1</td>\n",
              "      <td>41</td>\n",
              "      <td>Sunday</td>\n",
              "    </tr>\n",
              "  </tbody>\n",
              "</table>\n",
              "</div>"
            ],
            "text/plain": [
              "      video_id trending_date  ... sec weekday\n",
              "0  2kyS6SvSYSE      17.14.11  ...   1  Monday\n",
              "1  1ZAPwfrtAFY      17.14.11  ...   0  Monday\n",
              "2  5qpjK5DgCt4      17.14.11  ...  24  Sunday\n",
              "3  puqaWrEC7tY      17.14.11  ...   4  Monday\n",
              "4  d380meD0W0M      17.14.11  ...  41  Sunday\n",
              "\n",
              "[5 rows x 22 columns]"
            ]
          },
          "metadata": {
            "tags": []
          },
          "execution_count": 72
        }
      ]
    },
    {
      "cell_type": "code",
      "metadata": {
        "id": "cL1hYwX6kYs1",
        "colab_type": "code",
        "colab": {
          "base_uri": "https://localhost:8080/",
          "height": 670
        },
        "outputId": "541406d1-7db8-4249-9576-d0c6e775e041"
      },
      "source": [
        "# plot showing the most popular days trending videos. \n",
        "plt.figure(figsize=(10,10))\n",
        "plt.xlabel('Weekdays')\n",
        "plt.ylabel('Videos')\n",
        "df_new['weekday'].value_counts().plot.bar()\n",
        "\n",
        "# The most popular time to post a video is mid week"
      ],
      "execution_count": null,
      "outputs": [
        {
          "output_type": "execute_result",
          "data": {
            "text/plain": [
              "<matplotlib.axes._subplots.AxesSubplot at 0x7fcc3ade7d68>"
            ]
          },
          "metadata": {
            "tags": []
          },
          "execution_count": 73
        },
        {
          "output_type": "display_data",
          "data": {
            "image/png": "[encoded data removed]",
            "text/plain": [
              "<Figure size 720x720 with 1 Axes>"
            ]
          },
          "metadata": {
            "tags": [],
            "needs_background": "light"
          }
        }
      ]
    },
    {
      "cell_type": "code",
      "metadata": {
        "id": "xdbW71quIC82",
        "colab_type": "code",
        "colab": {
          "base_uri": "https://localhost:8080/",
          "height": 621
        },
        "outputId": "26dcce25-f5ac-4a2c-d319-7d519fd3cb14"
      },
      "source": [
        "# bar histogram for video likes\n",
        "df_views = df_new['views']\n",
        "\n",
        "plt.figure(figsize=(10,10))\n",
        "plt.hist(df_views, bins=10, histtype='bar', rwidth=0.9)\n",
        "plt.xlabel('No. of Views')\n",
        "plt.ylabel('Rate of Occurrence')\n",
        "plt.title('Histogram of frequency of views')\n",
        "plt.show()"
      ],
      "execution_count": null,
      "outputs": [
        {
          "output_type": "display_data",
          "data": {
            "image/png": "[encoded data removed]",
            "text/plain": [
              "<Figure size 720x720 with 1 Axes>"
            ]
          },
          "metadata": {
            "tags": [],
            "needs_background": "light"
          }
        }
      ]
    },
    {
      "cell_type": "code",
      "metadata": {
        "id": "K6sNG1qIlfXH",
        "colab_type": "code",
        "colab": {
          "base_uri": "https://localhost:8080/",
          "height": 370
        },
        "outputId": "5376453a-bec4-42b1-87d1-0ddf62b9994b"
      },
      "source": [
        "# hourly frequency upload times for videos in the United states in 24 hour format\n",
        "#\n",
        "plt.figure(figsize=(10,10))\n",
        "plt.figure(figsize=(10,5)) \n",
        "plt.xlabel('Hour of the day')\n",
        "plt.ylabel('No. of Videos')\n",
        "df_new['hr'].value_counts().plot.bar()"
      ],
      "execution_count": null,
      "outputs": [
        {
          "output_type": "execute_result",
          "data": {
            "text/plain": [
              "<matplotlib.axes._subplots.AxesSubplot at 0x7fcc3a964f98>"
            ]
          },
          "metadata": {
            "tags": []
          },
          "execution_count": 75
        },
        {
          "output_type": "display_data",
          "data": {
            "text/plain": [
              "<Figure size 720x720 with 0 Axes>"
            ]
          },
          "metadata": {
            "tags": []
          }
        },
        {
          "output_type": "display_data",
          "data": {
            "image/png": "[encoded data removed]",
            "text/plain": [
              "<Figure size 720x360 with 1 Axes>"
            ]
          },
          "metadata": {
            "tags": [],
            "needs_background": "light"
          }
        }
      ]
    },
    {
      "cell_type": "code",
      "metadata": {
        "id": "AKB0KXAIHek6",
        "colab_type": "code",
        "colab": {
          "base_uri": "https://localhost:8080/",
          "height": 621
        },
        "outputId": "9ea71173-bfc6-4834-bc6d-350e6700dd18"
      },
      "source": [
        "# bar histogram for video comments count col\n",
        "df_comm = df_new['comment_count']\n",
        "\n",
        "plt.figure(figsize=(10,10))\n",
        "plt.hist(df_comm, bins=10, histtype='bar', rwidth=0.9)\n",
        "plt.xlabel('No. of Comment Count')\n",
        "plt.ylabel('Rate of Occurrence')\n",
        "plt.title('Histogram of frequency of Comment Count')\n",
        "plt.show()"
      ],
      "execution_count": null,
      "outputs": [
        {
          "output_type": "display_data",
          "data": {
            "image/png": "[encoded data removed]",
            "text/plain": [
              "<Figure size 720x720 with 1 Axes>"
            ]
          },
          "metadata": {
            "tags": [],
            "needs_background": "light"
          }
        }
      ]
    },
    {
      "cell_type": "code",
      "metadata": {
        "id": "I_NIUiJwHEIM",
        "colab_type": "code",
        "colab": {
          "base_uri": "https://localhost:8080/",
          "height": 621
        },
        "outputId": "4c6d3041-fbe8-4be5-b519-19692eb4ba6b"
      },
      "source": [
        "# bar histogram for video dislikes\n",
        "df_dislikes = df_new['dislikes']\n",
        "\n",
        "plt.figure(figsize=(10,10))\n",
        "df_new['dislikes'].hist()\n",
        "plt.xlabel('No. of Dislikes')\n",
        "plt.ylabel('Rate of Occurrence')\n",
        "plt.title('Histogram of frequency of Dislikes')\n",
        "plt.show()"
      ],
      "execution_count": null,
      "outputs": [
        {
          "output_type": "display_data",
          "data": {
            "image/png": "[encoded data removed]",
            "text/plain": [
              "<Figure size 720x720 with 1 Axes>"
            ]
          },
          "metadata": {
            "tags": [],
            "needs_background": "light"
          }
        }
      ]
    },
    {
      "cell_type": "code",
      "metadata": {
        "id": "mfS8mk_bGn3u",
        "colab_type": "code",
        "colab": {
          "base_uri": "https://localhost:8080/",
          "height": 621
        },
        "outputId": "eee9a8fc-72ef-4bbf-aabb-a6358800b862"
      },
      "source": [
        "# bar histogram for video likes\n",
        "df_likes = df_new['likes']\n",
        "\n",
        "plt.figure(figsize=(10,10))\n",
        "df_new['likes'].hist()\n",
        "plt.xlabel('No. of Likes')\n",
        "plt.ylabel('Rate of Occurrence')\n",
        "plt.title('Histogram of frequency of likes')\n",
        "plt.show()"
      ],
      "execution_count": null,
      "outputs": [
        {
          "output_type": "display_data",
          "data": {
            "image/png": "[encoded data removed]",
            "text/plain": [
              "<Figure size 720x720 with 1 Axes>"
            ]
          },
          "metadata": {
            "tags": [],
            "needs_background": "light"
          }
        }
      ]
    },
    {
      "cell_type": "code",
      "metadata": {
        "id": "UTkAheYEKYyx",
        "colab_type": "code",
        "colab": {
          "base_uri": "https://localhost:8080/",
          "height": 204
        },
        "outputId": "eef757d8-5a08-44cf-c907-f636e50e2d40"
      },
      "source": [
        "df_new.head()"
      ],
      "execution_count": null,
      "outputs": [
        {
          "output_type": "execute_result",
          "data": {
            "text/html": [
              "<div>\n",
              "<style scoped>\n",
              "    .dataframe tbody tr th:only-of-type {\n",
              "        vertical-align: middle;\n",
              "    }\n",
              "\n",
              "    .dataframe tbody tr th {\n",
              "        vertical-align: top;\n",
              "    }\n",
              "\n",
              "    .dataframe thead th {\n",
              "        text-align: right;\n",
              "    }\n",
              "</style>\n",
              "<table border=\"1\" class=\"dataframe\">\n",
              "  <thead>\n",
              "    <tr style=\"text-align: right;\">\n",
              "      <th></th>\n",
              "      <th>views</th>\n",
              "      <th>likes</th>\n",
              "      <th>dislikes</th>\n",
              "      <th>comment_count</th>\n",
              "      <th>category_id</th>\n",
              "      <th>weekday</th>\n",
              "      <th>date</th>\n",
              "      <th>time</th>\n",
              "      <th>hr</th>\n",
              "      <th>min</th>\n",
              "      <th>sec</th>\n",
              "    </tr>\n",
              "  </thead>\n",
              "  <tbody>\n",
              "    <tr>\n",
              "      <th>3</th>\n",
              "      <td>343168.000</td>\n",
              "      <td>10172.000</td>\n",
              "      <td>666.000</td>\n",
              "      <td>2146.000</td>\n",
              "      <td>24</td>\n",
              "      <td>Monday</td>\n",
              "      <td>2017-11-13</td>\n",
              "      <td>11:00:04</td>\n",
              "      <td>11</td>\n",
              "      <td>0</td>\n",
              "      <td>4</td>\n",
              "    </tr>\n",
              "    <tr>\n",
              "      <th>5</th>\n",
              "      <td>119180.000</td>\n",
              "      <td>9763.000</td>\n",
              "      <td>511.000</td>\n",
              "      <td>1434.000</td>\n",
              "      <td>28</td>\n",
              "      <td>Monday</td>\n",
              "      <td>2017-11-13</td>\n",
              "      <td>19:07:23</td>\n",
              "      <td>19</td>\n",
              "      <td>7</td>\n",
              "      <td>23</td>\n",
              "    </tr>\n",
              "    <tr>\n",
              "      <th>6</th>\n",
              "      <td>2103417.000</td>\n",
              "      <td>15993.000</td>\n",
              "      <td>2445.000</td>\n",
              "      <td>1970.000</td>\n",
              "      <td>24</td>\n",
              "      <td>Sunday</td>\n",
              "      <td>2017-11-12</td>\n",
              "      <td>05:37:17</td>\n",
              "      <td>5</td>\n",
              "      <td>37</td>\n",
              "      <td>17</td>\n",
              "    </tr>\n",
              "    <tr>\n",
              "      <th>7</th>\n",
              "      <td>817732.000</td>\n",
              "      <td>23663.000</td>\n",
              "      <td>778.000</td>\n",
              "      <td>3432.000</td>\n",
              "      <td>28</td>\n",
              "      <td>Sunday</td>\n",
              "      <td>2017-11-12</td>\n",
              "      <td>21:50:37</td>\n",
              "      <td>21</td>\n",
              "      <td>50</td>\n",
              "      <td>37</td>\n",
              "    </tr>\n",
              "    <tr>\n",
              "      <th>9</th>\n",
              "      <td>256426.000</td>\n",
              "      <td>12654.000</td>\n",
              "      <td>1363.000</td>\n",
              "      <td>2368.000</td>\n",
              "      <td>25</td>\n",
              "      <td>Monday</td>\n",
              "      <td>2017-11-13</td>\n",
              "      <td>13:45:16</td>\n",
              "      <td>13</td>\n",
              "      <td>45</td>\n",
              "      <td>16</td>\n",
              "    </tr>\n",
              "  </tbody>\n",
              "</table>\n",
              "</div>"
            ],
            "text/plain": [
              "        views     likes  dislikes  comment_count  ...      time  hr min sec\n",
              "3  343168.000 10172.000   666.000       2146.000  ...  11:00:04  11   0   4\n",
              "5  119180.000  9763.000   511.000       1434.000  ...  19:07:23  19   7  23\n",
              "6 2103417.000 15993.000  2445.000       1970.000  ...  05:37:17   5  37  17\n",
              "7  817732.000 23663.000   778.000       3432.000  ...  21:50:37  21  50  37\n",
              "9  256426.000 12654.000  1363.000       2368.000  ...  13:45:16  13  45  16\n",
              "\n",
              "[5 rows x 11 columns]"
            ]
          },
          "metadata": {
            "tags": []
          },
          "execution_count": 79
        }
      ]
    },
    {
      "cell_type": "code",
      "metadata": {
        "id": "Lmy9XQZaKOGa",
        "colab_type": "code",
        "colab": {
          "base_uri": "https://localhost:8080/",
          "height": 272
        },
        "outputId": "c1061e23-2acb-4dc0-d522-f9e6f73efa3f"
      },
      "source": [
        "# measures of central tendancies\n",
        "# mean\n",
        "#\n",
        "\n",
        "print(f'The average number of likes is: {df_likes.mean()}')\n",
        "print(f'The average number of dislikes is: {df_dislikes.mean()}')\n",
        "print(f'The average number of comments is: {df_comm.mean()}')\n",
        "print('-----------------------------------------------------------------')\n",
        "#\n",
        "# mode\n",
        "\n",
        "print(f'The median number for likes is: {df_likes.median()}')\n",
        "print(f'The median number for dislikes is: {df_dislikes.median()}')\n",
        "print(f'The median number for comments is: {df_comm.median()}')\n",
        "print('-----------------------------------------------------------------')\n",
        "#\n",
        "# median\n",
        "\n",
        "print(f'The mode number for likes is: {df_likes.mode()}')\n",
        "print(f'The mode number for dislikes is: {df_dislikes.mode()}')\n",
        "print(f'The mode number for comments is: {df_comm.mode()}')\n",
        "print('-----------------------------------------------------------------')"
      ],
      "execution_count": null,
      "outputs": [
        {
          "output_type": "stream",
          "text": [
            "The average number of likes is: 21199.136803194826\n",
            "The average number of dislikes is: 721.4190897389353\n",
            "The average number of comments is: 2085.4447671540315\n",
            "-----------------------------------------------------------------\n",
            "The median number for likes is: 12133.0\n",
            "The median number for dislikes is: 407.0\n",
            "The median number for comments is: 1252.0\n",
            "-----------------------------------------------------------------\n",
            "The mode number for likes is: 0   0.000\n",
            "dtype: float64\n",
            "The mode number for dislikes is: 0   0.000\n",
            "dtype: float64\n",
            "The mode number for comments is: 0   0.000\n",
            "dtype: float64\n",
            "-----------------------------------------------------------------\n"
          ],
          "name": "stdout"
        }
      ]
    },
    {
      "cell_type": "code",
      "metadata": {
        "id": "NHv9zZJQL9yB",
        "colab_type": "code",
        "colab": {}
      },
      "source": [
        "sns.boxplot(df_new['likes'], showmeans=True)"
      ],
      "execution_count": null,
      "outputs": []
    },
    {
      "cell_type": "code",
      "metadata": {
        "id": "Aq9c__eCMdJP",
        "colab_type": "code",
        "colab": {}
      },
      "source": [
        "sns.boxplot(df_new['dislikes'], showmeans=True)"
      ],
      "execution_count": null,
      "outputs": []
    },
    {
      "cell_type": "code",
      "metadata": {
        "id": "63rc3k6iMg_R",
        "colab_type": "code",
        "colab": {}
      },
      "source": [
        "sns.boxplot(df_new['comment_count'], showmeans=True)"
      ],
      "execution_count": null,
      "outputs": []
    },
    {
      "cell_type": "code",
      "metadata": {
        "id": "E0mKsMgENiKg",
        "colab_type": "code",
        "colab": {}
      },
      "source": [
        "sns.boxplot(df_new['views'], showmeans=True)"
      ],
      "execution_count": null,
      "outputs": []
    },
    {
      "cell_type": "code",
      "metadata": {
        "id": "P8CMZRUlmHjc",
        "colab_type": "code",
        "colab": {}
      },
      "source": [
        "print('Average views a trending video gets is '+ str(df_new['views'].mean()))"
      ],
      "execution_count": null,
      "outputs": []
    },
    {
      "cell_type": "markdown",
      "metadata": {
        "id": "znFp_Z93xUqA",
        "colab_type": "text"
      },
      "source": [
        "### Bivariate Analysis"
      ]
    },
    {
      "cell_type": "code",
      "metadata": {
        "id": "BWWF7QrrmHs3",
        "colab_type": "code",
        "colab": {
          "base_uri": "https://localhost:8080/",
          "height": 204
        },
        "outputId": "0c35d4c9-89d5-4ea3-af57-fafeff6b2a8d"
      },
      "source": [
        "df_new.head()"
      ],
      "execution_count": null,
      "outputs": [
        {
          "output_type": "execute_result",
          "data": {
            "text/html": [
              "<div>\n",
              "<style scoped>\n",
              "    .dataframe tbody tr th:only-of-type {\n",
              "        vertical-align: middle;\n",
              "    }\n",
              "\n",
              "    .dataframe tbody tr th {\n",
              "        vertical-align: top;\n",
              "    }\n",
              "\n",
              "    .dataframe thead th {\n",
              "        text-align: right;\n",
              "    }\n",
              "</style>\n",
              "<table border=\"1\" class=\"dataframe\">\n",
              "  <thead>\n",
              "    <tr style=\"text-align: right;\">\n",
              "      <th></th>\n",
              "      <th>views</th>\n",
              "      <th>likes</th>\n",
              "      <th>dislikes</th>\n",
              "      <th>comment_count</th>\n",
              "      <th>category_id</th>\n",
              "      <th>weekday</th>\n",
              "      <th>date</th>\n",
              "      <th>time</th>\n",
              "      <th>hr</th>\n",
              "      <th>min</th>\n",
              "      <th>sec</th>\n",
              "    </tr>\n",
              "  </thead>\n",
              "  <tbody>\n",
              "    <tr>\n",
              "      <th>3</th>\n",
              "      <td>343168.000</td>\n",
              "      <td>10172.000</td>\n",
              "      <td>666.000</td>\n",
              "      <td>2146.000</td>\n",
              "      <td>24</td>\n",
              "      <td>Monday</td>\n",
              "      <td>2017-11-13</td>\n",
              "      <td>11:00:04</td>\n",
              "      <td>11</td>\n",
              "      <td>0</td>\n",
              "      <td>4</td>\n",
              "    </tr>\n",
              "    <tr>\n",
              "      <th>5</th>\n",
              "      <td>119180.000</td>\n",
              "      <td>9763.000</td>\n",
              "      <td>511.000</td>\n",
              "      <td>1434.000</td>\n",
              "      <td>28</td>\n",
              "      <td>Monday</td>\n",
              "      <td>2017-11-13</td>\n",
              "      <td>19:07:23</td>\n",
              "      <td>19</td>\n",
              "      <td>7</td>\n",
              "      <td>23</td>\n",
              "    </tr>\n",
              "    <tr>\n",
              "      <th>6</th>\n",
              "      <td>2103417.000</td>\n",
              "      <td>15993.000</td>\n",
              "      <td>2445.000</td>\n",
              "      <td>1970.000</td>\n",
              "      <td>24</td>\n",
              "      <td>Sunday</td>\n",
              "      <td>2017-11-12</td>\n",
              "      <td>05:37:17</td>\n",
              "      <td>5</td>\n",
              "      <td>37</td>\n",
              "      <td>17</td>\n",
              "    </tr>\n",
              "    <tr>\n",
              "      <th>7</th>\n",
              "      <td>817732.000</td>\n",
              "      <td>23663.000</td>\n",
              "      <td>778.000</td>\n",
              "      <td>3432.000</td>\n",
              "      <td>28</td>\n",
              "      <td>Sunday</td>\n",
              "      <td>2017-11-12</td>\n",
              "      <td>21:50:37</td>\n",
              "      <td>21</td>\n",
              "      <td>50</td>\n",
              "      <td>37</td>\n",
              "    </tr>\n",
              "    <tr>\n",
              "      <th>9</th>\n",
              "      <td>256426.000</td>\n",
              "      <td>12654.000</td>\n",
              "      <td>1363.000</td>\n",
              "      <td>2368.000</td>\n",
              "      <td>25</td>\n",
              "      <td>Monday</td>\n",
              "      <td>2017-11-13</td>\n",
              "      <td>13:45:16</td>\n",
              "      <td>13</td>\n",
              "      <td>45</td>\n",
              "      <td>16</td>\n",
              "    </tr>\n",
              "  </tbody>\n",
              "</table>\n",
              "</div>"
            ],
            "text/plain": [
              "        views     likes  dislikes  comment_count  ...      time  hr min sec\n",
              "3  343168.000 10172.000   666.000       2146.000  ...  11:00:04  11   0   4\n",
              "5  119180.000  9763.000   511.000       1434.000  ...  19:07:23  19   7  23\n",
              "6 2103417.000 15993.000  2445.000       1970.000  ...  05:37:17   5  37  17\n",
              "7  817732.000 23663.000   778.000       3432.000  ...  21:50:37  21  50  37\n",
              "9  256426.000 12654.000  1363.000       2368.000  ...  13:45:16  13  45  16\n",
              "\n",
              "[5 rows x 11 columns]"
            ]
          },
          "metadata": {
            "tags": []
          },
          "execution_count": 81
        }
      ]
    },
    {
      "cell_type": "code",
      "metadata": {
        "id": "EPRSaouK2rl5",
        "colab_type": "code",
        "colab": {
          "base_uri": "https://localhost:8080/",
          "height": 68
        },
        "outputId": "19e6389b-acc0-4512-a871-47dc58140631"
      },
      "source": [
        "# dataset colletion years\n",
        "# return a series containing counts of unique values.\n",
        "# the normalize parameter returns, if True, an the relative frequencies of the unique values.\n",
        "# % = (relative frequency / total number)  * 100\n",
        "#\n",
        "df[\"trending_date\"].apply(lambda x: '20' + x[:2]).value_counts(normalize=True)"
      ],
      "execution_count": null,
      "outputs": [
        {
          "output_type": "execute_result",
          "data": {
            "text/plain": [
              "2018   0.766\n",
              "2017   0.234\n",
              "Name: trending_date, dtype: float64"
            ]
          },
          "metadata": {
            "tags": []
          },
          "execution_count": 82
        }
      ]
    },
    {
      "cell_type": "markdown",
      "metadata": {
        "id": "IgQee0Dq3zAR",
        "colab_type": "text"
      },
      "source": [
        "We can see that the dataset was collected in 2017 and 2018 with 77% of it in 2018 and 23% in 2017."
      ]
    },
    {
      "cell_type": "code",
      "metadata": {
        "id": "zslbhCmzlffB",
        "colab_type": "code",
        "colab": {
          "base_uri": "https://localhost:8080/",
          "height": 638
        },
        "outputId": "5c09a814-d8f2-4f89-efa5-6526af536486"
      },
      "source": [
        "# scatter plot for views vs likes\n",
        "# plt.scatter(df_new['views'], df_new['likes'])\n",
        "#\n",
        "plt.figure(figsize=(10,10))\n",
        "plt.scatter(x=df['views'], y=df['likes'], color='#FF5722', edgecolors=\"#000000\", linewidths=0.5)\n",
        "plt.title('Views vs Likes')\n",
        "plt.xlabel('Views')\n",
        "plt.ylabel('Likes')"
      ],
      "execution_count": null,
      "outputs": [
        {
          "output_type": "execute_result",
          "data": {
            "text/plain": [
              "Text(0, 0.5, 'Likes')"
            ]
          },
          "metadata": {
            "tags": []
          },
          "execution_count": 83
        },
        {
          "output_type": "display_data",
          "data": {
            "image/png": "[encoded data removed]",
            "text/plain": [
              "<Figure size 720x720 with 1 Axes>"
            ]
          },
          "metadata": {
            "tags": [],
            "needs_background": "light"
          }
        }
      ]
    },
    {
      "cell_type": "markdown",
      "metadata": {
        "id": "ZlN6T07dXOac",
        "colab_type": "text"
      },
      "source": [
        "You can see that views and likes are truly positively correlated, as one increases, the other increases too."
      ]
    },
    {
      "cell_type": "code",
      "metadata": {
        "id": "9T7eBtaXPG0x",
        "colab_type": "code",
        "colab": {
          "base_uri": "https://localhost:8080/",
          "height": 638
        },
        "outputId": "b3873e99-6abe-49ab-d886-211ae4316c1f"
      },
      "source": [
        "# scatter plot for views vs dislikes\n",
        "#plt.scatter(df_new['views'], df_new['dislikes'])\n",
        "#\n",
        "plt.figure(figsize=(10,10))\n",
        "plt.scatter(x=df['views'], y=df['dislikes'], color='#FF5722', edgecolors=\"#000000\", linewidths=0.5)\n",
        "plt.title('Views vs Dislikes')\n",
        "plt.xlabel('Views')\n",
        "plt.ylabel('Dislikes')"
      ],
      "execution_count": null,
      "outputs": [
        {
          "output_type": "execute_result",
          "data": {
            "text/plain": [
              "Text(0, 0.5, 'Dislikes')"
            ]
          },
          "metadata": {
            "tags": []
          },
          "execution_count": 84
        },
        {
          "output_type": "display_data",
          "data": {
            "image/png": "[encoded data removed]",
            "text/plain": [
              "<Figure size 720x720 with 1 Axes>"
            ]
          },
          "metadata": {
            "tags": [],
            "needs_background": "light"
          }
        }
      ]
    },
    {
      "cell_type": "code",
      "metadata": {
        "id": "XDzlfCYQPT7d",
        "colab_type": "code",
        "colab": {
          "base_uri": "https://localhost:8080/",
          "height": 638
        },
        "outputId": "1d108b16-59fc-4734-c96a-d7c4e202d3fd"
      },
      "source": [
        "# scatter plot for views vs comments\n",
        "# plt.scatter(df_new['views'], df_new['comment_count'])\n",
        "#\n",
        "plt.figure(figsize=(10,10))\n",
        "plt.scatter(x=df['views'], y=df['comment_count'], color='#FF5722', edgecolors=\"#000000\", linewidths=0.5)\n",
        "plt.title('Views vs Comments')\n",
        "plt.xlabel('Views')\n",
        "plt.ylabel('Comments Count')"
      ],
      "execution_count": null,
      "outputs": [
        {
          "output_type": "execute_result",
          "data": {
            "text/plain": [
              "Text(0, 0.5, 'Comments Count')"
            ]
          },
          "metadata": {
            "tags": []
          },
          "execution_count": 85
        },
        {
          "output_type": "display_data",
          "data": {
            "image/png": "[encoded data removed]",
            "text/plain": [
              "<Figure size 720x720 with 1 Axes>"
            ]
          },
          "metadata": {
            "tags": [],
            "needs_background": "light"
          }
        }
      ]
    },
    {
      "cell_type": "code",
      "metadata": {
        "id": "X0xvHwPax7xa",
        "colab_type": "code",
        "colab": {}
      },
      "source": [
        "# calculating the length of the titles\n",
        "df[\"title_length\"] = df[\"title\"].apply(lambda x: len(x))"
      ],
      "execution_count": null,
      "outputs": []
    },
    {
      "cell_type": "code",
      "metadata": {
        "id": "w_GQu6LGx1bW",
        "colab_type": "code",
        "colab": {
          "base_uri": "https://localhost:8080/",
          "height": 638
        },
        "outputId": "98e072b1-f726-4088-cc43-97416029309d"
      },
      "source": [
        "# plotting the title length vs views\n",
        "#\n",
        "#\n",
        "plt.figure(figsize=(10,10))\n",
        "plt.scatter(x=df['views'], y=df['title_length'], color='#FF5722', edgecolors=\"#000000\", linewidths=0.5)\n",
        "plt.title('Views vs Title Length')\n",
        "plt.xlabel('Views')\n",
        "plt.ylabel('Title Length')"
      ],
      "execution_count": null,
      "outputs": [
        {
          "output_type": "execute_result",
          "data": {
            "text/plain": [
              "Text(0, 0.5, 'Title Length')"
            ]
          },
          "metadata": {
            "tags": []
          },
          "execution_count": 87
        },
        {
          "output_type": "display_data",
          "data": {
            "image/png": "[encoded data removed]",
            "text/plain": [
              "<Figure size 720x720 with 1 Axes>"
            ]
          },
          "metadata": {
            "tags": [],
            "needs_background": "light"
          }
        }
      ]
    },
    {
      "cell_type": "code",
      "metadata": {
        "id": "Hguud-UCNFcD",
        "colab_type": "code",
        "colab": {
          "base_uri": "https://localhost:8080/",
          "height": 623
        },
        "outputId": "3e565629-0e5d-4b61-a7e3-83c28d115284"
      },
      "source": [
        "plt.figure(figsize=(10,10))\n",
        "sns.distplot(df[\"title_length\"], kde=False, rug=False, \n",
        "                 color='#003f5c', hist_kws={'alpha': 1})\n",
        "plt.xlabel('Title Length')\n",
        "plt.ylabel('No. of Videos')"
      ],
      "execution_count": null,
      "outputs": [
        {
          "output_type": "execute_result",
          "data": {
            "text/plain": [
              "Text(0, 0.5, 'No. of Videos')"
            ]
          },
          "metadata": {
            "tags": []
          },
          "execution_count": 88
        },
        {
          "output_type": "display_data",
          "data": {
            "image/png": "[encoded data removed]",
            "text/plain": [
              "<Figure size 720x720 with 1 Axes>"
            ]
          },
          "metadata": {
            "tags": [],
            "needs_background": "light"
          }
        }
      ]
    },
    {
      "cell_type": "markdown",
      "metadata": {
        "id": "ZFZPlAPHz2qR",
        "colab_type": "text"
      },
      "source": [
        "We can see that title-length distribution resembles a normal distribution, where most videos have title lengths between 30 and 60 character approximately."
      ]
    },
    {
      "cell_type": "code",
      "metadata": {
        "id": "D7pDxtk0Q1lm",
        "colab_type": "code",
        "colab": {}
      },
      "source": [
        "# Correlation coefficients between -.20 and .20 are generally considered weak, \n",
        "# between .20 and .50 (positive or negative) are considered moderate, \n",
        "# and above .50 (positive or negative) are considered strong. "
      ],
      "execution_count": null,
      "outputs": []
    },
    {
      "cell_type": "code",
      "metadata": {
        "id": "DeVasuGSPUGF",
        "colab_type": "code",
        "colab": {
          "base_uri": "https://localhost:8080/",
          "height": 34
        },
        "outputId": "6d5a4904-3f7a-43c0-c23a-6cae3ebfdd48"
      },
      "source": [
        "# checking the relation coefficient between the number of view and likes\n",
        "#\n",
        "# Calculating the pearson coefficient\n",
        "pearson_coeff = df_new['views'].corr(df_new['likes'], method=\"pearson\") \n",
        "print(pearson_coeff)\n",
        "\n",
        "# from the above correlation, I can conclude that likes and views are strongly correlated. (0.68)"
      ],
      "execution_count": null,
      "outputs": [
        {
          "output_type": "stream",
          "text": [
            "0.6869987021159589\n"
          ],
          "name": "stdout"
        }
      ]
    },
    {
      "cell_type": "code",
      "metadata": {
        "id": "-TdH4DPJPUPu",
        "colab_type": "code",
        "colab": {
          "base_uri": "https://localhost:8080/",
          "height": 34
        },
        "outputId": "a0cf2965-d897-4159-d1f3-8cbe8ae6d164"
      },
      "source": [
        "# checking the relation coefficient between the number of view and dislikes\n",
        "#\n",
        "# Calculating the pearson coefficient\n",
        "pearson_coeff = df_new['views'].corr(df_new['dislikes'], method=\"pearson\") \n",
        "print(pearson_coeff)\n",
        "\n",
        "# from the above correlation, I can conclude that dislikes and views are strongly correlated. (0.63)"
      ],
      "execution_count": null,
      "outputs": [
        {
          "output_type": "stream",
          "text": [
            "0.635444985349258\n"
          ],
          "name": "stdout"
        }
      ]
    },
    {
      "cell_type": "code",
      "metadata": {
        "id": "fpGkgIIDRQs7",
        "colab_type": "code",
        "colab": {
          "base_uri": "https://localhost:8080/",
          "height": 34
        },
        "outputId": "f06644fa-8ca9-4344-b474-12004e9ea123"
      },
      "source": [
        "# checking the relation coefficient between the number of view and comments\n",
        "#\n",
        "# Calculating the pearson coefficient\n",
        "pearson_coeff = df_new['views'].corr(df_new['comment_count'], method=\"pearson\") \n",
        "print(pearson_coeff)\n",
        "\n",
        "# from the above correlation, I can conclude that comment count and views are strongly correlated. (0.57)"
      ],
      "execution_count": null,
      "outputs": [
        {
          "output_type": "stream",
          "text": [
            "0.5751247695963664\n"
          ],
          "name": "stdout"
        }
      ]
    },
    {
      "cell_type": "code",
      "metadata": {
        "id": "fHWefhdKV-yf",
        "colab_type": "code",
        "colab": {
          "base_uri": "https://localhost:8080/",
          "height": 513
        },
        "outputId": "30d572d8-b0ed-4dcc-f09e-253c1f04751b"
      },
      "source": [
        "df.head()"
      ],
      "execution_count": null,
      "outputs": [
        {
          "output_type": "execute_result",
          "data": {
            "text/html": [
              "<div>\n",
              "<style scoped>\n",
              "    .dataframe tbody tr th:only-of-type {\n",
              "        vertical-align: middle;\n",
              "    }\n",
              "\n",
              "    .dataframe tbody tr th {\n",
              "        vertical-align: top;\n",
              "    }\n",
              "\n",
              "    .dataframe thead th {\n",
              "        text-align: right;\n",
              "    }\n",
              "</style>\n",
              "<table border=\"1\" class=\"dataframe\">\n",
              "  <thead>\n",
              "    <tr style=\"text-align: right;\">\n",
              "      <th></th>\n",
              "      <th>video_id</th>\n",
              "      <th>trending_date</th>\n",
              "      <th>title</th>\n",
              "      <th>channel_title</th>\n",
              "      <th>category_id</th>\n",
              "      <th>publish_time</th>\n",
              "      <th>tags</th>\n",
              "      <th>views</th>\n",
              "      <th>likes</th>\n",
              "      <th>dislikes</th>\n",
              "      <th>comment_count</th>\n",
              "      <th>thumbnail_link</th>\n",
              "      <th>comments_disabled</th>\n",
              "      <th>ratings_disabled</th>\n",
              "      <th>video_error_or_removed</th>\n",
              "      <th>description</th>\n",
              "      <th>date</th>\n",
              "      <th>time</th>\n",
              "      <th>hr</th>\n",
              "      <th>min</th>\n",
              "      <th>sec</th>\n",
              "      <th>weekday</th>\n",
              "      <th>title_length</th>\n",
              "    </tr>\n",
              "  </thead>\n",
              "  <tbody>\n",
              "    <tr>\n",
              "      <th>0</th>\n",
              "      <td>2kyS6SvSYSE</td>\n",
              "      <td>17.14.11</td>\n",
              "      <td>WE WANT TO TALK ABOUT OUR MARRIAGE</td>\n",
              "      <td>CaseyNeistat</td>\n",
              "      <td>22</td>\n",
              "      <td>2017-11-13 17:13:01+00:00</td>\n",
              "      <td>SHANtell martin</td>\n",
              "      <td>748374.000</td>\n",
              "      <td>57527.000</td>\n",
              "      <td>2966.000</td>\n",
              "      <td>15954.000</td>\n",
              "      <td>https://i.ytimg.com/vi/2kyS6SvSYSE/default.jpg</td>\n",
              "      <td>False</td>\n",
              "      <td>False</td>\n",
              "      <td>False</td>\n",
              "      <td>SHANTELL'S CHANNEL - https://www.youtube.com/s...</td>\n",
              "      <td>2017-11-13</td>\n",
              "      <td>17:13:01</td>\n",
              "      <td>17</td>\n",
              "      <td>13</td>\n",
              "      <td>1</td>\n",
              "      <td>Monday</td>\n",
              "      <td>34</td>\n",
              "    </tr>\n",
              "    <tr>\n",
              "      <th>1</th>\n",
              "      <td>1ZAPwfrtAFY</td>\n",
              "      <td>17.14.11</td>\n",
              "      <td>The Trump Presidency: Last Week Tonight with J...</td>\n",
              "      <td>LastWeekTonight</td>\n",
              "      <td>24</td>\n",
              "      <td>2017-11-13 07:30:00+00:00</td>\n",
              "      <td>last week tonight trump presidency|\"last week ...</td>\n",
              "      <td>2418783.000</td>\n",
              "      <td>97185.000</td>\n",
              "      <td>6146.000</td>\n",
              "      <td>12703.000</td>\n",
              "      <td>https://i.ytimg.com/vi/1ZAPwfrtAFY/default.jpg</td>\n",
              "      <td>False</td>\n",
              "      <td>False</td>\n",
              "      <td>False</td>\n",
              "      <td>One year after the presidential election, John...</td>\n",
              "      <td>2017-11-13</td>\n",
              "      <td>07:30:00</td>\n",
              "      <td>7</td>\n",
              "      <td>30</td>\n",
              "      <td>0</td>\n",
              "      <td>Monday</td>\n",
              "      <td>62</td>\n",
              "    </tr>\n",
              "    <tr>\n",
              "      <th>2</th>\n",
              "      <td>5qpjK5DgCt4</td>\n",
              "      <td>17.14.11</td>\n",
              "      <td>Racist Superman | Rudy Mancuso, King Bach &amp; Le...</td>\n",
              "      <td>Rudy Mancuso</td>\n",
              "      <td>23</td>\n",
              "      <td>2017-11-12 19:05:24+00:00</td>\n",
              "      <td>racist superman|\"rudy\"|\"mancuso\"|\"king\"|\"bach\"...</td>\n",
              "      <td>3191434.000</td>\n",
              "      <td>146033.000</td>\n",
              "      <td>5339.000</td>\n",
              "      <td>8181.000</td>\n",
              "      <td>https://i.ytimg.com/vi/5qpjK5DgCt4/default.jpg</td>\n",
              "      <td>False</td>\n",
              "      <td>False</td>\n",
              "      <td>False</td>\n",
              "      <td>WATCH MY PREVIOUS VIDEO ▶ \\n\\nSUBSCRIBE ► http...</td>\n",
              "      <td>2017-11-12</td>\n",
              "      <td>19:05:24</td>\n",
              "      <td>19</td>\n",
              "      <td>5</td>\n",
              "      <td>24</td>\n",
              "      <td>Sunday</td>\n",
              "      <td>53</td>\n",
              "    </tr>\n",
              "    <tr>\n",
              "      <th>3</th>\n",
              "      <td>puqaWrEC7tY</td>\n",
              "      <td>17.14.11</td>\n",
              "      <td>Nickelback Lyrics: Real or Fake?</td>\n",
              "      <td>Good Mythical Morning</td>\n",
              "      <td>24</td>\n",
              "      <td>2017-11-13 11:00:04+00:00</td>\n",
              "      <td>rhett and link|\"gmm\"|\"good mythical morning\"|\"...</td>\n",
              "      <td>343168.000</td>\n",
              "      <td>10172.000</td>\n",
              "      <td>666.000</td>\n",
              "      <td>2146.000</td>\n",
              "      <td>https://i.ytimg.com/vi/puqaWrEC7tY/default.jpg</td>\n",
              "      <td>False</td>\n",
              "      <td>False</td>\n",
              "      <td>False</td>\n",
              "      <td>Today we find out if Link is a Nickelback amat...</td>\n",
              "      <td>2017-11-13</td>\n",
              "      <td>11:00:04</td>\n",
              "      <td>11</td>\n",
              "      <td>0</td>\n",
              "      <td>4</td>\n",
              "      <td>Monday</td>\n",
              "      <td>32</td>\n",
              "    </tr>\n",
              "    <tr>\n",
              "      <th>4</th>\n",
              "      <td>d380meD0W0M</td>\n",
              "      <td>17.14.11</td>\n",
              "      <td>I Dare You: GOING BALD!?</td>\n",
              "      <td>nigahiga</td>\n",
              "      <td>24</td>\n",
              "      <td>2017-11-12 18:01:41+00:00</td>\n",
              "      <td>ryan|\"higa\"|\"higatv\"|\"nigahiga\"|\"i dare you\"|\"...</td>\n",
              "      <td>2095731.000</td>\n",
              "      <td>132235.000</td>\n",
              "      <td>1989.000</td>\n",
              "      <td>17518.000</td>\n",
              "      <td>https://i.ytimg.com/vi/d380meD0W0M/default.jpg</td>\n",
              "      <td>False</td>\n",
              "      <td>False</td>\n",
              "      <td>False</td>\n",
              "      <td>I know it's been a while since we did this sho...</td>\n",
              "      <td>2017-11-12</td>\n",
              "      <td>18:01:41</td>\n",
              "      <td>18</td>\n",
              "      <td>1</td>\n",
              "      <td>41</td>\n",
              "      <td>Sunday</td>\n",
              "      <td>24</td>\n",
              "    </tr>\n",
              "  </tbody>\n",
              "</table>\n",
              "</div>"
            ],
            "text/plain": [
              "      video_id trending_date  ... weekday title_length\n",
              "0  2kyS6SvSYSE      17.14.11  ...  Monday           34\n",
              "1  1ZAPwfrtAFY      17.14.11  ...  Monday           62\n",
              "2  5qpjK5DgCt4      17.14.11  ...  Sunday           53\n",
              "3  puqaWrEC7tY      17.14.11  ...  Monday           32\n",
              "4  d380meD0W0M      17.14.11  ...  Sunday           24\n",
              "\n",
              "[5 rows x 23 columns]"
            ]
          },
          "metadata": {
            "tags": []
          },
          "execution_count": 93
        }
      ]
    },
    {
      "cell_type": "code",
      "metadata": {
        "id": "QxTxm6RmWhER",
        "colab_type": "code",
        "colab": {}
      },
      "source": [
        "# calculating the like, dislike and comment rates\n",
        "df['like_rate'] = df['likes'] / df['views'] * 100\n",
        "df['dislike_rate'] = df['dislikes'] / df['views'] * 100\n",
        "df['comment_rate'] = df['comment_count'] / df['views'] * 100"
      ],
      "execution_count": null,
      "outputs": []
    },
    {
      "cell_type": "code",
      "metadata": {
        "id": "LVo2p0K4YP7s",
        "colab_type": "code",
        "colab": {
          "base_uri": "https://localhost:8080/",
          "height": 383
        },
        "outputId": "9bbe5c1c-ebcc-4ec2-cad5-521ddd1b51cf"
      },
      "source": [
        "df.head(3)"
      ],
      "execution_count": null,
      "outputs": [
        {
          "output_type": "execute_result",
          "data": {
            "text/html": [
              "<div>\n",
              "<style scoped>\n",
              "    .dataframe tbody tr th:only-of-type {\n",
              "        vertical-align: middle;\n",
              "    }\n",
              "\n",
              "    .dataframe tbody tr th {\n",
              "        vertical-align: top;\n",
              "    }\n",
              "\n",
              "    .dataframe thead th {\n",
              "        text-align: right;\n",
              "    }\n",
              "</style>\n",
              "<table border=\"1\" class=\"dataframe\">\n",
              "  <thead>\n",
              "    <tr style=\"text-align: right;\">\n",
              "      <th></th>\n",
              "      <th>video_id</th>\n",
              "      <th>trending_date</th>\n",
              "      <th>title</th>\n",
              "      <th>channel_title</th>\n",
              "      <th>category_id</th>\n",
              "      <th>publish_time</th>\n",
              "      <th>tags</th>\n",
              "      <th>views</th>\n",
              "      <th>likes</th>\n",
              "      <th>dislikes</th>\n",
              "      <th>comment_count</th>\n",
              "      <th>thumbnail_link</th>\n",
              "      <th>comments_disabled</th>\n",
              "      <th>ratings_disabled</th>\n",
              "      <th>video_error_or_removed</th>\n",
              "      <th>description</th>\n",
              "      <th>date</th>\n",
              "      <th>time</th>\n",
              "      <th>hr</th>\n",
              "      <th>min</th>\n",
              "      <th>sec</th>\n",
              "      <th>weekday</th>\n",
              "      <th>title_length</th>\n",
              "      <th>like_rate</th>\n",
              "      <th>dislike_rate</th>\n",
              "      <th>comment_rate</th>\n",
              "    </tr>\n",
              "  </thead>\n",
              "  <tbody>\n",
              "    <tr>\n",
              "      <th>0</th>\n",
              "      <td>2kyS6SvSYSE</td>\n",
              "      <td>17.14.11</td>\n",
              "      <td>WE WANT TO TALK ABOUT OUR MARRIAGE</td>\n",
              "      <td>CaseyNeistat</td>\n",
              "      <td>22</td>\n",
              "      <td>2017-11-13 17:13:01+00:00</td>\n",
              "      <td>SHANtell martin</td>\n",
              "      <td>748374.000</td>\n",
              "      <td>57527.000</td>\n",
              "      <td>2966.000</td>\n",
              "      <td>15954.000</td>\n",
              "      <td>https://i.ytimg.com/vi/2kyS6SvSYSE/default.jpg</td>\n",
              "      <td>False</td>\n",
              "      <td>False</td>\n",
              "      <td>False</td>\n",
              "      <td>SHANTELL'S CHANNEL - https://www.youtube.com/s...</td>\n",
              "      <td>2017-11-13</td>\n",
              "      <td>17:13:01</td>\n",
              "      <td>17</td>\n",
              "      <td>13</td>\n",
              "      <td>1</td>\n",
              "      <td>Monday</td>\n",
              "      <td>34</td>\n",
              "      <td>7.687</td>\n",
              "      <td>0.396</td>\n",
              "      <td>2.132</td>\n",
              "    </tr>\n",
              "    <tr>\n",
              "      <th>1</th>\n",
              "      <td>1ZAPwfrtAFY</td>\n",
              "      <td>17.14.11</td>\n",
              "      <td>The Trump Presidency: Last Week Tonight with J...</td>\n",
              "      <td>LastWeekTonight</td>\n",
              "      <td>24</td>\n",
              "      <td>2017-11-13 07:30:00+00:00</td>\n",
              "      <td>last week tonight trump presidency|\"last week ...</td>\n",
              "      <td>2418783.000</td>\n",
              "      <td>97185.000</td>\n",
              "      <td>6146.000</td>\n",
              "      <td>12703.000</td>\n",
              "      <td>https://i.ytimg.com/vi/1ZAPwfrtAFY/default.jpg</td>\n",
              "      <td>False</td>\n",
              "      <td>False</td>\n",
              "      <td>False</td>\n",
              "      <td>One year after the presidential election, John...</td>\n",
              "      <td>2017-11-13</td>\n",
              "      <td>07:30:00</td>\n",
              "      <td>7</td>\n",
              "      <td>30</td>\n",
              "      <td>0</td>\n",
              "      <td>Monday</td>\n",
              "      <td>62</td>\n",
              "      <td>4.018</td>\n",
              "      <td>0.254</td>\n",
              "      <td>0.525</td>\n",
              "    </tr>\n",
              "    <tr>\n",
              "      <th>2</th>\n",
              "      <td>5qpjK5DgCt4</td>\n",
              "      <td>17.14.11</td>\n",
              "      <td>Racist Superman | Rudy Mancuso, King Bach &amp; Le...</td>\n",
              "      <td>Rudy Mancuso</td>\n",
              "      <td>23</td>\n",
              "      <td>2017-11-12 19:05:24+00:00</td>\n",
              "      <td>racist superman|\"rudy\"|\"mancuso\"|\"king\"|\"bach\"...</td>\n",
              "      <td>3191434.000</td>\n",
              "      <td>146033.000</td>\n",
              "      <td>5339.000</td>\n",
              "      <td>8181.000</td>\n",
              "      <td>https://i.ytimg.com/vi/5qpjK5DgCt4/default.jpg</td>\n",
              "      <td>False</td>\n",
              "      <td>False</td>\n",
              "      <td>False</td>\n",
              "      <td>WATCH MY PREVIOUS VIDEO ▶ \\n\\nSUBSCRIBE ► http...</td>\n",
              "      <td>2017-11-12</td>\n",
              "      <td>19:05:24</td>\n",
              "      <td>19</td>\n",
              "      <td>5</td>\n",
              "      <td>24</td>\n",
              "      <td>Sunday</td>\n",
              "      <td>53</td>\n",
              "      <td>4.576</td>\n",
              "      <td>0.167</td>\n",
              "      <td>0.256</td>\n",
              "    </tr>\n",
              "  </tbody>\n",
              "</table>\n",
              "</div>"
            ],
            "text/plain": [
              "      video_id trending_date  ... dislike_rate comment_rate\n",
              "0  2kyS6SvSYSE      17.14.11  ...        0.396        2.132\n",
              "1  1ZAPwfrtAFY      17.14.11  ...        0.254        0.525\n",
              "2  5qpjK5DgCt4      17.14.11  ...        0.167        0.256\n",
              "\n",
              "[3 rows x 26 columns]"
            ]
          },
          "metadata": {
            "tags": []
          },
          "execution_count": 95
        }
      ]
    },
    {
      "cell_type": "code",
      "metadata": {
        "id": "RIJjJybEs8fy",
        "colab_type": "code",
        "colab": {
          "base_uri": "https://localhost:8080/",
          "height": 204
        },
        "outputId": "57282b68-e13f-4760-d1b0-d7b98a1cab3a"
      },
      "source": [
        "df_new.head()"
      ],
      "execution_count": null,
      "outputs": [
        {
          "output_type": "execute_result",
          "data": {
            "text/html": [
              "<div>\n",
              "<style scoped>\n",
              "    .dataframe tbody tr th:only-of-type {\n",
              "        vertical-align: middle;\n",
              "    }\n",
              "\n",
              "    .dataframe tbody tr th {\n",
              "        vertical-align: top;\n",
              "    }\n",
              "\n",
              "    .dataframe thead th {\n",
              "        text-align: right;\n",
              "    }\n",
              "</style>\n",
              "<table border=\"1\" class=\"dataframe\">\n",
              "  <thead>\n",
              "    <tr style=\"text-align: right;\">\n",
              "      <th></th>\n",
              "      <th>views</th>\n",
              "      <th>likes</th>\n",
              "      <th>dislikes</th>\n",
              "      <th>comment_count</th>\n",
              "      <th>category_id</th>\n",
              "      <th>weekday</th>\n",
              "      <th>date</th>\n",
              "      <th>time</th>\n",
              "      <th>hr</th>\n",
              "      <th>min</th>\n",
              "      <th>sec</th>\n",
              "    </tr>\n",
              "  </thead>\n",
              "  <tbody>\n",
              "    <tr>\n",
              "      <th>3</th>\n",
              "      <td>343168.000</td>\n",
              "      <td>10172.000</td>\n",
              "      <td>666.000</td>\n",
              "      <td>2146.000</td>\n",
              "      <td>24</td>\n",
              "      <td>Monday</td>\n",
              "      <td>2017-11-13</td>\n",
              "      <td>11:00:04</td>\n",
              "      <td>11</td>\n",
              "      <td>0</td>\n",
              "      <td>4</td>\n",
              "    </tr>\n",
              "    <tr>\n",
              "      <th>5</th>\n",
              "      <td>119180.000</td>\n",
              "      <td>9763.000</td>\n",
              "      <td>511.000</td>\n",
              "      <td>1434.000</td>\n",
              "      <td>28</td>\n",
              "      <td>Monday</td>\n",
              "      <td>2017-11-13</td>\n",
              "      <td>19:07:23</td>\n",
              "      <td>19</td>\n",
              "      <td>7</td>\n",
              "      <td>23</td>\n",
              "    </tr>\n",
              "    <tr>\n",
              "      <th>6</th>\n",
              "      <td>2103417.000</td>\n",
              "      <td>15993.000</td>\n",
              "      <td>2445.000</td>\n",
              "      <td>1970.000</td>\n",
              "      <td>24</td>\n",
              "      <td>Sunday</td>\n",
              "      <td>2017-11-12</td>\n",
              "      <td>05:37:17</td>\n",
              "      <td>5</td>\n",
              "      <td>37</td>\n",
              "      <td>17</td>\n",
              "    </tr>\n",
              "    <tr>\n",
              "      <th>7</th>\n",
              "      <td>817732.000</td>\n",
              "      <td>23663.000</td>\n",
              "      <td>778.000</td>\n",
              "      <td>3432.000</td>\n",
              "      <td>28</td>\n",
              "      <td>Sunday</td>\n",
              "      <td>2017-11-12</td>\n",
              "      <td>21:50:37</td>\n",
              "      <td>21</td>\n",
              "      <td>50</td>\n",
              "      <td>37</td>\n",
              "    </tr>\n",
              "    <tr>\n",
              "      <th>9</th>\n",
              "      <td>256426.000</td>\n",
              "      <td>12654.000</td>\n",
              "      <td>1363.000</td>\n",
              "      <td>2368.000</td>\n",
              "      <td>25</td>\n",
              "      <td>Monday</td>\n",
              "      <td>2017-11-13</td>\n",
              "      <td>13:45:16</td>\n",
              "      <td>13</td>\n",
              "      <td>45</td>\n",
              "      <td>16</td>\n",
              "    </tr>\n",
              "  </tbody>\n",
              "</table>\n",
              "</div>"
            ],
            "text/plain": [
              "        views     likes  dislikes  comment_count  ...      time  hr min sec\n",
              "3  343168.000 10172.000   666.000       2146.000  ...  11:00:04  11   0   4\n",
              "5  119180.000  9763.000   511.000       1434.000  ...  19:07:23  19   7  23\n",
              "6 2103417.000 15993.000  2445.000       1970.000  ...  05:37:17   5  37  17\n",
              "7  817732.000 23663.000   778.000       3432.000  ...  21:50:37  21  50  37\n",
              "9  256426.000 12654.000  1363.000       2368.000  ...  13:45:16  13  45  16\n",
              "\n",
              "[5 rows x 11 columns]"
            ]
          },
          "metadata": {
            "tags": []
          },
          "execution_count": 122
        }
      ]
    },
    {
      "cell_type": "code",
      "metadata": {
        "id": "ps9YdJ0BRwOn",
        "colab_type": "code",
        "colab": {
          "base_uri": "https://localhost:8080/",
          "height": 394
        },
        "outputId": "24d6e5fd-d49a-4c94-fd7b-2d7104d64e8d"
      },
      "source": [
        "# Looking if Views, likes, dislikes and comment counts have a normal distribuition.\n",
        "#\n",
        "# np.log ---> Natural logarithm, element-wise.\n",
        "# The natural logarithm log is the inverse of the exponential function, \n",
        "# so that log(exp(x)) = x. The natural logarithm is logarithm in base e.\n",
        "# this mathematical function helps user to calculate Natural logarithm of x where x belongs to all the input array elements.\n",
        "#\n",
        "#\n",
        "# since I'll be using views I wanted to check if it's a normal distribution.\n",
        "df['views_log'] = np.log(df['views'] + 1)\n",
        "\n",
        "plt.figure(figsize = (16,12))\n",
        "\n",
        "plt.subplot(221)\n",
        "v1 = sns.distplot(df['views_log'])\n",
        "v1.set_title(\"VIEWS DISTRIBUITION\", fontsize=16)\n",
        "\n"
      ],
      "execution_count": null,
      "outputs": [
        {
          "output_type": "execute_result",
          "data": {
            "text/plain": [
              "Text(0.5, 1.0, 'VIEWS DISTRIBUITION')"
            ]
          },
          "metadata": {
            "tags": []
          },
          "execution_count": 120
        },
        {
          "output_type": "display_data",
          "data": {
            "image/png": "[encoded data removed]",
            "text/plain": [
              "<Figure size 1152x864 with 1 Axes>"
            ]
          },
          "metadata": {
            "tags": [],
            "needs_background": "light"
          }
        }
      ]
    },
    {
      "cell_type": "code",
      "metadata": {
        "id": "c9DHbgAdC0Qz",
        "colab_type": "code",
        "colab": {
          "base_uri": "https://localhost:8080/",
          "height": 442
        },
        "outputId": "00e9dde1-b8e7-4734-df45-b8f6f95fda4f"
      },
      "source": [
        "print(df['likes'])\n",
        "print('----------------------------')\n",
        "print(df['likes_log'])"
      ],
      "execution_count": null,
      "outputs": [
        {
          "output_type": "stream",
          "text": [
            "0        57527.000\n",
            "1        97185.000\n",
            "2       146033.000\n",
            "3        10172.000\n",
            "4       132235.000\n",
            "           ...    \n",
            "40944    38160.000\n",
            "40945    60008.000\n",
            "40946    48068.000\n",
            "40947   192957.000\n",
            "40948   357079.000\n",
            "Name: likes, Length: 40949, dtype: float64\n",
            "----------------------------\n",
            "0       10.960\n",
            "1       11.484\n",
            "2       11.892\n",
            "3        9.227\n",
            "4       11.792\n",
            "         ...  \n",
            "40944   10.550\n",
            "40945   11.002\n",
            "40946   10.780\n",
            "40947   12.170\n",
            "40948   12.786\n",
            "Name: likes_log, Length: 40949, dtype: float64\n"
          ],
          "name": "stdout"
        }
      ]
    },
    {
      "cell_type": "code",
      "metadata": {
        "id": "hnOw9i1LYgbt",
        "colab_type": "code",
        "colab": {
          "base_uri": "https://localhost:8080/",
          "height": 658
        },
        "outputId": "72fb87cd-69dd-4e9c-eeed-aa215f910525"
      },
      "source": [
        "# Correlation coefficients between -.20 and .20 are generally considered weak, \n",
        "# between .20 and .50 (positive or negative) are considered moderate, \n",
        "# and above .50 (positive or negative) are considered strong. \n",
        "#\n",
        "# heatmap correlation matrix\n",
        "# analysing the correlation matrix of the numeric variables.\n",
        "#\n",
        "#\n",
        "plt.figure(figsize = (10,10))\n",
        "\n",
        "# Verifing the correlation of each value\n",
        "sns.heatmap(df[['like_rate', 'dislike_rate', 'comment_rate', 'comment_log',\n",
        "         'views_log','likes_log','dislikes_log']].corr(), cmap=\"YlGnBu\",annot=True)\n",
        "plt.show()"
      ],
      "execution_count": null,
      "outputs": [
        {
          "output_type": "display_data",
          "data": {
            "image/png": "[encoded data removed]",
            "text/plain": [
              "<Figure size 720x720 with 2 Axes>"
            ]
          },
          "metadata": {
            "tags": [],
            "needs_background": "light"
          }
        }
      ]
    },
    {
      "cell_type": "markdown",
      "metadata": {
        "id": "OQ1BYRhUQRl6",
        "colab_type": "text"
      },
      "source": [
        "The correlation table above says that views and likes are strongly and positively correlated (0.85). This claim is also verified by the scatter plot between views and likes above that visualizes the relationship between these variables."
      ]
    },
    {
      "cell_type": "code",
      "metadata": {
        "id": "e_lxHTdGhcUa",
        "colab_type": "code",
        "colab": {
          "base_uri": "https://localhost:8080/",
          "height": 319
        },
        "outputId": "8d063ce4-76fd-4c4b-b2f2-bdaaf88f1c17"
      },
      "source": [
        "# how many trending videos contain capitalized words in their titles.\n",
        "#\n",
        "# create a function to split the words and check if there are uppercases or lowercases.\n",
        "def contains_capitalized_word(s):\n",
        "    for w in s.split():\n",
        "        if w.isupper():\n",
        "            return True\n",
        "    return False\n",
        "\n",
        "# create a new variable that contains only the title column that has the function applied to it.\n",
        "df[\"contains_capitalized\"] = df[\"title\"].apply(contains_capitalized_word)\n",
        "# df['contains_capitalized']  ---> returns a boolean (T | F)\n",
        "#\n",
        "# calculate the values of either True or False and convert that to a dictionary\n",
        "value_counts = df[\"contains_capitalized\"].value_counts().to_dict()\n",
        "# value_counts\n",
        "#\n",
        "plt.figure(figsize = (5,5))\n",
        "plt.pie([value_counts[False], value_counts[True]], labels=['Yes', 'No'], \n",
        "           colors=['#003f5c', '#ffa600'],shadow=True, startangle=50, autopct='%1.1f%%')\n",
        "plt.title('Title Contains Capitalized Word?')\n",
        "plt.axis('equal')  # Equal aspect ratio ensures that pie is drawn as a circle.\n",
        "\n",
        "plt.show()"
      ],
      "execution_count": null,
      "outputs": [
        {
          "output_type": "display_data",
          "data": {
            "image/png": "[encoded data removed]",
            "text/plain": [
              "<Figure size 360x360 with 1 Axes>"
            ]
          },
          "metadata": {
            "tags": []
          }
        }
      ]
    },
    {
      "cell_type": "markdown",
      "metadata": {
        "id": "hXy7oNwNrbsc",
        "colab_type": "text"
      },
      "source": [
        "We can see that 56% of trending video titles contain at least a capitalized word."
      ]
    },
    {
      "cell_type": "code",
      "metadata": {
        "id": "_ILQlcRFhVsG",
        "colab_type": "code",
        "colab": {
          "base_uri": "https://localhost:8080/",
          "height": 319
        },
        "outputId": "ef925484-2fd8-4e1d-8553-3a0d3a963a22"
      },
      "source": [
        "value_counts_comments = df[\"comments_disabled\"].value_counts().to_dict()\n",
        "\n",
        "\n",
        "plt.figure(figsize = (5,5))\n",
        "plt.pie(x=[value_counts_comments[False], value_counts_comments[True]], labels=['No', 'Yes'], \n",
        "           colors=['#003f5c', '#ffa600'], textprops={'color': '#040204'}, shadow=True, startangle=50, autopct='%1.1f%%')\n",
        "\n",
        "plt.axis('equal')\n",
        "plt.title('Videos with Comments Disabled')\n",
        "plt.show()"
      ],
      "execution_count": null,
      "outputs": [
        {
          "output_type": "display_data",
          "data": {
            "image/png": "[encoded data removed]",
            "text/plain": [
              "<Figure size 360x360 with 1 Axes>"
            ]
          },
          "metadata": {
            "tags": []
          }
        }
      ]
    },
    {
      "cell_type": "code",
      "metadata": {
        "id": "bYO0jIHuiiWC",
        "colab_type": "code",
        "colab": {
          "base_uri": "https://localhost:8080/",
          "height": 68
        },
        "outputId": "dd6f26a7-fd06-4d67-d96e-bce432d7e405"
      },
      "source": [
        "df[\"comments_disabled\"].value_counts(normalize=True)"
      ],
      "execution_count": null,
      "outputs": [
        {
          "output_type": "execute_result",
          "data": {
            "text/plain": [
              "False   0.985\n",
              "True    0.015\n",
              "Name: comments_disabled, dtype: float64"
            ]
          },
          "metadata": {
            "tags": []
          },
          "execution_count": 101
        }
      ]
    },
    {
      "cell_type": "markdown",
      "metadata": {
        "id": "nH28T11MinyZ",
        "colab_type": "text"
      },
      "source": [
        "We see that only 1.5% of trending videos prevented users from commenting."
      ]
    },
    {
      "cell_type": "code",
      "metadata": {
        "id": "EUhyAqHCr3LL",
        "colab_type": "code",
        "colab": {}
      },
      "source": [
        "# A counter tool is provided to support convenient and rapid tallies.\n",
        "#\n",
        "from collections import Counter"
      ],
      "execution_count": null,
      "outputs": []
    },
    {
      "cell_type": "code",
      "metadata": {
        "id": "UmbRj14Frpz5",
        "colab_type": "code",
        "colab": {
          "base_uri": "https://localhost:8080/",
          "height": 357
        },
        "outputId": "5466575e-38e0-4ebd-cfd5-91925ace3968"
      },
      "source": [
        "# looking for the most common words in titles\n",
        "# Counter is an unordered collection where elements are stored as Dict keys and their count as dict value.\n",
        "#\n",
        "title_words = list(df[\"title\"].apply(lambda x: x.split()))\n",
        "title_words = [x for y in title_words for x in y]\n",
        "Counter(title_words).most_common(20)"
      ],
      "execution_count": null,
      "outputs": [
        {
          "output_type": "execute_result",
          "data": {
            "text/plain": [
              "[('-', 11452),\n",
              " ('|', 10663),\n",
              " ('The', 5766),\n",
              " ('the', 3610),\n",
              " ('a', 2566),\n",
              " ('to', 2343),\n",
              " ('of', 2338),\n",
              " ('in', 2176),\n",
              " ('A', 2122),\n",
              " ('&', 2024),\n",
              " ('I', 1949),\n",
              " ('and', 1917),\n",
              " ('Video)', 1901),\n",
              " ('Trailer', 1868),\n",
              " ('How', 1661),\n",
              " ('with', 1655),\n",
              " ('2018', 1613),\n",
              " ('(Official', 1594),\n",
              " ('Official', 1554),\n",
              " ('on', 1552)]"
            ]
          },
          "metadata": {
            "tags": []
          },
          "execution_count": 103
        }
      ]
    },
    {
      "cell_type": "markdown",
      "metadata": {
        "id": "sXTAznlcSZDY",
        "colab_type": "text"
      },
      "source": [
        "Common words like \"the\" and \"of\" were used 5766 times and 2338 times respectively, we can see that \"-\" and \"|\" symbols occured a lot in the 40949 trending video titles: 11452 times and 10663 times respectively. We notice also that words \"Video\", \"Trailer\" and \"How\" are common in trending video titles."
      ]
    },
    {
      "cell_type": "code",
      "metadata": {
        "id": "dQVnZvjAsMWh",
        "colab_type": "code",
        "colab": {
          "base_uri": "https://localhost:8080/",
          "height": 357
        },
        "outputId": "00eabb95-ca05-4a77-9523-70b7da0182be"
      },
      "source": [
        "# looking for the most common words in tags\n",
        "#\n",
        "#\n",
        "tag_words = list(df[\"tags\"].apply(lambda x: x.split()))\n",
        "tag_words = [x for y in tag_words for x in y]\n",
        "Counter(tag_words).most_common(20)"
      ],
      "execution_count": null,
      "outputs": [
        {
          "output_type": "execute_result",
          "data": {
            "text/plain": [
              "[('the', 7800),\n",
              " ('to', 6878),\n",
              " ('and', 6189),\n",
              " ('of', 6008),\n",
              " ('a', 4347),\n",
              " ('in', 3068),\n",
              " ('with', 2304),\n",
              " ('on', 2173),\n",
              " ('vs', 2089),\n",
              " ('for', 1913),\n",
              " ('my', 1720),\n",
              " ('The', 1575),\n",
              " ('[none]', 1535),\n",
              " ('is', 1442),\n",
              " ('&', 1438),\n",
              " ('new', 1399),\n",
              " ('makeup', 1351),\n",
              " ('make', 1264),\n",
              " ('you', 1227),\n",
              " ('it', 1183)]"
            ]
          },
          "metadata": {
            "tags": []
          },
          "execution_count": 104
        }
      ]
    },
    {
      "cell_type": "markdown",
      "metadata": {
        "id": "Xo78easvTzN3",
        "colab_type": "text"
      },
      "source": [
        "Similar to the titles section, some of the tags that were most commonly used were 'the','to','and' with 7800, 6878 and 6189 times respectively."
      ]
    },
    {
      "cell_type": "markdown",
      "metadata": {
        "id": "OjQZXPPv2dSq",
        "colab_type": "text"
      },
      "source": [
        "## Hypothesis Testing"
      ]
    },
    {
      "cell_type": "markdown",
      "metadata": {
        "id": "sqklKFSfWy8E",
        "colab_type": "text"
      },
      "source": [
        "The hypothesis statement.\n",
        "\n",
        "\n",
        "> Ho = Videos released over the weekend have greater views on average than the ones released on weekdays. \n",
        "\n",
        "> Ha = There’s no difference in viewership between videos released on weekdays and weekends. \n",
        "\n",
        "\n",
        "\n",
        "\n"
      ]
    },
    {
      "cell_type": "markdown",
      "metadata": {
        "id": "FTbjGBxuY8tb",
        "colab_type": "text"
      },
      "source": [
        "###**Sampling**\n",
        "\n",
        "I chose to use Simple Random Sampling. *Why?* Random samples are the best method of selecting your sample from the population of interest. \n",
        "\n",
        "**Advantages of Simple Random Sampling**\n",
        "\n",
        "\n",
        "*   Lack of Bias: Each individual in the population has the same probability of being selected.\n",
        "*   Simplicity: Producing a simple random sample is much less complicated than other methods as individuals in the subset are selected randomly and there are no additional steps.\n",
        "\n"
      ]
    },
    {
      "cell_type": "code",
      "metadata": {
        "id": "IipHQTxAb5Ql",
        "colab_type": "code",
        "colab": {
          "base_uri": "https://localhost:8080/",
          "height": 204
        },
        "outputId": "744442b0-4374-4e52-9865-c762511cb991"
      },
      "source": [
        "df_new.head()"
      ],
      "execution_count": null,
      "outputs": [
        {
          "output_type": "execute_result",
          "data": {
            "text/html": [
              "<div>\n",
              "<style scoped>\n",
              "    .dataframe tbody tr th:only-of-type {\n",
              "        vertical-align: middle;\n",
              "    }\n",
              "\n",
              "    .dataframe tbody tr th {\n",
              "        vertical-align: top;\n",
              "    }\n",
              "\n",
              "    .dataframe thead th {\n",
              "        text-align: right;\n",
              "    }\n",
              "</style>\n",
              "<table border=\"1\" class=\"dataframe\">\n",
              "  <thead>\n",
              "    <tr style=\"text-align: right;\">\n",
              "      <th></th>\n",
              "      <th>views</th>\n",
              "      <th>likes</th>\n",
              "      <th>dislikes</th>\n",
              "      <th>comment_count</th>\n",
              "      <th>category_id</th>\n",
              "      <th>weekday</th>\n",
              "      <th>date</th>\n",
              "      <th>time</th>\n",
              "      <th>hr</th>\n",
              "      <th>min</th>\n",
              "      <th>sec</th>\n",
              "    </tr>\n",
              "  </thead>\n",
              "  <tbody>\n",
              "    <tr>\n",
              "      <th>3</th>\n",
              "      <td>343168.000</td>\n",
              "      <td>10172.000</td>\n",
              "      <td>666.000</td>\n",
              "      <td>2146.000</td>\n",
              "      <td>24</td>\n",
              "      <td>Monday</td>\n",
              "      <td>2017-11-13</td>\n",
              "      <td>11:00:04</td>\n",
              "      <td>11</td>\n",
              "      <td>0</td>\n",
              "      <td>4</td>\n",
              "    </tr>\n",
              "    <tr>\n",
              "      <th>5</th>\n",
              "      <td>119180.000</td>\n",
              "      <td>9763.000</td>\n",
              "      <td>511.000</td>\n",
              "      <td>1434.000</td>\n",
              "      <td>28</td>\n",
              "      <td>Monday</td>\n",
              "      <td>2017-11-13</td>\n",
              "      <td>19:07:23</td>\n",
              "      <td>19</td>\n",
              "      <td>7</td>\n",
              "      <td>23</td>\n",
              "    </tr>\n",
              "    <tr>\n",
              "      <th>6</th>\n",
              "      <td>2103417.000</td>\n",
              "      <td>15993.000</td>\n",
              "      <td>2445.000</td>\n",
              "      <td>1970.000</td>\n",
              "      <td>24</td>\n",
              "      <td>Sunday</td>\n",
              "      <td>2017-11-12</td>\n",
              "      <td>05:37:17</td>\n",
              "      <td>5</td>\n",
              "      <td>37</td>\n",
              "      <td>17</td>\n",
              "    </tr>\n",
              "    <tr>\n",
              "      <th>7</th>\n",
              "      <td>817732.000</td>\n",
              "      <td>23663.000</td>\n",
              "      <td>778.000</td>\n",
              "      <td>3432.000</td>\n",
              "      <td>28</td>\n",
              "      <td>Sunday</td>\n",
              "      <td>2017-11-12</td>\n",
              "      <td>21:50:37</td>\n",
              "      <td>21</td>\n",
              "      <td>50</td>\n",
              "      <td>37</td>\n",
              "    </tr>\n",
              "    <tr>\n",
              "      <th>9</th>\n",
              "      <td>256426.000</td>\n",
              "      <td>12654.000</td>\n",
              "      <td>1363.000</td>\n",
              "      <td>2368.000</td>\n",
              "      <td>25</td>\n",
              "      <td>Monday</td>\n",
              "      <td>2017-11-13</td>\n",
              "      <td>13:45:16</td>\n",
              "      <td>13</td>\n",
              "      <td>45</td>\n",
              "      <td>16</td>\n",
              "    </tr>\n",
              "  </tbody>\n",
              "</table>\n",
              "</div>"
            ],
            "text/plain": [
              "        views     likes  dislikes  comment_count  ...      time  hr min sec\n",
              "3  343168.000 10172.000   666.000       2146.000  ...  11:00:04  11   0   4\n",
              "5  119180.000  9763.000   511.000       1434.000  ...  19:07:23  19   7  23\n",
              "6 2103417.000 15993.000  2445.000       1970.000  ...  05:37:17   5  37  17\n",
              "7  817732.000 23663.000   778.000       3432.000  ...  21:50:37  21  50  37\n",
              "9  256426.000 12654.000  1363.000       2368.000  ...  13:45:16  13  45  16\n",
              "\n",
              "[5 rows x 11 columns]"
            ]
          },
          "metadata": {
            "tags": []
          },
          "execution_count": 105
        }
      ]
    },
    {
      "cell_type": "code",
      "metadata": {
        "id": "7gR3SXLR2gOu",
        "colab_type": "code",
        "colab": {
          "base_uri": "https://localhost:8080/",
          "height": 34
        },
        "outputId": "a57a91d3-9a9c-4e95-bfb8-f034286fd8a0"
      },
      "source": [
        "# create a new dataframe of the weekend days\n",
        "# weekends start friday, saturday, sunday\n",
        "# filtering from the dataset where weekday == fri, sat or sun\n",
        "#\n",
        "ends = df_new[(df_new['weekday'] == 'Sunday') | (df_new['weekday'] == 'Saturday') | (df_new['weekday'] == 'Friday')]\n",
        "ends.shape"
      ],
      "execution_count": null,
      "outputs": [
        {
          "output_type": "execute_result",
          "data": {
            "text/plain": [
              "(10217, 11)"
            ]
          },
          "metadata": {
            "tags": []
          },
          "execution_count": 106
        }
      ]
    },
    {
      "cell_type": "code",
      "metadata": {
        "id": "IYfJAQa82gYK",
        "colab_type": "code",
        "colab": {
          "base_uri": "https://localhost:8080/",
          "height": 34
        },
        "outputId": "8a4a0bdb-2267-4d24-9be2-b32ae04dc70e"
      },
      "source": [
        "#create a new dataframe of the weekdays\n",
        "# filtering from the dataset where weekday != fri, sat or sun\n",
        "days = df_new[(df_new['weekday'] == 'Monday') | (df_new['weekday'] == 'Tuesday') | (df_new['weekday'] == 'Thursday') | (df_new['weekday'] == 'Wednesday')]\n",
        "days.shape"
      ],
      "execution_count": null,
      "outputs": [
        {
          "output_type": "execute_result",
          "data": {
            "text/plain": [
              "(20082, 11)"
            ]
          },
          "metadata": {
            "tags": []
          },
          "execution_count": 107
        }
      ]
    },
    {
      "cell_type": "code",
      "metadata": {
        "id": "laphXVtl2gc3",
        "colab_type": "code",
        "colab": {
          "base_uri": "https://localhost:8080/",
          "height": 419
        },
        "outputId": "ee4b5e23-97f3-44bd-ef79-8caed0114e61"
      },
      "source": [
        "#taking a sample of the weekends dataframe,sample size of 200\n",
        "end_sample = ends.sample(n=200)\n",
        "end_sample"
      ],
      "execution_count": null,
      "outputs": [
        {
          "output_type": "execute_result",
          "data": {
            "text/html": [
              "<div>\n",
              "<style scoped>\n",
              "    .dataframe tbody tr th:only-of-type {\n",
              "        vertical-align: middle;\n",
              "    }\n",
              "\n",
              "    .dataframe tbody tr th {\n",
              "        vertical-align: top;\n",
              "    }\n",
              "\n",
              "    .dataframe thead th {\n",
              "        text-align: right;\n",
              "    }\n",
              "</style>\n",
              "<table border=\"1\" class=\"dataframe\">\n",
              "  <thead>\n",
              "    <tr style=\"text-align: right;\">\n",
              "      <th></th>\n",
              "      <th>views</th>\n",
              "      <th>likes</th>\n",
              "      <th>dislikes</th>\n",
              "      <th>comment_count</th>\n",
              "      <th>category_id</th>\n",
              "      <th>weekday</th>\n",
              "      <th>date</th>\n",
              "      <th>time</th>\n",
              "      <th>hr</th>\n",
              "      <th>min</th>\n",
              "      <th>sec</th>\n",
              "    </tr>\n",
              "  </thead>\n",
              "  <tbody>\n",
              "    <tr>\n",
              "      <th>40806</th>\n",
              "      <td>872277.000</td>\n",
              "      <td>55898.000</td>\n",
              "      <td>913.000</td>\n",
              "      <td>5105.000</td>\n",
              "      <td>10</td>\n",
              "      <td>Friday</td>\n",
              "      <td>2018-06-08</td>\n",
              "      <td>04:00:22</td>\n",
              "      <td>4</td>\n",
              "      <td>0</td>\n",
              "      <td>22</td>\n",
              "    </tr>\n",
              "    <tr>\n",
              "      <th>12982</th>\n",
              "      <td>1292218.000</td>\n",
              "      <td>49464.000</td>\n",
              "      <td>709.000</td>\n",
              "      <td>2704.000</td>\n",
              "      <td>28</td>\n",
              "      <td>Sunday</td>\n",
              "      <td>2018-01-14</td>\n",
              "      <td>03:41:09</td>\n",
              "      <td>3</td>\n",
              "      <td>41</td>\n",
              "      <td>9</td>\n",
              "    </tr>\n",
              "    <tr>\n",
              "      <th>20368</th>\n",
              "      <td>951271.000</td>\n",
              "      <td>8067.000</td>\n",
              "      <td>677.000</td>\n",
              "      <td>739.000</td>\n",
              "      <td>25</td>\n",
              "      <td>Friday</td>\n",
              "      <td>2018-02-16</td>\n",
              "      <td>01:00:05</td>\n",
              "      <td>1</td>\n",
              "      <td>0</td>\n",
              "      <td>5</td>\n",
              "    </tr>\n",
              "    <tr>\n",
              "      <th>24909</th>\n",
              "      <td>1025238.000</td>\n",
              "      <td>35362.000</td>\n",
              "      <td>467.000</td>\n",
              "      <td>1410.000</td>\n",
              "      <td>10</td>\n",
              "      <td>Friday</td>\n",
              "      <td>2018-03-09</td>\n",
              "      <td>10:00:08</td>\n",
              "      <td>10</td>\n",
              "      <td>0</td>\n",
              "      <td>8</td>\n",
              "    </tr>\n",
              "    <tr>\n",
              "      <th>2848</th>\n",
              "      <td>364786.000</td>\n",
              "      <td>13622.000</td>\n",
              "      <td>776.000</td>\n",
              "      <td>1747.000</td>\n",
              "      <td>26</td>\n",
              "      <td>Saturday</td>\n",
              "      <td>2017-11-25</td>\n",
              "      <td>21:00:01</td>\n",
              "      <td>21</td>\n",
              "      <td>0</td>\n",
              "      <td>1</td>\n",
              "    </tr>\n",
              "    <tr>\n",
              "      <th>...</th>\n",
              "      <td>...</td>\n",
              "      <td>...</td>\n",
              "      <td>...</td>\n",
              "      <td>...</td>\n",
              "      <td>...</td>\n",
              "      <td>...</td>\n",
              "      <td>...</td>\n",
              "      <td>...</td>\n",
              "      <td>...</td>\n",
              "      <td>...</td>\n",
              "      <td>...</td>\n",
              "    </tr>\n",
              "    <tr>\n",
              "      <th>19372</th>\n",
              "      <td>1520884.000</td>\n",
              "      <td>17200.000</td>\n",
              "      <td>939.000</td>\n",
              "      <td>1359.000</td>\n",
              "      <td>23</td>\n",
              "      <td>Saturday</td>\n",
              "      <td>2018-02-10</td>\n",
              "      <td>05:01:39</td>\n",
              "      <td>5</td>\n",
              "      <td>1</td>\n",
              "      <td>39</td>\n",
              "    </tr>\n",
              "    <tr>\n",
              "      <th>24348</th>\n",
              "      <td>437061.000</td>\n",
              "      <td>22452.000</td>\n",
              "      <td>212.000</td>\n",
              "      <td>1636.000</td>\n",
              "      <td>15</td>\n",
              "      <td>Sunday</td>\n",
              "      <td>2018-03-04</td>\n",
              "      <td>09:00:01</td>\n",
              "      <td>9</td>\n",
              "      <td>0</td>\n",
              "      <td>1</td>\n",
              "    </tr>\n",
              "    <tr>\n",
              "      <th>10497</th>\n",
              "      <td>381223.000</td>\n",
              "      <td>11674.000</td>\n",
              "      <td>208.000</td>\n",
              "      <td>1812.000</td>\n",
              "      <td>19</td>\n",
              "      <td>Sunday</td>\n",
              "      <td>2017-12-31</td>\n",
              "      <td>17:44:53</td>\n",
              "      <td>17</td>\n",
              "      <td>44</td>\n",
              "      <td>53</td>\n",
              "    </tr>\n",
              "    <tr>\n",
              "      <th>4689</th>\n",
              "      <td>143434.000</td>\n",
              "      <td>20383.000</td>\n",
              "      <td>157.000</td>\n",
              "      <td>766.000</td>\n",
              "      <td>23</td>\n",
              "      <td>Sunday</td>\n",
              "      <td>2017-12-03</td>\n",
              "      <td>17:48:44</td>\n",
              "      <td>17</td>\n",
              "      <td>48</td>\n",
              "      <td>44</td>\n",
              "    </tr>\n",
              "    <tr>\n",
              "      <th>8434</th>\n",
              "      <td>50722.000</td>\n",
              "      <td>1239.000</td>\n",
              "      <td>70.000</td>\n",
              "      <td>104.000</td>\n",
              "      <td>24</td>\n",
              "      <td>Saturday</td>\n",
              "      <td>2017-12-23</td>\n",
              "      <td>17:13:17</td>\n",
              "      <td>17</td>\n",
              "      <td>13</td>\n",
              "      <td>17</td>\n",
              "    </tr>\n",
              "  </tbody>\n",
              "</table>\n",
              "<p>200 rows × 11 columns</p>\n",
              "</div>"
            ],
            "text/plain": [
              "            views     likes  dislikes  comment_count  ...      time  hr min sec\n",
              "40806  872277.000 55898.000   913.000       5105.000  ...  04:00:22   4   0  22\n",
              "12982 1292218.000 49464.000   709.000       2704.000  ...  03:41:09   3  41   9\n",
              "20368  951271.000  8067.000   677.000        739.000  ...  01:00:05   1   0   5\n",
              "24909 1025238.000 35362.000   467.000       1410.000  ...  10:00:08  10   0   8\n",
              "2848   364786.000 13622.000   776.000       1747.000  ...  21:00:01  21   0   1\n",
              "...           ...       ...       ...            ...  ...       ...  ..  ..  ..\n",
              "19372 1520884.000 17200.000   939.000       1359.000  ...  05:01:39   5   1  39\n",
              "24348  437061.000 22452.000   212.000       1636.000  ...  09:00:01   9   0   1\n",
              "10497  381223.000 11674.000   208.000       1812.000  ...  17:44:53  17  44  53\n",
              "4689   143434.000 20383.000   157.000        766.000  ...  17:48:44  17  48  44\n",
              "8434    50722.000  1239.000    70.000        104.000  ...  17:13:17  17  13  17\n",
              "\n",
              "[200 rows x 11 columns]"
            ]
          },
          "metadata": {
            "tags": []
          },
          "execution_count": 108
        }
      ]
    },
    {
      "cell_type": "code",
      "metadata": {
        "id": "XGcHSqNw2gps",
        "colab_type": "code",
        "colab": {
          "base_uri": "https://localhost:8080/",
          "height": 419
        },
        "outputId": "acbe41ad-0fba-4b73-bee0-1e8df4d27cd6"
      },
      "source": [
        "#taking a sample of the weekday dataframe,sample size of 200\n",
        "day_sample = days.sample(n=200)\n",
        "day_sample"
      ],
      "execution_count": null,
      "outputs": [
        {
          "output_type": "execute_result",
          "data": {
            "text/html": [
              "<div>\n",
              "<style scoped>\n",
              "    .dataframe tbody tr th:only-of-type {\n",
              "        vertical-align: middle;\n",
              "    }\n",
              "\n",
              "    .dataframe tbody tr th {\n",
              "        vertical-align: top;\n",
              "    }\n",
              "\n",
              "    .dataframe thead th {\n",
              "        text-align: right;\n",
              "    }\n",
              "</style>\n",
              "<table border=\"1\" class=\"dataframe\">\n",
              "  <thead>\n",
              "    <tr style=\"text-align: right;\">\n",
              "      <th></th>\n",
              "      <th>views</th>\n",
              "      <th>likes</th>\n",
              "      <th>dislikes</th>\n",
              "      <th>comment_count</th>\n",
              "      <th>category_id</th>\n",
              "      <th>weekday</th>\n",
              "      <th>date</th>\n",
              "      <th>time</th>\n",
              "      <th>hr</th>\n",
              "      <th>min</th>\n",
              "      <th>sec</th>\n",
              "    </tr>\n",
              "  </thead>\n",
              "  <tbody>\n",
              "    <tr>\n",
              "      <th>8676</th>\n",
              "      <td>541396.000</td>\n",
              "      <td>19094.000</td>\n",
              "      <td>542.000</td>\n",
              "      <td>851.000</td>\n",
              "      <td>23</td>\n",
              "      <td>Thursday</td>\n",
              "      <td>2017-12-21</td>\n",
              "      <td>18:00:00</td>\n",
              "      <td>18</td>\n",
              "      <td>0</td>\n",
              "      <td>0</td>\n",
              "    </tr>\n",
              "    <tr>\n",
              "      <th>3006</th>\n",
              "      <td>1017187.000</td>\n",
              "      <td>28060.000</td>\n",
              "      <td>950.000</td>\n",
              "      <td>3883.000</td>\n",
              "      <td>24</td>\n",
              "      <td>Monday</td>\n",
              "      <td>2017-11-27</td>\n",
              "      <td>20:00:09</td>\n",
              "      <td>20</td>\n",
              "      <td>0</td>\n",
              "      <td>9</td>\n",
              "    </tr>\n",
              "    <tr>\n",
              "      <th>21453</th>\n",
              "      <td>312934.000</td>\n",
              "      <td>2679.000</td>\n",
              "      <td>99.000</td>\n",
              "      <td>280.000</td>\n",
              "      <td>28</td>\n",
              "      <td>Wednesday</td>\n",
              "      <td>2018-02-28</td>\n",
              "      <td>08:00:13</td>\n",
              "      <td>8</td>\n",
              "      <td>0</td>\n",
              "      <td>13</td>\n",
              "    </tr>\n",
              "    <tr>\n",
              "      <th>16030</th>\n",
              "      <td>350788.000</td>\n",
              "      <td>5254.000</td>\n",
              "      <td>2014.000</td>\n",
              "      <td>820.000</td>\n",
              "      <td>22</td>\n",
              "      <td>Thursday</td>\n",
              "      <td>2018-02-01</td>\n",
              "      <td>07:00:01</td>\n",
              "      <td>7</td>\n",
              "      <td>0</td>\n",
              "      <td>1</td>\n",
              "    </tr>\n",
              "    <tr>\n",
              "      <th>17275</th>\n",
              "      <td>30667.000</td>\n",
              "      <td>1470.000</td>\n",
              "      <td>115.000</td>\n",
              "      <td>241.000</td>\n",
              "      <td>28</td>\n",
              "      <td>Wednesday</td>\n",
              "      <td>2018-02-07</td>\n",
              "      <td>16:08:44</td>\n",
              "      <td>16</td>\n",
              "      <td>8</td>\n",
              "      <td>44</td>\n",
              "    </tr>\n",
              "    <tr>\n",
              "      <th>...</th>\n",
              "      <td>...</td>\n",
              "      <td>...</td>\n",
              "      <td>...</td>\n",
              "      <td>...</td>\n",
              "      <td>...</td>\n",
              "      <td>...</td>\n",
              "      <td>...</td>\n",
              "      <td>...</td>\n",
              "      <td>...</td>\n",
              "      <td>...</td>\n",
              "      <td>...</td>\n",
              "    </tr>\n",
              "    <tr>\n",
              "      <th>923</th>\n",
              "      <td>111222.000</td>\n",
              "      <td>6724.000</td>\n",
              "      <td>96.000</td>\n",
              "      <td>855.000</td>\n",
              "      <td>24</td>\n",
              "      <td>Tuesday</td>\n",
              "      <td>2017-11-14</td>\n",
              "      <td>19:48:51</td>\n",
              "      <td>19</td>\n",
              "      <td>48</td>\n",
              "      <td>51</td>\n",
              "    </tr>\n",
              "    <tr>\n",
              "      <th>6908</th>\n",
              "      <td>967640.000</td>\n",
              "      <td>6348.000</td>\n",
              "      <td>356.000</td>\n",
              "      <td>788.000</td>\n",
              "      <td>24</td>\n",
              "      <td>Wednesday</td>\n",
              "      <td>2017-12-13</td>\n",
              "      <td>14:12:41</td>\n",
              "      <td>14</td>\n",
              "      <td>12</td>\n",
              "      <td>41</td>\n",
              "    </tr>\n",
              "    <tr>\n",
              "      <th>8101</th>\n",
              "      <td>1692712.000</td>\n",
              "      <td>83803.000</td>\n",
              "      <td>2011.000</td>\n",
              "      <td>4116.000</td>\n",
              "      <td>10</td>\n",
              "      <td>Wednesday</td>\n",
              "      <td>2017-12-20</td>\n",
              "      <td>05:00:02</td>\n",
              "      <td>5</td>\n",
              "      <td>0</td>\n",
              "      <td>2</td>\n",
              "    </tr>\n",
              "    <tr>\n",
              "      <th>23041</th>\n",
              "      <td>755441.000</td>\n",
              "      <td>24262.000</td>\n",
              "      <td>427.000</td>\n",
              "      <td>2042.000</td>\n",
              "      <td>27</td>\n",
              "      <td>Tuesday</td>\n",
              "      <td>2018-03-06</td>\n",
              "      <td>15:30:00</td>\n",
              "      <td>15</td>\n",
              "      <td>30</td>\n",
              "      <td>0</td>\n",
              "    </tr>\n",
              "    <tr>\n",
              "      <th>39409</th>\n",
              "      <td>505018.000</td>\n",
              "      <td>8472.000</td>\n",
              "      <td>487.000</td>\n",
              "      <td>889.000</td>\n",
              "      <td>24</td>\n",
              "      <td>Thursday</td>\n",
              "      <td>2018-05-31</td>\n",
              "      <td>16:05:40</td>\n",
              "      <td>16</td>\n",
              "      <td>5</td>\n",
              "      <td>40</td>\n",
              "    </tr>\n",
              "  </tbody>\n",
              "</table>\n",
              "<p>200 rows × 11 columns</p>\n",
              "</div>"
            ],
            "text/plain": [
              "            views     likes  dislikes  comment_count  ...      time  hr min sec\n",
              "8676   541396.000 19094.000   542.000        851.000  ...  18:00:00  18   0   0\n",
              "3006  1017187.000 28060.000   950.000       3883.000  ...  20:00:09  20   0   9\n",
              "21453  312934.000  2679.000    99.000        280.000  ...  08:00:13   8   0  13\n",
              "16030  350788.000  5254.000  2014.000        820.000  ...  07:00:01   7   0   1\n",
              "17275   30667.000  1470.000   115.000        241.000  ...  16:08:44  16   8  44\n",
              "...           ...       ...       ...            ...  ...       ...  ..  ..  ..\n",
              "923    111222.000  6724.000    96.000        855.000  ...  19:48:51  19  48  51\n",
              "6908   967640.000  6348.000   356.000        788.000  ...  14:12:41  14  12  41\n",
              "8101  1692712.000 83803.000  2011.000       4116.000  ...  05:00:02   5   0   2\n",
              "23041  755441.000 24262.000   427.000       2042.000  ...  15:30:00  15  30   0\n",
              "39409  505018.000  8472.000   487.000        889.000  ...  16:05:40  16   5  40\n",
              "\n",
              "[200 rows x 11 columns]"
            ]
          },
          "metadata": {
            "tags": []
          },
          "execution_count": 109
        }
      ]
    },
    {
      "cell_type": "code",
      "metadata": {
        "id": "8c-S1jjU3Qzj",
        "colab_type": "code",
        "colab": {
          "base_uri": "https://localhost:8080/",
          "height": 51
        },
        "outputId": "311884db-10f4-40c2-ac90-0561342fb346"
      },
      "source": [
        "# calculating the sample means of the views.\n",
        "day_mean_samp = day_sample['views'].mean()\n",
        "end_mean_samp = end_sample['views'].mean()\n",
        "\n",
        "print(f'The sample mean number of views for the weekday is {day_mean_samp}')\n",
        "print(f'The sample mean number of views for the weekend is {end_mean_samp}')"
      ],
      "execution_count": null,
      "outputs": [
        {
          "output_type": "stream",
          "text": [
            "The sample mean number of views for the weekday is 746961.35\n",
            "The sample mean number of views for the weekend is 825613.42\n"
          ],
          "name": "stdout"
        }
      ]
    },
    {
      "cell_type": "code",
      "metadata": {
        "id": "gV7zQIfrfUUO",
        "colab_type": "code",
        "colab": {
          "base_uri": "https://localhost:8080/",
          "height": 51
        },
        "outputId": "e53551ab-d598-4726-8f82-a12907f57927"
      },
      "source": [
        "# calculating the pop mean of the views.\n",
        "day_mean_pop = days['views'].mean()\n",
        "end_mean_pop = ends['views'].mean()\n",
        "\n",
        "print(f'The population mean number of views for the weekday is {day_mean_pop}')\n",
        "print(f'The population mean number of views for the weekend is {end_mean_pop}')"
      ],
      "execution_count": null,
      "outputs": [
        {
          "output_type": "stream",
          "text": [
            "The population mean number of views for the weekday is 696858.7160143412\n",
            "The population mean number of views for the weekend is 745256.3370852501\n"
          ],
          "name": "stdout"
        }
      ]
    },
    {
      "cell_type": "code",
      "metadata": {
        "id": "uCSzbeeMikYk",
        "colab_type": "code",
        "colab": {
          "base_uri": "https://localhost:8080/",
          "height": 51
        },
        "outputId": "4d6a1d1d-1146-48a2-b118-b7d9bb19f629"
      },
      "source": [
        "# calculating the standard deviation of the sample views\n",
        "day_std_samp = day_sample['views'].std()\n",
        "end_std_samp = end_sample['views'].std()\n",
        "\n",
        "print(f'The sample standard deviation of views for the weekday is {day_std_samp}')\n",
        "print(f'The sample standard deviation of views for the weekend is {end_std_samp}')"
      ],
      "execution_count": null,
      "outputs": [
        {
          "output_type": "stream",
          "text": [
            "The sample standard deviation of views for the weekday is 816942.6410722836\n",
            "The sample standard deviation of views for the weekend is 827457.2507017984\n"
          ],
          "name": "stdout"
        }
      ]
    },
    {
      "cell_type": "code",
      "metadata": {
        "id": "J8hKuSmgj6cV",
        "colab_type": "code",
        "colab": {
          "base_uri": "https://localhost:8080/",
          "height": 51
        },
        "outputId": "a0a01094-e57d-4085-a2e4-26144048a234"
      },
      "source": [
        "# calculating the standard deviation of the population views\n",
        "day_std_pop = days['views'].mean()\n",
        "end_std_pop = ends['views'].mean()\n",
        "\n",
        "print(f'The population standard deviation of views for the weekday is {day_std_pop}')\n",
        "print(f'The population standard deviation of views for the weekend is {end_std_pop}')"
      ],
      "execution_count": null,
      "outputs": [
        {
          "output_type": "stream",
          "text": [
            "The population standard deviation of views for the weekday is 696858.7160143412\n",
            "The population standard deviation of views for the weekend is 745256.3370852501\n"
          ],
          "name": "stdout"
        }
      ]
    },
    {
      "cell_type": "markdown",
      "metadata": {
        "id": "uSKCYNylBk0p",
        "colab_type": "text"
      },
      "source": [
        "###Test Statistic"
      ]
    },
    {
      "cell_type": "markdown",
      "metadata": {
        "id": "vo5kQ_gZB4vX",
        "colab_type": "text"
      },
      "source": [
        "I will be using the z-score since I have a sample that's greater than 30\n",
        "\n",
        "> n > 30\n",
        "\n",
        "\n",
        "> α = 0.05\n",
        "\n",
        "\n",
        "\n",
        "> ![image.png](data:image/png;base64,iVBORw0KGgoAAAANSUhEUgAAAHYAAAAvCAYAAAA2Jj4uAAAEwklEQVR4Ae3ay60lNRAG4AKNkFggMRILlpABZABEMGQALFlBBpABZMBEAASAYFYsIQPIADIAfaOuka9vP+zDuZzuHpdk9Tm22131/1XlR3fEkIHAQGAgsBcEvo6IXxfKm3tRcuhxH4F37lfdqXkjIt5aKHc6HujPls0HMmVe1U8i4pv5pue1r6y0ZVNLn+y7l+uHEfF0L8pcW48PIuKXhUHfi4h/pvafI0L5rej7d0T8NdUb44ei7Sg/TTHK6eTPiHh/w6ovJ4J/r/pJZcj9IiKOOs/KNDAQvacRhLVGGQJF77uT9YgUvWcARMSeKiXz1E8b3fTbidhMW4BovbfxETfrxllLp72ZItd4cBpjHm2R7P/H5N2ftdz0gH0+nkn/l65ypWMZ6RSOChhe2rOatUByz63TlvRPj3IaeDwt5NjVKzB4tgO7evWe7S+l8tIesSUCaOu83DN2T1+6106ZjpprgJ7x9P1uZXfQO9ZN+wOHl7ZGrDT14+QMQO0B0EJLdLWUrRU60GSOeosmi3DU0h46c0Kr9i1nhEc95k0JuvThPYYAm9EIqhdRLc+3V/a8lmKlviaI41jGKsVCkOOlSM3qUmQbBC9JDx5LY+yiniEMLz18TjGkimxAEQsUwLbcO91y1cvc/JoLu9IpkFhGYP2/VorDlv3r9sP8zzlpjVgrZgQmqWkcAJB7yUIlx7j0yiE9uzwQkXLVcUK/HZHWEcghrOjnBAacdytdz927u7r08po0imoDjuNC11q+moB0xLjmGPV91/ifToUogmCEIZYgRx0dywjMSJ+63bmwwakaZzi8MEY01lGHSICUpdzrmquyjZf7PUf+QwBEZwTSW+FYVrOmh/yfutQRK5LrI9HUkXMbN50l6w97ZTxgjiIZdS0EIJLTpbB1KdXqyzGahadLCWulRcnmB3Z2lHJtEcr5qnOI/7U7cjLlbj2YTchK2zhwRnN5ryzAAZDbLAajiKtVGRIVx3HqgTo3xzU/4AodgaUcQXIKaNX1yUSa6UNwzclHKyl6rv/zOsTVXsKDvBXR1rIZXxz8ig029/aaexepFFnXEkElqrvOmEVmfaaapIrWvZCaINUOmPVnvnLmLlKBIb2Vq0l1mZq78vmZkT2DbaJXpA5Sz8DmZEMulurUvGaiFJGLhZbr0lJ+7Rmj7T8gIEJFag+p+ThL8Z6S9y1dX42I10ZpwuDREojqLaCQWp94mHsvIXrtWS1tn0/60GmUdQx+WgIUec5akZqb5OzrTUJ9lJdt5bUnWvXdktcj4u1RmjCYPV9QiVR7Vac7pfhv77RFBMdwFttazMNDHhABpOYBRLndQaS9qzbbniEHQ0DkmL+8SvI7v6DPV0vaWtLwwcw+v7qi0qLJGaTid13Oj8KwcCAwEBgIDAQGAgOBPSBgXXLRm5Y9KD90mEfA1k/xItx59xHeC89bMmpfIODVZnmw4kBn6UuHFzeNH/tHAKn29xmlSK2PX/dvxdDwHgKIzJcRjmDHu+p7EB23ApnmWGkYybOH78c17+XSPL/9Kj8O8JEaYru/QXq5oNu3tbY3SCw/oJOWy4XUvi0Y2i0i4FtfEYvQ76cPD8bCaRGuYzV4lenV5ta76WNZNbQ9BgL/AqDIUpB31g7BAAAAAElFTkSuQmCC)\n",
        "\n",
        "\n",
        "\n",
        "\n",
        "\n",
        "\n",
        "\n",
        "\n"
      ]
    },
    {
      "cell_type": "code",
      "metadata": {
        "id": "u4zSHQ7NK2_C",
        "colab_type": "code",
        "colab": {}
      },
      "source": [
        "# selecting the views of the weekdays and weekends.\n",
        "# in order to make a comparison.\n",
        "# then calculate the ztest and the p-vale.\n",
        "# vdays = days['views'] ---> selects the views of the weekdays.\n",
        "# vends = ends['views'] ---> selects the viewws of the weekends.\n",
        "#\n",
        "#\n",
        "vdays = days['views']\n",
        "vends = ends['views']"
      ],
      "execution_count": null,
      "outputs": []
    },
    {
      "cell_type": "code",
      "metadata": {
        "id": "nc0JH28l3Q-j",
        "colab_type": "code",
        "colab": {
          "base_uri": "https://localhost:8080/",
          "height": 34
        },
        "outputId": "cf90bed4-7ac1-459c-ef7d-c1bdc844458f"
      },
      "source": [
        "#calcualting the z score and p value\n",
        "# x1: array_like, 1-D or 2-D ---> first of the two independent samples\n",
        "# x2: array_like, 1-D or 2-D ---> second of the two independent samples\n",
        "# value: float --->  In the two sample case, value is the difference between mean of x1 and mean of x2 under the Null hypothesis.\n",
        "# test for mean based on normal distribution, one or two samples\n",
        "#\n",
        "#\n",
        "from statsmodels.stats import weightstats as stests #For z test calculation\n",
        "# test for mean based on normal distribution, one or two samples\n",
        "# In the case of two samples, the samples are assumed to be independent.\n",
        "\n",
        "def zscore(x, y):\n",
        "    ztest ,pvalue = stests.ztest(x, x2=y, value=0,alternative='two-sided') # -----> returns the p-value and the test statistic.\n",
        "    print(f'The p-value is: {pvalue}')\n",
        "\n",
        "zscore(vdays,vends)"
      ],
      "execution_count": null,
      "outputs": [
        {
          "output_type": "stream",
          "text": [
            "The p-value is: 1.5788440451774486e-07\n"
          ],
          "name": "stdout"
        }
      ]
    },
    {
      "cell_type": "markdown",
      "metadata": {
        "id": "_SalvNImQtIm",
        "colab_type": "text"
      },
      "source": [
        "The p-value is greater than the level of significance, so I neither reject the null hypothesis nor do I accept it."
      ]
    },
    {
      "cell_type": "markdown",
      "metadata": {
        "id": "oC9nPZKetB8K",
        "colab_type": "text"
      },
      "source": [
        "###**Conclusion**\n",
        "\n",
        "Here are some of the conclusions we arrived at:\n",
        "\n",
        "*   We analyzed a dataset that contains information about YouTube trending videos. The dataset was collected in **2017** and **2018**. It contains **40949** video entries.\n",
        "*  Trending videos that have most views have a title length between 33 and 60 characters approximately.\n",
        "\n",
        "*   The delimiters  **-**  and | were common in trending video titles.\n",
        "*   The words 'Official', 'Video', 'Trailer' and 'How' were common also in trending video titles.\n",
        "\n",
        "*   There is a strong positive correlation between the number of views and the number of likes of trending videos: As one of them increases, the other increases.\n",
        "*   There is a moderate positive correlation also between the number of likes and the number of comments, and a slightly weaker one between the number of dislikes and the number of comments.\n",
        "\n",
        "*   Since p-value is greater than the level of significance, so I neither reject the null hypothesis and accept the alternative hypothesis, There’s no difference in the number of views between videos released on weekdays and weekends.\n",
        "\n",
        "\n",
        "\n",
        "\n",
        "\n",
        "\n",
        "\n"
      ]
    }
  ]
}